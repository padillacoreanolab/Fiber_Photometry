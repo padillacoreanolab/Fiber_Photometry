{
 "cells": [
  {
   "cell_type": "code",
   "execution_count": 1,
   "metadata": {},
   "outputs": [],
   "source": [
    "import os\n",
    "import sys\n",
    "\n",
    "PROJECT_ROOT = os.path.abspath(os.path.join(os.getcwd(), '..'))\n",
    "sys.path.append(PROJECT_ROOT)\n",
    "\n",
    "from trial_class import *\n",
    "from experiment_class import Experiment\n",
    "from hd_extension import *"
   ]
  },
  {
   "cell_type": "code",
   "execution_count": 2,
   "metadata": {},
   "outputs": [],
   "source": [
    "experiment_path = r\"C:\\Users\\alber\\OneDrive\\Desktop\\PC_Lab\\Photometry\\Pilot_2\\Combined\\Hab_Dishab\\All\\nac\"\n",
    "csv_base_path = r\"C:\\Users\\alber\\OneDrive\\Desktop\\PC_Lab\\Photometry\\Pilot_2\\Combined\\Hab_Dishab\\All\\nac_csvs\"\n",
    "brain_region = '#15616F'\n",
    "\n",
    "# NAc: #15616F\n",
    "# mPFC: #FFAF00\n",
    "\n",
    "# experiment_path = r\"C:\\Users\\alber\\OneDrive\\Desktop\\PC_Lab\\Photometry\\Pilot_2\\Combined\\Hab_Dishab\\All\\mpfc\"\n",
    "# csv_base_path = r\"C:\\Users\\alber\\OneDrive\\Desktop\\PC_Lab\\Photometry\\Pilot_2\\Combined\\Hab_Dishab\\All\\mpfc_csvs\"\n",
    "# brain_region = '#FFAF00'\n"
   ]
  },
  {
   "cell_type": "code",
   "execution_count": 3,
   "metadata": {},
   "outputs": [
    {
     "name": "stdout",
     "output_type": "stream",
     "text": [
      "Found Synapse note file: C:\\Users\\alber\\OneDrive\\Desktop\\PC_Lab\\Photometry\\Pilot_2\\Combined\\Hab_Dishab\\All\\nac\\nn1-250115-052028\\Notes.txt\n",
      "read from t=0s to t=1351.05s\n",
      "Found Synapse note file: C:\\Users\\alber\\OneDrive\\Desktop\\PC_Lab\\Photometry\\Pilot_2\\Combined\\Hab_Dishab\\All\\nac\\nn2-250115-054951\\Notes.txt\n",
      "read from t=0s to t=1349.96s\n",
      "Found Synapse note file: C:\\Users\\alber\\OneDrive\\Desktop\\PC_Lab\\Photometry\\Pilot_2\\Combined\\Hab_Dishab\\All\\nac\\nn3-250115-064154\\Notes.txt\n",
      "read from t=0s to t=1377.67s\n",
      "Found Synapse note file: C:\\Users\\alber\\OneDrive\\Desktop\\PC_Lab\\Photometry\\Pilot_2\\Combined\\Hab_Dishab\\All\\nac\\nn4-250115-072812\\Notes.txt\n",
      "read from t=0s to t=1378.65s\n",
      "Found Synapse note file: C:\\Users\\alber\\OneDrive\\Desktop\\PC_Lab\\Photometry\\Pilot_2\\Combined\\Hab_Dishab\\All\\nac\\nn5-250114-083827\\Notes.txt\n",
      "read from t=0s to t=1324.46s\n",
      "Found Synapse note file: C:\\Users\\alber\\OneDrive\\Desktop\\PC_Lab\\Photometry\\Pilot_2\\Combined\\Hab_Dishab\\All\\nac\\nn6-250114-093117\\Notes.txt\n",
      "read from t=0s to t=1368.25s\n",
      "Found Synapse note file: C:\\Users\\alber\\OneDrive\\Desktop\\PC_Lab\\Photometry\\Pilot_2\\Combined\\Hab_Dishab\\All\\nac\\nn7-250114-100133\\Notes.txt\n",
      "read from t=0s to t=1376.66s\n",
      "Found Synapse note file: C:\\Users\\alber\\OneDrive\\Desktop\\PC_Lab\\Photometry\\Pilot_2\\Combined\\Hab_Dishab\\All\\nac\\nn8-250114-103839\\Notes.txt\n",
      "read from t=0s to t=1352.76s\n",
      "Processing nn1-250115-052028...\n",
      "Processing nn2-250115-054951...\n",
      "Processing nn3-250115-064154...\n",
      "Processing nn4-250115-072812...\n",
      "Processing nn5-250114-083827...\n",
      "Processing nn6-250114-093117...\n",
      "Processing nn7-250114-100133...\n",
      "Processing nn8-250114-103839...\n"
     ]
    }
   ],
   "source": [
    "# groups csv + experiment data into one variable\n",
    "experiment = Experiment(experiment_path, csv_base_path)\n",
    "\n",
    "# batch process the data, removing the specified time segments for subjects\n",
    "experiment.default_batch_process()"
   ]
  },
  {
   "cell_type": "code",
   "execution_count": null,
   "metadata": {},
   "outputs": [],
   "source": [
    "bout_definitions = [\n",
    "    {'prefix': 's1', 'introduced': 's1_Introduced', 'removed': 's1_Removed'},\n",
    "    {'prefix': 's2', 'introduced': 's2_Introduced', 'removed': 's2_Removed'}\n",
    "]\n",
    "\n",
    "experiment.group_extract_manual_annotations(bout_definitions, first_only=False)"
   ]
  },
  {
   "cell_type": "markdown",
   "metadata": {},
   "source": [
    "# Total Investigation Time & Average Bout Duration"
   ]
  },
  {
   "cell_type": "markdown",
   "metadata": {},
   "source": [
    "Functions from hd_extension:<br>\n",
    "get_trial_dataframes(experiment)<br>\n",
    "create_metadata_dataframe(exp_dict, behavior=\"Investigation\")"
   ]
  },
  {
   "cell_type": "code",
   "execution_count": 5,
   "metadata": {},
   "outputs": [],
   "source": [
    "exp_dict = get_trial_dataframes(experiment)"
   ]
  },
  {
   "cell_type": "code",
   "execution_count": 6,
   "metadata": {},
   "outputs": [
    {
     "ename": "TypeError",
     "evalue": "'NoneType' object is not subscriptable",
     "output_type": "error",
     "traceback": [
      "\u001b[1;31m---------------------------------------------------------------------------\u001b[0m",
      "\u001b[1;31mTypeError\u001b[0m                                 Traceback (most recent call last)",
      "Cell \u001b[1;32mIn[6], line 2\u001b[0m\n\u001b[0;32m      1\u001b[0m desired_bouts \u001b[38;5;241m=\u001b[39m [\u001b[38;5;124m'\u001b[39m\u001b[38;5;124ms1-1\u001b[39m\u001b[38;5;124m'\u001b[39m, \u001b[38;5;124m'\u001b[39m\u001b[38;5;124ms1-2\u001b[39m\u001b[38;5;124m'\u001b[39m, \u001b[38;5;124m'\u001b[39m\u001b[38;5;124ms1-3\u001b[39m\u001b[38;5;124m'\u001b[39m, \u001b[38;5;124m'\u001b[39m\u001b[38;5;124ms1-4\u001b[39m\u001b[38;5;124m'\u001b[39m, \u001b[38;5;124m'\u001b[39m\u001b[38;5;124ms1-5\u001b[39m\u001b[38;5;124m'\u001b[39m, \u001b[38;5;124m'\u001b[39m\u001b[38;5;124ms2-1\u001b[39m\u001b[38;5;124m'\u001b[39m]\n\u001b[1;32m----> 2\u001b[0m metadata_df \u001b[38;5;241m=\u001b[39m \u001b[43mcreate_metadata_dataframe\u001b[49m\u001b[43m(\u001b[49m\u001b[43mexp_dict\u001b[49m\u001b[43m,\u001b[49m\u001b[43m \u001b[49m\u001b[43mbehavior\u001b[49m\u001b[38;5;241;43m=\u001b[39;49m\u001b[38;5;124;43m\"\u001b[39;49m\u001b[38;5;124;43mInvestigation\u001b[39;49m\u001b[38;5;124;43m\"\u001b[39;49m\u001b[43m,\u001b[49m\u001b[43m \u001b[49m\u001b[43mdesired_bouts\u001b[49m\u001b[38;5;241;43m=\u001b[39;49m\u001b[43mdesired_bouts\u001b[49m\u001b[43m)\u001b[49m\n",
      "File \u001b[1;32mc:\\Users\\alber\\OneDrive\\Documents\\GitHub\\Fiber_Photometry\\Hab_Dishab\\hd_extension.py:66\u001b[0m, in \u001b[0;36mcreate_metadata_dataframe\u001b[1;34m(trial_data, behavior, desired_bouts)\u001b[0m\n\u001b[0;32m     63\u001b[0m \u001b[38;5;66;03m# Process each bout for the current subject.\u001b[39;00m\n\u001b[0;32m     64\u001b[0m \u001b[38;5;28;01mfor\u001b[39;00m bout \u001b[38;5;129;01min\u001b[39;00m bouts:\n\u001b[0;32m     65\u001b[0m     \u001b[38;5;66;03m# Filter the subject's DataFrame for the current bout.\u001b[39;00m\n\u001b[1;32m---> 66\u001b[0m     df_bout \u001b[38;5;241m=\u001b[39m df[\u001b[43mdf\u001b[49m\u001b[43m[\u001b[49m\u001b[38;5;124;43m\"\u001b[39;49m\u001b[38;5;124;43mBout\u001b[39;49m\u001b[38;5;124;43m\"\u001b[39;49m\u001b[43m]\u001b[49m \u001b[38;5;241m==\u001b[39m bout]\n\u001b[0;32m     67\u001b[0m     \u001b[38;5;66;03m# Then, filter for the specified behavior.\u001b[39;00m\n\u001b[0;32m     68\u001b[0m     df_behavior \u001b[38;5;241m=\u001b[39m df_bout[df_bout[\u001b[38;5;124m\"\u001b[39m\u001b[38;5;124mBehavior\u001b[39m\u001b[38;5;124m\"\u001b[39m] \u001b[38;5;241m==\u001b[39m behavior]\n",
      "\u001b[1;31mTypeError\u001b[0m: 'NoneType' object is not subscriptable"
     ]
    }
   ],
   "source": [
    "desired_bouts = ['s1-1', 's1-2', 's1-3', 's1-4', 's1-5', 's2-1']\n",
    "metadata_df = create_metadata_dataframe(exp_dict, behavior=\"Investigation\", desired_bouts=desired_bouts)"
   ]
  },
  {
   "cell_type": "code",
   "execution_count": null,
   "metadata": {},
   "outputs": [
    {
     "data": {
      "text/html": [
       "<div>\n",
       "<style scoped>\n",
       "    .dataframe tbody tr th:only-of-type {\n",
       "        vertical-align: middle;\n",
       "    }\n",
       "\n",
       "    .dataframe tbody tr th {\n",
       "        vertical-align: top;\n",
       "    }\n",
       "\n",
       "    .dataframe thead th {\n",
       "        text-align: right;\n",
       "    }\n",
       "</style>\n",
       "<table border=\"1\" class=\"dataframe\">\n",
       "  <thead>\n",
       "    <tr style=\"text-align: right;\">\n",
       "      <th></th>\n",
       "      <th>Subject</th>\n",
       "      <th>Bout</th>\n",
       "      <th>Behavior</th>\n",
       "      <th>Total Investigation Time</th>\n",
       "      <th>Average Bout Duration</th>\n",
       "    </tr>\n",
       "  </thead>\n",
       "  <tbody>\n",
       "    <tr>\n",
       "      <th>0</th>\n",
       "      <td>nn1</td>\n",
       "      <td>s1-1</td>\n",
       "      <td>Investigation</td>\n",
       "      <td>10.6</td>\n",
       "      <td>3.533333</td>\n",
       "    </tr>\n",
       "    <tr>\n",
       "      <th>1</th>\n",
       "      <td>nn1</td>\n",
       "      <td>s1-2</td>\n",
       "      <td>Investigation</td>\n",
       "      <td>5.2</td>\n",
       "      <td>1.733333</td>\n",
       "    </tr>\n",
       "    <tr>\n",
       "      <th>2</th>\n",
       "      <td>nn1</td>\n",
       "      <td>s1-3</td>\n",
       "      <td>Investigation</td>\n",
       "      <td>9.8</td>\n",
       "      <td>1.960000</td>\n",
       "    </tr>\n",
       "    <tr>\n",
       "      <th>3</th>\n",
       "      <td>nn1</td>\n",
       "      <td>s1-4</td>\n",
       "      <td>Investigation</td>\n",
       "      <td>2.7</td>\n",
       "      <td>1.350000</td>\n",
       "    </tr>\n",
       "    <tr>\n",
       "      <th>4</th>\n",
       "      <td>nn1</td>\n",
       "      <td>s1-5</td>\n",
       "      <td>Investigation</td>\n",
       "      <td>12.6</td>\n",
       "      <td>2.520000</td>\n",
       "    </tr>\n",
       "  </tbody>\n",
       "</table>\n",
       "</div>"
      ],
      "text/plain": [
       "  Subject  Bout       Behavior  Total Investigation Time  \\\n",
       "0     nn1  s1-1  Investigation                      10.6   \n",
       "1     nn1  s1-2  Investigation                       5.2   \n",
       "2     nn1  s1-3  Investigation                       9.8   \n",
       "3     nn1  s1-4  Investigation                       2.7   \n",
       "4     nn1  s1-5  Investigation                      12.6   \n",
       "\n",
       "   Average Bout Duration  \n",
       "0               3.533333  \n",
       "1               1.733333  \n",
       "2               1.960000  \n",
       "3               1.350000  \n",
       "4               2.520000  "
      ]
     },
     "execution_count": 7,
     "metadata": {},
     "output_type": "execute_result"
    }
   ],
   "source": [
    "metadata_df.head()"
   ]
  },
  {
   "cell_type": "code",
   "execution_count": null,
   "metadata": {},
   "outputs": [],
   "source": [
    "# Total Investigation Time Across Bouts\n",
    "plot_behavior_times_across_bouts_gray(\n",
    "    metadata_df=metadata_df,\n",
    "    y_col=\"Total Investigation Time\",\n",
    "    behavior=\"Investigation\",\n",
    "    title=\"Investigation Time Across Bouts\",\n",
    "    xlabel=\"Intruder\",\n",
    "    ylabel=\"Total Investigation Time (s)\",\n",
    "    custom_xtick_labels=[\"i1\", \"i1\", \"i1\", \"i1\", \"i1\", \"i2\"],\n",
    "    custom_xtick_colors=[\"blue\", \"blue\", \"blue\", \"blue\", \"blue\", \"#E06928\"],\n",
    "    ylim=(0, 60),\n",
    "    bar_color=brain_region,\n",
    "    yticks_increment=20,\n",
    "    figsize=(12,7),\n",
    "    pad_inches=0.1,\n",
    "    save=False,\n",
    "    save_name=r\"Hab_Dishab_Plots\\Timing_Plots\\NAc_C3_Total_Investigation_Time_Across_Bouts.png\"\n",
    ")\n"
   ]
  },
  {
   "cell_type": "code",
   "execution_count": null,
   "metadata": {},
   "outputs": [],
   "source": [
    "# plot_behavior_times_across_bouts_colored(\n",
    "#     metadata_df=metadata_df,\n",
    "#     y_col=\"Total Investigation Time\",\n",
    "#     behavior=\"Investigation\",\n",
    "#     title=\"Investigation Time Across Bouts\",\n",
    "#     xlabel=\"Intruder\",\n",
    "#     ylabel=\"Total Investigation Time (s)\",\n",
    "#     custom_xtick_labels=[\"i1\", \"i1\", \"i1\", \"i1\", \"i1\", \"i2\"],\n",
    "#     custom_xtick_colors=[\"blue\", \"blue\", \"blue\", \"blue\", \"blue\", \"#E06928\"],\n",
    "#     ylim=(0, 60),\n",
    "#     bar_color=brain_region,\n",
    "#     yticks_increment=20,\n",
    "#     figsize=(12,7),\n",
    "#     pad_inches=0.1,\n",
    "#     save=False,\n",
    "#     save_name=r\"Hab_Dishab_Plots\\Timing_Plots\\NAc_C1-C2_Total_Investigation_Time_Across_Bouts.png\"\n",
    "# )"
   ]
  },
  {
   "cell_type": "code",
   "execution_count": null,
   "metadata": {},
   "outputs": [],
   "source": [
    "# Average Bout Duration Across Bouts\n",
    "plot_behavior_times_across_bouts_gray(\n",
    "    metadata_df=metadata_df,\n",
    "    y_col=\"Average Bout Duration\",\n",
    "    behavior=\"Investigation\",\n",
    "    title=\"Average Bout Duration Across Bouts\",\n",
    "    xlabel=\"Intruder\",\n",
    "    ylabel=\"Bout Duration (s)\",\n",
    "    custom_xtick_labels=[\"i1\", \"i1\", \"i1\", \"i1\", \"i1\", \"i2\"],\n",
    "    custom_xtick_colors=[\"blue\", \"blue\", \"blue\", \"blue\", \"blue\", \"#E06928\"],\n",
    "    ylim=(0, 15),\n",
    "    bar_color=brain_region,\n",
    "    yticks_increment=2,\n",
    "    figsize=(12,7),\n",
    "    pad_inches=0.1,\n",
    "    save=False,\n",
    "    save_name=r\"Hab_Dishab_Plots\\Timing_Plots\\NAc_C3_Average_Bout_Duration_Across_Bouts.png\"\n",
    ")"
   ]
  }
 ],
 "metadata": {
  "kernelspec": {
   "display_name": "photometry",
   "language": "python",
   "name": "python3"
  },
  "language_info": {
   "codemirror_mode": {
    "name": "ipython",
    "version": 3
   },
   "file_extension": ".py",
   "mimetype": "text/x-python",
   "name": "python",
   "nbconvert_exporter": "python",
   "pygments_lexer": "ipython3",
   "version": "3.12.5"
  }
 },
 "nbformat": 4,
 "nbformat_minor": 2
}
