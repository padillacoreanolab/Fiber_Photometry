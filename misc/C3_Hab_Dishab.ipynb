{
 "cells": [
  {
   "cell_type": "code",
   "execution_count": 1,
   "metadata": {},
   "outputs": [],
   "source": [
    "from trial_class import Trial\n",
    "from experiment_class import Experiment\n",
    "from hab_dishab_class import HabDishab\n",
    "\n",
    "import numpy as np\n",
    "import pandas as pd\n",
    "import tdt\n",
    "import matplotlib.pyplot as plt\n",
    "import matplotlib.ticker as ticker\n",
    "import os\n",
    "from scipy.signal import butter, filtfilt\n",
    "\n",
    "from sklearn.linear_model import LinearRegression\n",
    "from behavior import Behavior"
   ]
  },
  {
   "cell_type": "code",
   "execution_count": null,
   "metadata": {},
   "outputs": [],
   "source": [
    "experiment_path = r\"/Users/naylajimenez/Downloads/papers/dopamine/cohort 2/Hab_Dishab/mpfc\"\n",
    "csv_base_path = r\"/Users/naylajimenez/Downloads/papers/dopamine/cohort 2/Hab_Dishab/mpfc_csvs\"\n",
    "brain_region = '#FFAF00'"
   ]
  },
  {
   "cell_type": "code",
   "execution_count": null,
   "metadata": {},
   "outputs": [],
   "source": [
    "# why do we remove specific time segments again \n",
    "\n",
    "# Define the time segments to remove for specific subjects\n",
    "time_segments_to_remove = {\n",
    "    'n6': [(150,200)],\n",
    "    'n7': [(90, 130)],\n",
    "    'n5': [(310,326)]\n",
    "}"
   ]
  },
  {
   "cell_type": "code",
   "execution_count": null,
   "metadata": {},
   "outputs": [
    {
     "name": "stdout",
     "output_type": "stream",
     "text": [
      "Found Synapse note file: /Users/naylajimenez/Downloads/papers/dopamine/cohort 2/Hab_Dishab/mpfc/p7-240821-111323/Notes.txt\n",
      "read from t=0s to t=1325.21s\n",
      "Found Synapse note file: /Users/naylajimenez/Downloads/papers/dopamine/cohort 2/Hab_Dishab/mpfc/p5-240821-092649/Notes.txt\n",
      "read from t=0s to t=1326.46s\n",
      "Found Synapse note file: /Users/naylajimenez/Downloads/papers/dopamine/cohort 2/Hab_Dishab/mpfc/p1-240516-064158/Notes.txt\n",
      "read from t=0s to t=1547.64s\n",
      "Found Synapse note file: /Users/naylajimenez/Downloads/papers/dopamine/cohort 2/Hab_Dishab/mpfc/p8-240821-121933/Notes.txt\n",
      "read from t=0s to t=1315.26s\n",
      "Found Synapse note file: /Users/naylajimenez/Downloads/papers/dopamine/cohort 2/Hab_Dishab/mpfc/p6-240821-103616/Notes.txt\n",
      "read from t=0s to t=1322.66s\n",
      "Found Synapse note file: /Users/naylajimenez/Downloads/papers/dopamine/cohort 2/Hab_Dishab/mpfc/p4-240516-083255/Notes.txt\n",
      "read from t=0s to t=1773.98s\n",
      "Found Synapse note file: /Users/naylajimenez/Downloads/papers/dopamine/cohort 2/Hab_Dishab/mpfc/p2-240516-071921/Notes.txt\n",
      "read from t=0s to t=1556.22s\n",
      "Found Synapse note file: /Users/naylajimenez/Downloads/papers/dopamine/cohort 2/Hab_Dishab/mpfc/p3-240516-075659/Notes.txt\n",
      "read from t=0s to t=1538.85s\n",
      "Processing p7-240821-111323...\n",
      "Processing p5-240821-092649...\n",
      "Processing p1-240516-064158...\n",
      "Processing p8-240821-121933...\n",
      "Processing p6-240821-103616...\n",
      "Processing p4-240516-083255...\n",
      "Processing p2-240516-071921...\n",
      "Processing p3-240516-075659...\n"
     ]
    }
   ],
   "source": [
    "# groups csv + experiment data into one variable\n",
    "group_data = HabDishab(experiment_path, csv_base_path)\n",
    "\n",
    "# Batch process the data, removing the specified time segments for subjects\n",
    "group_data.default_batch_process(time_segments_to_remove=time_segments_to_remove)"
   ]
  }
 ],
 "metadata": {
  "kernelspec": {
   "display_name": "photometry",
   "language": "python",
   "name": "python3"
  },
  "language_info": {
   "codemirror_mode": {
    "name": "ipython",
    "version": 3
   },
   "file_extension": ".py",
   "mimetype": "text/x-python",
   "name": "python",
   "nbconvert_exporter": "python",
   "pygments_lexer": "ipython3",
   "version": "3.12.5"
  }
 },
 "nbformat": 4,
 "nbformat_minor": 2
}
