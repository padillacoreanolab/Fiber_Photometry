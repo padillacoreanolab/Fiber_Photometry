{
 "cells": [
  {
   "cell_type": "markdown",
   "metadata": {},
   "source": [
    "# Home Cage| Sanbox Analysis\n",
    "\n",
    "Answering random questions"
   ]
  },
  {
   "cell_type": "code",
   "execution_count": 1,
   "metadata": {},
   "outputs": [],
   "source": [
    "import os\n",
    "import sys\n",
    "\n",
    "PROJECT_ROOT = os.path.abspath(os.path.join(os.getcwd(), '..'))\n",
    "sys.path.append(PROJECT_ROOT)\n",
    "\n",
    "from trial_class import *\n",
    "from experiment_class import Experiment\n",
    "from bouts_extension import *\n",
    "from hc_extension import *"
   ]
  },
  {
   "cell_type": "code",
   "execution_count": 2,
   "metadata": {},
   "outputs": [],
   "source": [
    "# NAc: #15616F\n",
    "# mPFC: #FFAF00\n",
    "\n",
    "# NAc\n",
    "# experiment_path = r\"C:\\Users\\alber\\OneDrive\\Desktop\\PC_Lab\\Photometry\\Pilot_2\\Combined_Cohorts\\Home_Cage\\nac\"\n",
    "# csv_base_path = r\"C:\\Users\\alber\\OneDrive\\Desktop\\PC_Lab\\Photometry\\Pilot_2\\Combined_Cohorts\\Home_Cage\\nac_csvs\"\n",
    "# brain_region = '#15616F'\n",
    "\n",
    "# mPFC\n",
    "experiment_path = r\"C:\\Users\\alber\\OneDrive\\Desktop\\PC_Lab\\Photometry\\Pilot_2\\Combined_Cohorts\\Home_Cage\\mpfc\"\n",
    "csv_base_path = r\"C:\\Users\\alber\\OneDrive\\Desktop\\PC_Lab\\Photometry\\Pilot_2\\Combined_Cohorts\\Home_Cage\\mpfc_csvs\"\n",
    "brain_region = '#FFAF00'"
   ]
  },
  {
   "cell_type": "code",
   "execution_count": 3,
   "metadata": {},
   "outputs": [],
   "source": [
    "bout_definitions = [\n",
    "    {'prefix': 'Short_Term', 'introduced': 'Short_Term_Introduced', 'removed': 'Short_Term_Removed'},\n",
    "    {'prefix': 'Long_Term', 'introduced': 'Long_Term_Introduced', 'removed': 'Long_Term_Removed'},\n",
    "    {'prefix': 'Novel', 'introduced': 'Novel_Introduced', 'removed': 'Novel_Removed'}\n",
    "]\n"
   ]
  },
  {
   "cell_type": "code",
   "execution_count": 4,
   "metadata": {},
   "outputs": [
    {
     "name": "stdout",
     "output_type": "stream",
     "text": [
      "Found Synapse note file: C:\\Users\\alber\\OneDrive\\Desktop\\PC_Lab\\Photometry\\Pilot_2\\Combined_Cohorts\\Home_Cage\\mpfc\\p1-240508-084607\\Notes.txt\n",
      "read from t=0s to t=1812.36s\n",
      "Found Synapse note file: C:\\Users\\alber\\OneDrive\\Desktop\\PC_Lab\\Photometry\\Pilot_2\\Combined_Cohorts\\Home_Cage\\mpfc\\p2-240508-101128\\Notes.txt\n",
      "read from t=0s to t=1820.76s\n",
      "Found Synapse note file: C:\\Users\\alber\\OneDrive\\Desktop\\PC_Lab\\Photometry\\Pilot_2\\Combined_Cohorts\\Home_Cage\\mpfc\\p3-240509-070801\\Notes.txt\n",
      "read from t=0s to t=1818.93s\n",
      "Found Synapse note file: C:\\Users\\alber\\OneDrive\\Desktop\\PC_Lab\\Photometry\\Pilot_2\\Combined_Cohorts\\Home_Cage\\mpfc\\p5-240823-093250\\Notes.txt\n",
      "read from t=0s to t=1794.17s\n",
      "Found Synapse note file: C:\\Users\\alber\\OneDrive\\Desktop\\PC_Lab\\Photometry\\Pilot_2\\Combined_Cohorts\\Home_Cage\\mpfc\\p6-240823-105552\\Notes.txt\n",
      "read from t=0s to t=1807.06s\n",
      "Found Synapse note file: C:\\Users\\alber\\OneDrive\\Desktop\\PC_Lab\\Photometry\\Pilot_2\\Combined_Cohorts\\Home_Cage\\mpfc\\p7-240824-053845\\Notes.txt\n",
      "read from t=0s to t=1790.87s\n",
      "Found Synapse note file: C:\\Users\\alber\\OneDrive\\Desktop\\PC_Lab\\Photometry\\Pilot_2\\Combined_Cohorts\\Home_Cage\\mpfc\\p8-240824-070451\\Notes.txt\n",
      "read from t=0s to t=1818.37s\n",
      "Found Synapse note file: C:\\Users\\alber\\OneDrive\\Desktop\\PC_Lab\\Photometry\\Pilot_2\\Combined_Cohorts\\Home_Cage\\mpfc\\pp1-250120-094415\\Notes.txt\n",
      "read from t=0s to t=1864.97s\n",
      "Found Synapse note file: C:\\Users\\alber\\OneDrive\\Desktop\\PC_Lab\\Photometry\\Pilot_2\\Combined_Cohorts\\Home_Cage\\mpfc\\pp2-250121-123301\\Notes.txt\n",
      "read from t=0s to t=1852.76s\n",
      "Found Synapse note file: C:\\Users\\alber\\OneDrive\\Desktop\\PC_Lab\\Photometry\\Pilot_2\\Combined_Cohorts\\Home_Cage\\mpfc\\pp3-250121-055222\\Notes.txt\n",
      "read from t=0s to t=1858.76s\n",
      "Found Synapse note file: C:\\Users\\alber\\OneDrive\\Desktop\\PC_Lab\\Photometry\\Pilot_2\\Combined_Cohorts\\Home_Cage\\mpfc\\pp4-250121-065035\\Notes.txt\n",
      "read from t=0s to t=1876.76s\n",
      "Found Synapse note file: C:\\Users\\alber\\OneDrive\\Desktop\\PC_Lab\\Photometry\\Pilot_2\\Combined_Cohorts\\Home_Cage\\mpfc\\pp5-250121-110144\\Notes.txt\n",
      "read from t=0s to t=1895.67s\n",
      "Found Synapse note file: C:\\Users\\alber\\OneDrive\\Desktop\\PC_Lab\\Photometry\\Pilot_2\\Combined_Cohorts\\Home_Cage\\mpfc\\pp6-250121-114116\\Notes.txt\n",
      "read from t=0s to t=1861.06s\n",
      "Found Synapse note file: C:\\Users\\alber\\OneDrive\\Desktop\\PC_Lab\\Photometry\\Pilot_2\\Combined_Cohorts\\Home_Cage\\mpfc\\pp7-250121-134131\\Notes.txt\n",
      "read from t=0s to t=1954.67s\n",
      "Found Synapse note file: C:\\Users\\alber\\OneDrive\\Desktop\\PC_Lab\\Photometry\\Pilot_2\\Combined_Cohorts\\Home_Cage\\mpfc\\pp8-250121-142227\\Notes.txt\n",
      "read from t=0s to t=1871.97s\n",
      "Processing p1-240508-084607...\n",
      "Processing p2-240508-101128...\n",
      "Processing p3-240509-070801...\n",
      "Processing p5-240823-093250...\n",
      "Processing p6-240823-105552...\n",
      "Processing p7-240824-053845...\n",
      "Processing p8-240824-070451...\n",
      "Processing pp1-250120-094415...\n",
      "Processing pp2-250121-123301...\n",
      "Processing pp3-250121-055222...\n",
      "Processing pp4-250121-065035...\n",
      "Processing pp5-250121-110144...\n",
      "Processing pp6-250121-114116...\n",
      "Processing pp7-250121-134131...\n",
      "Processing pp8-250121-142227...\n"
     ]
    }
   ],
   "source": [
    "# groups csv + experiment data into one variable\n",
    "experiment = Experiment(experiment_path, csv_base_path)\n",
    "\n",
    "# batch process the data, removing the specified time segments for subjects\n",
    "experiment.default_batch_process()"
   ]
  },
  {
   "cell_type": "markdown",
   "metadata": {},
   "source": [
    "### Check if there is a second behavioral event when you take the peak nearest to first investigation. We want to ensure you are not taking the peak of a second behavioral event."
   ]
  },
  {
   "cell_type": "code",
   "execution_count": 5,
   "metadata": {},
   "outputs": [
    {
     "name": "stdout",
     "output_type": "stream",
     "text": [
      "Processing behaviors for p1-240508-084607...\n",
      "Processing behaviors for p2-240508-101128...\n",
      "Processing behaviors for p3-240509-070801...\n",
      "Processing behaviors for p5-240823-093250...\n",
      "Processing behaviors for p6-240823-105552...\n",
      "Processing behaviors for p7-240824-053845...\n",
      "Processing behaviors for p8-240824-070451...\n",
      "Processing behaviors for pp1-250120-094415...\n",
      "Processing behaviors for pp2-250121-123301...\n",
      "Processing behaviors for pp3-250121-055222...\n",
      "Processing behaviors for pp4-250121-065035...\n",
      "Processing behaviors for pp5-250121-110144...\n",
      "Processing behaviors for pp6-250121-114116...\n",
      "Processing behaviors for pp7-250121-134131...\n",
      "Processing behaviors for pp8-250121-142227...\n",
      "Computing DA metrics for p1-240508-084607 ...\n",
      "Computing DA metrics for p2-240508-101128 ...\n",
      "Computing DA metrics for p3-240509-070801 ...\n",
      "Computing DA metrics for p5-240823-093250 ...\n",
      "Computing DA metrics for p6-240823-105552 ...\n",
      "Computing DA metrics for p7-240824-053845 ...\n",
      "Computing DA metrics for p8-240824-070451 ...\n",
      "Computing DA metrics for pp1-250120-094415 ...\n",
      "Computing DA metrics for pp2-250121-123301 ...\n",
      "Computing DA metrics for pp3-250121-055222 ...\n",
      "Computing DA metrics for pp4-250121-065035 ...\n",
      "Computing DA metrics for pp5-250121-110144 ...\n",
      "Computing DA metrics for pp6-250121-114116 ...\n",
      "Computing DA metrics for pp7-250121-134131 ...\n",
      "Computing DA metrics for pp8-250121-142227 ...\n"
     ]
    }
   ],
   "source": [
    "experiment.reset_all_behaviors()\n",
    "experiment.group_extract_manual_annotations(bout_definitions=bout_definitions, first_only = False)\n",
    "\n",
    "# total_avg_bout_duration = metadata_df[\"Average Bout Duration\"].mean()\n",
    "# print(f\"Total Average Bout Duration: {total_avg_bout_duration:.4f}\")\n",
    "# Proceed with DA metric computation after all files are processed\n",
    "experiment.compute_all_da_metrics(use_max_length=False,\n",
    "                                  max_bout_duration=4, # total_avg_bout_duration \n",
    "                                  mode='standard')"
   ]
  },
  {
   "cell_type": "code",
   "execution_count": 6,
   "metadata": {},
   "outputs": [],
   "source": [
    "exp_da_dict = get_trial_dataframes(experiment)\n",
    "desired_bouts = ['s1-1', 's1-2', 's1-3', 's1-4', 's1-5', 's2-1']"
   ]
  },
  {
   "cell_type": "code",
   "execution_count": 7,
   "metadata": {},
   "outputs": [],
   "source": [
    "def count_peaks_past_next_investigation(exp_da_dict, behavior=\"Investigation\"):\n",
    "    \"\"\"\n",
    "    For each subject and bout, check if the first behavior's peak occurs\n",
    "    after the second behavior's onset. Returns a nested dict:\n",
    "    \n",
    "    {\n",
    "      subject_id: {\n",
    "        bout_label: {\n",
    "          \"overlap\": True/False,\n",
    "          \"absolute_peak_time\": float,\n",
    "          \"second_onset\": float\n",
    "        },\n",
    "        ...\n",
    "      },\n",
    "      ...\n",
    "    }\n",
    "    \"\"\"\n",
    "    from collections import defaultdict\n",
    "\n",
    "    overlaps = defaultdict(dict)\n",
    "\n",
    "    for subj, df in exp_da_dict.items():\n",
    "        df_b = df[df[\"Behavior\"] == behavior].copy()\n",
    "        df_b.sort_values(\"Event_Start\", inplace=True)\n",
    "\n",
    "        for bout, g in df_b.groupby(\"Bout\"):\n",
    "            g = g.reset_index(drop=True)\n",
    "\n",
    "            if len(g) < 2:\n",
    "                overlaps[subj][bout] = {\n",
    "                    \"overlap\": False,\n",
    "                    \"absolute_peak_time\": None,\n",
    "                    \"second_onset\": None\n",
    "                }\n",
    "                continue\n",
    "\n",
    "            first = g.loc[0]\n",
    "            second_onset = g.loc[1, \"Event_Start\"]\n",
    "            absolute_peak_time = first[\"Event_Start\"] + first[\"Time of Max Peak\"]\n",
    "\n",
    "            overlaps[subj][bout] = {\n",
    "                \"overlap\": absolute_peak_time > second_onset,\n",
    "                \"absolute_peak_time\": absolute_peak_time,\n",
    "                \"second_onset\": second_onset\n",
    "            }\n",
    "\n",
    "    return overlaps\n"
   ]
  },
  {
   "cell_type": "code",
   "execution_count": 8,
   "metadata": {},
   "outputs": [],
   "source": [
    "overlaps = count_peaks_past_next_investigation(exp_da_dict)"
   ]
  },
  {
   "cell_type": "code",
   "execution_count": 9,
   "metadata": {},
   "outputs": [],
   "source": [
    "for subj, bouts in overlaps.items():\n",
    "    for bout, info in bouts.items():\n",
    "        if info[\"overlap\"]:\n",
    "            print(f\"⚠️ {subj} / {bout}: 1st peak ({info['absolute_peak_time']:.2f}s) ≥ 2nd onset ({info['second_onset']:.2f}s)\")\n"
   ]
  },
  {
   "cell_type": "code",
   "execution_count": 10,
   "metadata": {},
   "outputs": [],
   "source": [
    "# exp_da_dict['nn6']"
   ]
  },
  {
   "cell_type": "markdown",
   "metadata": {},
   "source": [
    "### Run anova for order effects in 3 agent experiment: DA"
   ]
  },
  {
   "cell_type": "code",
   "execution_count": 11,
   "metadata": {},
   "outputs": [
    {
     "name": "stdout",
     "output_type": "stream",
     "text": [
      "Processing behaviors for p1-240508-084607...\n",
      "Processing behaviors for p2-240508-101128...\n",
      "Processing behaviors for p3-240509-070801...\n",
      "Processing behaviors for p5-240823-093250...\n",
      "Processing behaviors for p6-240823-105552...\n",
      "Processing behaviors for p7-240824-053845...\n",
      "Processing behaviors for p8-240824-070451...\n",
      "Processing behaviors for pp1-250120-094415...\n",
      "Processing behaviors for pp2-250121-123301...\n",
      "Processing behaviors for pp3-250121-055222...\n",
      "Processing behaviors for pp4-250121-065035...\n",
      "Processing behaviors for pp5-250121-110144...\n",
      "Processing behaviors for pp6-250121-114116...\n",
      "Processing behaviors for pp7-250121-134131...\n",
      "Processing behaviors for pp8-250121-142227...\n",
      "Computing DA metrics for p1-240508-084607 ...\n",
      "Computing DA metrics for p2-240508-101128 ...\n",
      "Computing DA metrics for p3-240509-070801 ...\n",
      "Computing DA metrics for p5-240823-093250 ...\n",
      "Computing DA metrics for p6-240823-105552 ...\n",
      "Computing DA metrics for p7-240824-053845 ...\n",
      "Computing DA metrics for p8-240824-070451 ...\n",
      "Computing DA metrics for pp1-250120-094415 ...\n",
      "Computing DA metrics for pp2-250121-123301 ...\n",
      "Computing DA metrics for pp3-250121-055222 ...\n",
      "Computing DA metrics for pp4-250121-065035 ...\n",
      "Computing DA metrics for pp5-250121-110144 ...\n",
      "Computing DA metrics for pp6-250121-114116 ...\n",
      "Computing DA metrics for pp7-250121-134131 ...\n",
      "Computing DA metrics for pp8-250121-142227 ...\n"
     ]
    }
   ],
   "source": [
    "experiment.reset_all_behaviors()\n",
    "experiment.group_extract_manual_annotations(bout_definitions, first_only=False)\n",
    "experiment.compute_all_da_metrics(max_bout_duration=4, \n",
    "                                  mode='standard')\n",
    "exp_da_dict = get_trial_dataframes(experiment)\n",
    "desired_bouts = ['Short_Term-1', 'Novel-1', 'Short_Term-2', 'Long_Term-1']\n",
    "da_metadata_df = create_da_metrics_first_instance(exp_da_dict, behavior=\"Investigation\", desired_bouts=desired_bouts)"
   ]
  },
  {
   "cell_type": "code",
   "execution_count": 12,
   "metadata": {},
   "outputs": [],
   "source": [
    "# exp_da_dict['n6'].head()"
   ]
  },
  {
   "cell_type": "code",
   "execution_count": 13,
   "metadata": {},
   "outputs": [],
   "source": [
    "def assign_bout_order(exp_da_dict, desired_bouts):\n",
    "    \"\"\"\n",
    "    Determine the presentation order of each bout per subject and\n",
    "    return a mapping like:\n",
    "        {\n",
    "            'p1': {'Short_Term-1': 1, 'Novel-1': 2, ...},\n",
    "            ...\n",
    "        }\n",
    "    \"\"\"\n",
    "    order_map = {}\n",
    "\n",
    "    for subject_id, df in exp_da_dict.items():\n",
    "        # Sort by time\n",
    "        df_sorted = df.sort_values(\"Event_Start\")\n",
    "        seen = {}\n",
    "        order = 1\n",
    "\n",
    "        for _, row in df_sorted.iterrows():\n",
    "            bout = row[\"Bout\"]\n",
    "            if bout in desired_bouts and bout not in seen:\n",
    "                seen[bout] = order\n",
    "                order += 1\n",
    "\n",
    "        order_map[subject_id] = seen\n",
    "\n",
    "    return order_map\n",
    "\n",
    "\n",
    "def add_order_column(da_df, order_map):\n",
    "    \"\"\"\n",
    "    Add a column \"Presentation_Order\" to da_df using the order_map.\n",
    "    \"\"\"\n",
    "    order_vals = []\n",
    "\n",
    "    for _, row in da_df.iterrows():\n",
    "        subject = row[\"Subject\"]\n",
    "        bout = row[\"Bout\"]\n",
    "        order = order_map.get(subject, {}).get(bout, np.nan)\n",
    "        order_vals.append(order)\n",
    "\n",
    "    da_df = da_df.copy()\n",
    "    da_df[\"Presentation_Order\"] = order_vals\n",
    "    return da_df\n"
   ]
  },
  {
   "cell_type": "code",
   "execution_count": 14,
   "metadata": {},
   "outputs": [],
   "source": [
    "order_map = assign_bout_order(exp_da_dict, desired_bouts)\n",
    "da_metadata_df = add_order_column(da_metadata_df, order_map)"
   ]
  },
  {
   "cell_type": "code",
   "execution_count": 15,
   "metadata": {},
   "outputs": [],
   "source": [
    "# exp_da_dict['nn4'].head()"
   ]
  },
  {
   "cell_type": "code",
   "execution_count": 16,
   "metadata": {},
   "outputs": [
    {
     "data": {
      "text/html": [
       "<div>\n",
       "<style scoped>\n",
       "    .dataframe tbody tr th:only-of-type {\n",
       "        vertical-align: middle;\n",
       "    }\n",
       "\n",
       "    .dataframe tbody tr th {\n",
       "        vertical-align: top;\n",
       "    }\n",
       "\n",
       "    .dataframe thead th {\n",
       "        text-align: right;\n",
       "    }\n",
       "</style>\n",
       "<table border=\"1\" class=\"dataframe\">\n",
       "  <thead>\n",
       "    <tr style=\"text-align: right;\">\n",
       "      <th></th>\n",
       "      <th>Subject</th>\n",
       "      <th>Bout</th>\n",
       "      <th>Behavior</th>\n",
       "      <th>AUC</th>\n",
       "      <th>Max Peak</th>\n",
       "      <th>Mean Z-score</th>\n",
       "      <th>Presentation_Order</th>\n",
       "    </tr>\n",
       "  </thead>\n",
       "  <tbody>\n",
       "    <tr>\n",
       "      <th>0</th>\n",
       "      <td>p1</td>\n",
       "      <td>Short_Term-1</td>\n",
       "      <td>Investigation</td>\n",
       "      <td>1.587773</td>\n",
       "      <td>1.578218</td>\n",
       "      <td>1.403235</td>\n",
       "      <td>1</td>\n",
       "    </tr>\n",
       "    <tr>\n",
       "      <th>1</th>\n",
       "      <td>p1</td>\n",
       "      <td>Novel-1</td>\n",
       "      <td>Investigation</td>\n",
       "      <td>3.839354</td>\n",
       "      <td>2.154880</td>\n",
       "      <td>1.799729</td>\n",
       "      <td>2</td>\n",
       "    </tr>\n",
       "    <tr>\n",
       "      <th>2</th>\n",
       "      <td>p1</td>\n",
       "      <td>Short_Term-2</td>\n",
       "      <td>Investigation</td>\n",
       "      <td>-0.811805</td>\n",
       "      <td>-0.916075</td>\n",
       "      <td>-1.061339</td>\n",
       "      <td>3</td>\n",
       "    </tr>\n",
       "    <tr>\n",
       "      <th>3</th>\n",
       "      <td>p1</td>\n",
       "      <td>Long_Term-1</td>\n",
       "      <td>Investigation</td>\n",
       "      <td>0.271765</td>\n",
       "      <td>0.395254</td>\n",
       "      <td>0.099534</td>\n",
       "      <td>4</td>\n",
       "    </tr>\n",
       "    <tr>\n",
       "      <th>4</th>\n",
       "      <td>p2</td>\n",
       "      <td>Short_Term-1</td>\n",
       "      <td>Investigation</td>\n",
       "      <td>7.167258</td>\n",
       "      <td>1.439788</td>\n",
       "      <td>0.676152</td>\n",
       "      <td>1</td>\n",
       "    </tr>\n",
       "  </tbody>\n",
       "</table>\n",
       "</div>"
      ],
      "text/plain": [
       "  Subject          Bout       Behavior       AUC  Max Peak  Mean Z-score  \\\n",
       "0      p1  Short_Term-1  Investigation  1.587773  1.578218      1.403235   \n",
       "1      p1       Novel-1  Investigation  3.839354  2.154880      1.799729   \n",
       "2      p1  Short_Term-2  Investigation -0.811805 -0.916075     -1.061339   \n",
       "3      p1   Long_Term-1  Investigation  0.271765  0.395254      0.099534   \n",
       "4      p2  Short_Term-1  Investigation  7.167258  1.439788      0.676152   \n",
       "\n",
       "   Presentation_Order  \n",
       "0                   1  \n",
       "1                   2  \n",
       "2                   3  \n",
       "3                   4  \n",
       "4                   1  "
      ]
     },
     "execution_count": 16,
     "metadata": {},
     "output_type": "execute_result"
    }
   ],
   "source": [
    "da_metadata_df.head()"
   ]
  },
  {
   "cell_type": "code",
   "execution_count": 17,
   "metadata": {},
   "outputs": [],
   "source": [
    "# assume da_metadata_df already has Presentation_Order\n",
    "df_ord = da_metadata_df[da_metadata_df[\"Bout\"] != \"Short_Term-1\"].copy()\n"
   ]
  },
  {
   "cell_type": "code",
   "execution_count": 18,
   "metadata": {},
   "outputs": [
    {
     "name": "stdout",
     "output_type": "stream",
     "text": [
      "               Source         SS  DF        MS         F     p-unc       ng2  \\\n",
      "0  Presentation_Order   1.971517   2  0.985758  0.593421  0.559233  0.024238   \n",
      "1               Error  46.512052  28  1.661145       NaN       NaN       NaN   \n",
      "\n",
      "        eps  \n",
      "0  0.772841  \n",
      "1       NaN  \n"
     ]
    }
   ],
   "source": [
    "import pingouin as pg\n",
    "\n",
    "aov = pg.rm_anova(\n",
    "    data=df_ord,\n",
    "    dv=\"Max Peak\",\n",
    "    within=\"Presentation_Order\",\n",
    "    subject=\"Subject\",\n",
    "    detailed=True\n",
    ")\n",
    "print(aov)\n"
   ]
  },
  {
   "cell_type": "code",
   "execution_count": 19,
   "metadata": {},
   "outputs": [
    {
     "data": {
      "image/png": "[encoded data removed]",
      "text/plain": [
       "<Figure size 600x400 with 1 Axes>"
      ]
     },
     "metadata": {},
     "output_type": "display_data"
    }
   ],
   "source": [
    "import seaborn as sns\n",
    "import matplotlib.pyplot as plt\n",
    "\n",
    "plt.figure(figsize=(6,4))\n",
    "sns.boxplot(\n",
    "    x=\"Presentation_Order\",\n",
    "    y=\"Max Peak\",\n",
    "    data=df_ord,\n",
    "    color=\"lightgray\"\n",
    ")\n",
    "sns.stripplot(\n",
    "    x=\"Presentation_Order\",\n",
    "    y=\"Max Peak\",\n",
    "    data=df_ord,\n",
    "    hue=\"Bout\",\n",
    "    dodge=True,\n",
    "    jitter=True\n",
    ")\n",
    "plt.xlabel(\"Presentation Order (2nd, 3rd, 4th)\")\n",
    "plt.ylabel(\"Max Peak ΔF/F\")\n",
    "plt.legend(bbox_to_anchor=(1.05,1), title=\"Bout\")\n",
    "plt.tight_layout()\n",
    "plt.show()\n"
   ]
  },
  {
   "cell_type": "code",
   "execution_count": null,
   "metadata": {},
   "outputs": [],
   "source": []
  },
  {
   "cell_type": "markdown",
   "metadata": {},
   "source": [
    "### Run anova for order effects in 3 agent experiment: Total Investigation Time"
   ]
  },
  {
   "cell_type": "code",
   "execution_count": 20,
   "metadata": {},
   "outputs": [
    {
     "name": "stdout",
     "output_type": "stream",
     "text": [
      "Processing behaviors for p1-240508-084607...\n",
      "Processing behaviors for p2-240508-101128...\n",
      "Processing behaviors for p3-240509-070801...\n",
      "Processing behaviors for p5-240823-093250...\n",
      "Processing behaviors for p6-240823-105552...\n",
      "Processing behaviors for p7-240824-053845...\n",
      "Processing behaviors for p8-240824-070451...\n",
      "Processing behaviors for pp1-250120-094415...\n",
      "Processing behaviors for pp2-250121-123301...\n",
      "Processing behaviors for pp3-250121-055222...\n",
      "Processing behaviors for pp4-250121-065035...\n",
      "Processing behaviors for pp5-250121-110144...\n",
      "Processing behaviors for pp6-250121-114116...\n",
      "Processing behaviors for pp7-250121-134131...\n",
      "Processing behaviors for pp8-250121-142227...\n",
      "Computing DA metrics for p1-240508-084607 ...\n",
      "Computing DA metrics for p2-240508-101128 ...\n",
      "Computing DA metrics for p3-240509-070801 ...\n",
      "Computing DA metrics for p5-240823-093250 ...\n",
      "Computing DA metrics for p6-240823-105552 ...\n",
      "Computing DA metrics for p7-240824-053845 ...\n",
      "Computing DA metrics for p8-240824-070451 ...\n",
      "Computing DA metrics for pp1-250120-094415 ...\n",
      "Computing DA metrics for pp2-250121-123301 ...\n",
      "Computing DA metrics for pp3-250121-055222 ...\n",
      "Computing DA metrics for pp4-250121-065035 ...\n",
      "Computing DA metrics for pp5-250121-110144 ...\n",
      "Computing DA metrics for pp6-250121-114116 ...\n",
      "Computing DA metrics for pp7-250121-134131 ...\n",
      "Computing DA metrics for pp8-250121-142227 ...\n"
     ]
    }
   ],
   "source": [
    "experiment.reset_all_behaviors()\n",
    "experiment.group_extract_manual_annotations(bout_definitions, first_only=False)\n",
    "experiment.compute_all_da_metrics(max_bout_duration=4, \n",
    "                                  mode='standard')\n",
    "exp_da_dict = get_trial_dataframes(experiment)\n",
    "desired_bouts = ['Short_Term-1', 'Novel-1', 'Short_Term-2', 'Long_Term-1']\n",
    "da_metadata_df = create_da_metrics_first_instance(exp_da_dict, behavior=\"Investigation\", desired_bouts=desired_bouts)"
   ]
  },
  {
   "cell_type": "code",
   "execution_count": 21,
   "metadata": {},
   "outputs": [
    {
     "data": {
      "text/html": [
       "<div>\n",
       "<style scoped>\n",
       "    .dataframe tbody tr th:only-of-type {\n",
       "        vertical-align: middle;\n",
       "    }\n",
       "\n",
       "    .dataframe tbody tr th {\n",
       "        vertical-align: top;\n",
       "    }\n",
       "\n",
       "    .dataframe thead th {\n",
       "        text-align: right;\n",
       "    }\n",
       "</style>\n",
       "<table border=\"1\" class=\"dataframe\">\n",
       "  <thead>\n",
       "    <tr style=\"text-align: right;\">\n",
       "      <th></th>\n",
       "      <th>Subject</th>\n",
       "      <th>Bout</th>\n",
       "      <th>Behavior</th>\n",
       "      <th>Total Investigation Time</th>\n",
       "      <th>Average Bout Duration</th>\n",
       "    </tr>\n",
       "  </thead>\n",
       "  <tbody>\n",
       "    <tr>\n",
       "      <th>0</th>\n",
       "      <td>p1</td>\n",
       "      <td>Long_Term-1</td>\n",
       "      <td>Investigation</td>\n",
       "      <td>31.599</td>\n",
       "      <td>2.257071</td>\n",
       "    </tr>\n",
       "    <tr>\n",
       "      <th>1</th>\n",
       "      <td>p1</td>\n",
       "      <td>Novel-1</td>\n",
       "      <td>Investigation</td>\n",
       "      <td>25.534</td>\n",
       "      <td>2.127833</td>\n",
       "    </tr>\n",
       "    <tr>\n",
       "      <th>2</th>\n",
       "      <td>p1</td>\n",
       "      <td>Short_Term-2</td>\n",
       "      <td>Investigation</td>\n",
       "      <td>33.001</td>\n",
       "      <td>3.666778</td>\n",
       "    </tr>\n",
       "    <tr>\n",
       "      <th>3</th>\n",
       "      <td>p1</td>\n",
       "      <td>Short_Term-1</td>\n",
       "      <td>Investigation</td>\n",
       "      <td>76.400</td>\n",
       "      <td>4.021053</td>\n",
       "    </tr>\n",
       "    <tr>\n",
       "      <th>4</th>\n",
       "      <td>p2</td>\n",
       "      <td>Long_Term-1</td>\n",
       "      <td>Investigation</td>\n",
       "      <td>60.931</td>\n",
       "      <td>3.046550</td>\n",
       "    </tr>\n",
       "  </tbody>\n",
       "</table>\n",
       "</div>"
      ],
      "text/plain": [
       "  Subject          Bout       Behavior  Total Investigation Time  \\\n",
       "0      p1   Long_Term-1  Investigation                    31.599   \n",
       "1      p1       Novel-1  Investigation                    25.534   \n",
       "2      p1  Short_Term-2  Investigation                    33.001   \n",
       "3      p1  Short_Term-1  Investigation                    76.400   \n",
       "4      p2   Long_Term-1  Investigation                    60.931   \n",
       "\n",
       "   Average Bout Duration  \n",
       "0               2.257071  \n",
       "1               2.127833  \n",
       "2               3.666778  \n",
       "3               4.021053  \n",
       "4               3.046550  "
      ]
     },
     "execution_count": 21,
     "metadata": {},
     "output_type": "execute_result"
    }
   ],
   "source": [
    "# Step 1: Get trial data\n",
    "trial_data = get_trial_dataframes(experiment)\n",
    "\n",
    "# Step 2: Trim Short_Term-1 to first 5 minutes\n",
    "trimmed_data = trim_short_term_to_5min(trial_data)\n",
    "\n",
    "# Step 3: Create metadata dataframe with trimmed data\n",
    "metadata_df = create_metadata_dataframe(trimmed_data, behavior=\"Investigation\")\n",
    "metadata_df.head()"
   ]
  },
  {
   "cell_type": "code",
   "execution_count": 22,
   "metadata": {},
   "outputs": [],
   "source": [
    "order_map = assign_bout_order(exp_da_dict, desired_bouts)\n",
    "metadata_df = add_order_column(metadata_df, order_map)"
   ]
  },
  {
   "cell_type": "code",
   "execution_count": 23,
   "metadata": {},
   "outputs": [],
   "source": [
    "# assume da_metadata_df already has Presentation_Order\n",
    "df_ord = metadata_df[metadata_df[\"Bout\"] != \"Short_Term-1\"].copy()\n"
   ]
  },
  {
   "cell_type": "code",
   "execution_count": 24,
   "metadata": {},
   "outputs": [
    {
     "data": {
      "text/html": [
       "<div>\n",
       "<style scoped>\n",
       "    .dataframe tbody tr th:only-of-type {\n",
       "        vertical-align: middle;\n",
       "    }\n",
       "\n",
       "    .dataframe tbody tr th {\n",
       "        vertical-align: top;\n",
       "    }\n",
       "\n",
       "    .dataframe thead th {\n",
       "        text-align: right;\n",
       "    }\n",
       "</style>\n",
       "<table border=\"1\" class=\"dataframe\">\n",
       "  <thead>\n",
       "    <tr style=\"text-align: right;\">\n",
       "      <th></th>\n",
       "      <th>Subject</th>\n",
       "      <th>Bout</th>\n",
       "      <th>Behavior</th>\n",
       "      <th>Total Investigation Time</th>\n",
       "      <th>Average Bout Duration</th>\n",
       "      <th>Presentation_Order</th>\n",
       "    </tr>\n",
       "  </thead>\n",
       "  <tbody>\n",
       "    <tr>\n",
       "      <th>0</th>\n",
       "      <td>p1</td>\n",
       "      <td>Long_Term-1</td>\n",
       "      <td>Investigation</td>\n",
       "      <td>31.599</td>\n",
       "      <td>2.257071</td>\n",
       "      <td>4</td>\n",
       "    </tr>\n",
       "    <tr>\n",
       "      <th>1</th>\n",
       "      <td>p1</td>\n",
       "      <td>Novel-1</td>\n",
       "      <td>Investigation</td>\n",
       "      <td>25.534</td>\n",
       "      <td>2.127833</td>\n",
       "      <td>2</td>\n",
       "    </tr>\n",
       "    <tr>\n",
       "      <th>2</th>\n",
       "      <td>p1</td>\n",
       "      <td>Short_Term-2</td>\n",
       "      <td>Investigation</td>\n",
       "      <td>33.001</td>\n",
       "      <td>3.666778</td>\n",
       "      <td>3</td>\n",
       "    </tr>\n",
       "    <tr>\n",
       "      <th>4</th>\n",
       "      <td>p2</td>\n",
       "      <td>Long_Term-1</td>\n",
       "      <td>Investigation</td>\n",
       "      <td>60.931</td>\n",
       "      <td>3.046550</td>\n",
       "      <td>3</td>\n",
       "    </tr>\n",
       "    <tr>\n",
       "      <th>5</th>\n",
       "      <td>p2</td>\n",
       "      <td>Novel-1</td>\n",
       "      <td>Investigation</td>\n",
       "      <td>36.932</td>\n",
       "      <td>5.276000</td>\n",
       "      <td>4</td>\n",
       "    </tr>\n",
       "  </tbody>\n",
       "</table>\n",
       "</div>"
      ],
      "text/plain": [
       "  Subject          Bout       Behavior  Total Investigation Time  \\\n",
       "0      p1   Long_Term-1  Investigation                    31.599   \n",
       "1      p1       Novel-1  Investigation                    25.534   \n",
       "2      p1  Short_Term-2  Investigation                    33.001   \n",
       "4      p2   Long_Term-1  Investigation                    60.931   \n",
       "5      p2       Novel-1  Investigation                    36.932   \n",
       "\n",
       "   Average Bout Duration  Presentation_Order  \n",
       "0               2.257071                   4  \n",
       "1               2.127833                   2  \n",
       "2               3.666778                   3  \n",
       "4               3.046550                   3  \n",
       "5               5.276000                   4  "
      ]
     },
     "execution_count": 24,
     "metadata": {},
     "output_type": "execute_result"
    }
   ],
   "source": [
    "df_ord.head()"
   ]
  },
  {
   "cell_type": "code",
   "execution_count": 25,
   "metadata": {},
   "outputs": [
    {
     "name": "stdout",
     "output_type": "stream",
     "text": [
      "               Source            SS  DF          MS         F     p-unc  \\\n",
      "0  Presentation_Order   1475.208741   2  737.604371  1.242531  0.304084   \n",
      "1               Error  16621.655586  28  593.630557       NaN       NaN   \n",
      "\n",
      "        ng2       eps  \n",
      "0  0.052781  0.948568  \n",
      "1       NaN       NaN  \n"
     ]
    }
   ],
   "source": [
    "import pingouin as pg\n",
    "\n",
    "aov = pg.rm_anova(\n",
    "    data=df_ord,\n",
    "    dv=\"Total Investigation Time\",\n",
    "    within=\"Presentation_Order\",\n",
    "    subject=\"Subject\",\n",
    "    detailed=True\n",
    ")\n",
    "print(aov)\n"
   ]
  },
  {
   "cell_type": "code",
   "execution_count": 26,
   "metadata": {},
   "outputs": [
    {
     "data": {
      "image/png": "[encoded data removed]",
      "text/plain": [
       "<Figure size 600x400 with 1 Axes>"
      ]
     },
     "metadata": {},
     "output_type": "display_data"
    }
   ],
   "source": [
    "import seaborn as sns\n",
    "import matplotlib.pyplot as plt\n",
    "\n",
    "plt.figure(figsize=(6,4))\n",
    "sns.boxplot(\n",
    "    x=\"Presentation_Order\",\n",
    "    y=\"Total Investigation Time\",\n",
    "    data=df_ord,\n",
    "    color=\"lightgray\"\n",
    ")\n",
    "sns.stripplot(\n",
    "    x=\"Presentation_Order\",\n",
    "    y=\"Total Investigation Time\",\n",
    "    data=df_ord,\n",
    "    hue=\"Bout\",\n",
    "    dodge=True,\n",
    "    jitter=True\n",
    ")\n",
    "plt.xlabel(\"Presentation Order (2nd, 3rd, 4th)\")\n",
    "plt.ylabel(\"Total Investigation Time\")\n",
    "plt.legend(bbox_to_anchor=(1.05,1), title=\"Bout\")\n",
    "plt.tight_layout()\n",
    "plt.show()\n"
   ]
  },
  {
   "cell_type": "code",
   "execution_count": 27,
   "metadata": {},
   "outputs": [
    {
     "name": "stdout",
     "output_type": "stream",
     "text": [
      "               Source          SS  DF        MS         F     p-unc  \\\n",
      "0  Presentation_Order   15.208159   2  7.604079  1.224596  0.309137   \n",
      "1               Error  173.864826  28  6.209458       NaN       NaN   \n",
      "\n",
      "   p-GG-corr       ng2       eps sphericity   W-spher   p-spher  \n",
      "0   0.301314  0.050832  0.724683      False  0.620086  0.044765  \n",
      "1        NaN       NaN       NaN        NaN       NaN       NaN  \n"
     ]
    }
   ],
   "source": [
    "import pingouin as pg\n",
    "\n",
    "aov = pg.rm_anova(\n",
    "    data=df_ord,\n",
    "    dv=\"Average Bout Duration\",\n",
    "    within=\"Presentation_Order\",\n",
    "    subject=\"Subject\",\n",
    "    detailed=True\n",
    ")\n",
    "print(aov)\n"
   ]
  },
  {
   "cell_type": "code",
   "execution_count": 28,
   "metadata": {},
   "outputs": [
    {
     "data": {
      "image/png": "[encoded data removed]",
      "text/plain": [
       "<Figure size 600x400 with 1 Axes>"
      ]
     },
     "metadata": {},
     "output_type": "display_data"
    }
   ],
   "source": [
    "import seaborn as sns\n",
    "import matplotlib.pyplot as plt\n",
    "\n",
    "plt.figure(figsize=(6,4))\n",
    "sns.boxplot(\n",
    "    x=\"Presentation_Order\",\n",
    "    y=\"Average Bout Duration\",\n",
    "    data=df_ord,\n",
    "    color=\"lightgray\"\n",
    ")\n",
    "sns.stripplot(\n",
    "    x=\"Presentation_Order\",\n",
    "    y=\"Average Bout Duration\",\n",
    "    data=df_ord,\n",
    "    hue=\"Bout\",\n",
    "    dodge=True,\n",
    "    jitter=True\n",
    ")\n",
    "plt.xlabel(\"Presentation Order (2nd, 3rd, 4th)\")\n",
    "plt.ylabel(\"Average Bout Duration\")\n",
    "plt.legend(bbox_to_anchor=(1.05,1), title=\"Bout\")\n",
    "plt.tight_layout()\n",
    "plt.show()\n"
   ]
  },
  {
   "cell_type": "code",
   "execution_count": null,
   "metadata": {},
   "outputs": [],
   "source": []
  }
 ],
 "metadata": {
  "kernelspec": {
   "display_name": "photometry",
   "language": "python",
   "name": "python3"
  },
  "language_info": {
   "codemirror_mode": {
    "name": "ipython",
    "version": 3
   },
   "file_extension": ".py",
   "mimetype": "text/x-python",
   "name": "python",
   "nbconvert_exporter": "python",
   "pygments_lexer": "ipython3",
   "version": "3.12.5"
  }
 },
 "nbformat": 4,
 "nbformat_minor": 2
}
