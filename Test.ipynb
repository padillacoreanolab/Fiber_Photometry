{
 "cells": [
  {
   "cell_type": "markdown",
   "metadata": {},
   "source": [
    "# Test"
   ]
  },
  {
   "cell_type": "code",
   "execution_count": 1,
   "metadata": {},
   "outputs": [],
   "source": [
    "import tdt"
   ]
  },
  {
   "cell_type": "code",
   "execution_count": 8,
   "metadata": {},
   "outputs": [
    {
     "name": "stdout",
     "output_type": "stream",
     "text": [
      "Found Synapse note file: C:\\Users\\alber\\OneDrive\\Desktop\\PC_Lab\\Photometry\\Pilot_2\\Combined\\Hab_Dishab\\nac\\n6-240821-100116\\Notes.txt\n",
      "read from t=0s to t=1335.06s\n"
     ]
    }
   ],
   "source": [
    "single_recording_path = r'C:\\Users\\alber\\OneDrive\\Desktop\\PC_Lab\\Photometry\\Pilot_2\\Combined\\Hab_Dishab\\nac\\n6-240821-100116'\n",
    "tdt_data = tdt.read_block(single_recording_path)"
   ]
  },
  {
   "cell_type": "code",
   "execution_count": 9,
   "metadata": {},
   "outputs": [
    {
     "data": {
      "text/plain": [
       "epocs\t[struct]\n",
       "snips\t[struct]\n",
       "streams\t[struct]\n",
       "scalars\t[struct]\n",
       "info\t[struct]\n",
       "time_ranges:\tarray([[ 0.],\n",
       "       [inf]])"
      ]
     },
     "execution_count": 9,
     "metadata": {},
     "output_type": "execute_result"
    }
   ],
   "source": [
    "tdt_data"
   ]
  },
  {
   "cell_type": "code",
   "execution_count": 11,
   "metadata": {},
   "outputs": [
    {
     "data": {
      "text/plain": [
       "Cam1\t[struct]\n",
       "Tick\t[struct]"
      ]
     },
     "execution_count": 11,
     "metadata": {},
     "output_type": "execute_result"
    }
   ],
   "source": [
    "tdt_data.epocs"
   ]
  },
  {
   "cell_type": "code",
   "execution_count": 5,
   "metadata": {},
   "outputs": [
    {
     "data": {
      "text/plain": [
       "name:\t'Cam1'\n",
       "onset:\tarray([1.34184960e-01, 2.34455040e-01, 3.36527360e-01, ...,\n",
       "       1.32375757e+03, 1.32385866e+03, 1.32395516e+03])\n",
       "offset:\tarray([2.34455040e-01, 3.36527360e-01, 4.36961280e-01, ...,\n",
       "       1.32385866e+03, 1.32395516e+03,            inf])\n",
       "type:\t'onset'\n",
       "type_str:\t'epocs'\n",
       "data:\tarray([1.0000e+00, 2.0000e+00, 3.0000e+00, ..., 1.3237e+04, 1.3238e+04,\n",
       "       1.3239e+04])\n",
       "dform:\tnp.uint32(4)\n",
       "size:\t10"
      ]
     },
     "execution_count": 5,
     "metadata": {},
     "output_type": "execute_result"
    }
   ],
   "source": [
    "tdt_data.epocs['Cam1']"
   ]
  }
 ],
 "metadata": {
  "kernelspec": {
   "display_name": "photometry",
   "language": "python",
   "name": "python3"
  },
  "language_info": {
   "codemirror_mode": {
    "name": "ipython",
    "version": 3
   },
   "file_extension": ".py",
   "mimetype": "text/x-python",
   "name": "python",
   "nbconvert_exporter": "python",
   "pygments_lexer": "ipython3",
   "version": "3.12.5"
  }
 },
 "nbformat": 4,
 "nbformat_minor": 2
}
