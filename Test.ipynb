{
 "cells": [
  {
   "cell_type": "markdown",
   "metadata": {},
   "source": [
    "# Test"
   ]
  },
  {
   "cell_type": "code",
   "execution_count": 1,
   "metadata": {},
   "outputs": [],
   "source": [
    "from experiment_class import Experiment"
   ]
  },
  {
   "cell_type": "code",
   "execution_count": 2,
   "metadata": {},
   "outputs": [],
   "source": [
    "experiment_path = r\"C:\\Users\\alber\\OneDrive\\Desktop\\PC_Lab\\Photometry\\Pilot_2\\Cohort 3\\Code_Test\\Experiment_Folder\"\n",
    "behavior_path = r\"C:\\Users\\alber\\OneDrive\\Desktop\\PC_Lab\\Photometry\\Pilot_2\\Cohort 3\\Code_Test\\Behavior_Folder\""
   ]
  },
  {
   "cell_type": "code",
   "execution_count": 3,
   "metadata": {},
   "outputs": [
    {
     "name": "stdout",
     "output_type": "stream",
     "text": [
      "Found Synapse note file: C:\\Users\\alber\\OneDrive\\Desktop\\PC_Lab\\Photometry\\Pilot_2\\Cohort 3\\Code_Test\\Experiment_Folder\\nn1-250113-091947\\Notes.txt\n",
      "read from t=0s to t=360.34s\n",
      "[199.5, 246.4, 305.1]\n",
      "Behavior 'Pinch' stored with onsets: [199.5, 246.4, 305.1]\n",
      "Found Synapse note file: C:\\Users\\alber\\OneDrive\\Desktop\\PC_Lab\\Photometry\\Pilot_2\\Cohort 3\\Code_Test\\Experiment_Folder\\nn8-250113-125130\\Notes.txt\n",
      "read from t=0s to t=422.34s\n",
      "[192.1, 263.7, 348.6]\n",
      "Behavior 'Pinch' stored with onsets: [192.1, 263.7, 348.6]\n"
     ]
    }
   ],
   "source": [
    "hab_dishab = Experiment(experiment_folder_path=experiment_path, behavior_folder_path=behavior_path)\n"
   ]
  }
 ],
 "metadata": {
  "kernelspec": {
   "display_name": "photometry",
   "language": "python",
   "name": "python3"
  },
  "language_info": {
   "codemirror_mode": {
    "name": "ipython",
    "version": 3
   },
   "file_extension": ".py",
   "mimetype": "text/x-python",
   "name": "python",
   "nbconvert_exporter": "python",
   "pygments_lexer": "ipython3",
   "version": "3.12.5"
  }
 },
 "nbformat": 4,
 "nbformat_minor": 2
}
