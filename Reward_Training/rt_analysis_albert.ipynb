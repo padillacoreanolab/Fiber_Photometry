{
 "cells": [
  {
   "cell_type": "markdown",
   "metadata": {},
   "source": [
    "# Reward Training Analysis"
   ]
  },
  {
   "cell_type": "markdown",
   "metadata": {},
   "source": [
    "Cohort 2"
   ]
  },
  {
   "cell_type": "code",
   "execution_count": 1,
   "metadata": {},
   "outputs": [],
   "source": [
    "import os\n",
    "import sys\n",
    "\n",
    "PROJECT_ROOT = os.path.abspath(os.path.join(os.getcwd(), '..'))\n",
    "sys.path.append(PROJECT_ROOT)\n",
    "\n",
    "# from Reward_Competition.rt_extension import Reward_Training\n",
    "from rt_extension_new import Reward_Training\n",
    "from pathlib import Path\n",
    "import numpy as np\n",
    "import matplotlib.pyplot as plt\n"
   ]
  },
  {
   "cell_type": "code",
   "execution_count": null,
   "metadata": {},
   "outputs": [],
   "source": [
    "# experiment_path = r\"C:\\Users\\yezon\\Padilla-Coreano_Lab\\Albert_Cohort_3\\Reward_Training\\Day1\\Cohort_1_2\\mPFC\"\n",
    "experiment_path = r\"C:\\Users\\alber\\OneDrive\\Desktop\\PC_Lab\\Photometry\\Pilot_2\\Combined\\Reward_Training\\Combined\\Day_10\"\n",
    "\n"
   ]
  },
  {
   "cell_type": "code",
   "execution_count": 3,
   "metadata": {},
   "outputs": [
    {
     "name": "stdout",
     "output_type": "stream",
     "text": [
      "read from t=0s to t=3845.28s\n",
      "read from t=0s to t=3845.28s\n",
      "read from t=0s to t=3845.28s\n",
      "read from t=0s to t=3845.28s\n"
     ]
    }
   ],
   "source": [
    "exp = Reward_Training(experiment_folder_path=experiment_path, behavior_folder_path=None)"
   ]
  },
  {
   "cell_type": "code",
   "execution_count": 4,
   "metadata": {},
   "outputs": [
    {
     "data": {
      "text/plain": [
       "{'nn5-250202-082015': <trial_class.Trial at 0x1d09bc67680>,\n",
       " 'nn6-250202-082015': <trial_class.Trial at 0x1d09b5029c0>,\n",
       " 'nn7-250202-070333': <trial_class.Trial at 0x1d09bbe9670>,\n",
       " 'nn8-250202-070333': <trial_class.Trial at 0x1d09b5f0ef0>}"
      ]
     },
     "execution_count": 4,
     "metadata": {},
     "output_type": "execute_result"
    }
   ],
   "source": [
    "exp.trials"
   ]
  },
  {
   "cell_type": "code",
   "execution_count": 5,
   "metadata": {},
   "outputs": [
    {
     "name": "stdout",
     "output_type": "stream",
     "text": [
      "Processing trial nn5-250202-082015...\n",
      "Processing trial nn6-250202-082015...\n",
      "Processing trial nn7-250202-070333...\n",
      "Processing trial nn8-250202-070333...\n",
      "Subdirectories: ['nn5_nn6-250202-082015', 'nn7_nn8-250202-070333']\n"
     ]
    }
   ],
   "source": [
    "exp.rtc_processing()\n",
    "exp.create_base_df(experiment_path)"
   ]
  },
  {
   "cell_type": "code",
   "execution_count": 6,
   "metadata": {},
   "outputs": [
    {
     "data": {
      "text/plain": [
       "{'nn5-250202-082015': 3,\n",
       " 'nn6-250202-082015': 2,\n",
       " 'nn7-250202-070333': 3,\n",
       " 'nn8-250202-070333': 2}"
      ]
     },
     "execution_count": 6,
     "metadata": {},
     "output_type": "execute_result"
    }
   ],
   "source": [
    "exp.port_bnc"
   ]
  },
  {
   "cell_type": "code",
   "execution_count": 7,
   "metadata": {},
   "outputs": [
    {
     "data": {
      "text/html": [
       "<div>\n",
       "<style scoped>\n",
       "    .dataframe tbody tr th:only-of-type {\n",
       "        vertical-align: middle;\n",
       "    }\n",
       "\n",
       "    .dataframe tbody tr th {\n",
       "        vertical-align: top;\n",
       "    }\n",
       "\n",
       "    .dataframe thead th {\n",
       "        text-align: right;\n",
       "    }\n",
       "</style>\n",
       "<table border=\"1\" class=\"dataframe\">\n",
       "  <thead>\n",
       "    <tr style=\"text-align: right;\">\n",
       "      <th></th>\n",
       "      <th>file name</th>\n",
       "      <th>trial</th>\n",
       "      <th>subject_name</th>\n",
       "      <th>sound cues</th>\n",
       "      <th>port entries</th>\n",
       "      <th>sound cues onset</th>\n",
       "      <th>port entries onset</th>\n",
       "      <th>port entries offset</th>\n",
       "    </tr>\n",
       "  </thead>\n",
       "  <tbody>\n",
       "    <tr>\n",
       "      <th>0</th>\n",
       "      <td>nn5-250202-082015</td>\n",
       "      <td>&lt;trial_class.Trial object at 0x000001D09BC67680&gt;</td>\n",
       "      <td>nn5</td>\n",
       "      <td>{'name': 'PC0/', 'onset': [0.0, 240.87740416, ...</td>\n",
       "      <td>{'name': 'PC3/', 'onset': [0.0, 180.87706624, ...</td>\n",
       "      <td>[240.87740416, 320.87801856, 410.87827968, 490...</td>\n",
       "      <td>[241.13709056, 259.26713344, 302.07787008, 307...</td>\n",
       "      <td>[258.68746752, 302.03756544, 305.69791488, 307...</td>\n",
       "    </tr>\n",
       "    <tr>\n",
       "      <th>1</th>\n",
       "      <td>nn6-250202-082015</td>\n",
       "      <td>&lt;trial_class.Trial object at 0x000001D09B5029C0&gt;</td>\n",
       "      <td>nn6</td>\n",
       "      <td>{'name': 'PC0/', 'onset': [0.0, 240.87740416, ...</td>\n",
       "      <td>{'name': 'PC2/', 'onset': [0.0, 180.87706624, ...</td>\n",
       "      <td>[240.87740416, 320.87801856, 410.87827968, 490...</td>\n",
       "      <td>[241.49721088, 276.51751936, 279.53823744, 299...</td>\n",
       "      <td>[276.49769472, 277.89737984, 297.35763968, 306...</td>\n",
       "    </tr>\n",
       "    <tr>\n",
       "      <th>2</th>\n",
       "      <td>nn7-250202-070333</td>\n",
       "      <td>&lt;trial_class.Trial object at 0x000001D09BBE9670&gt;</td>\n",
       "      <td>nn7</td>\n",
       "      <td>{'name': 'PC0/', 'onset': [0.0, 241.2363776, 3...</td>\n",
       "      <td>{'name': 'PC3/', 'onset': [0.0, 181.23620352, ...</td>\n",
       "      <td>[241.2363776, 321.236992, 411.2375808, 491.238...</td>\n",
       "      <td>[253.51667712, 253.59679488, 256.536576, 260.1...</td>\n",
       "      <td>[253.55665408, 256.16662528, 260.0165376, 265....</td>\n",
       "    </tr>\n",
       "    <tr>\n",
       "      <th>3</th>\n",
       "      <td>nn8-250202-070333</td>\n",
       "      <td>&lt;trial_class.Trial object at 0x000001D09B5F0EF0&gt;</td>\n",
       "      <td>nn8</td>\n",
       "      <td>{'name': 'PC0/', 'onset': [0.0, 241.2363776, 3...</td>\n",
       "      <td>{'name': 'PC2/', 'onset': [0.0, 185.176064, 19...</td>\n",
       "      <td>[241.2363776, 321.236992, 411.2375808, 491.238...</td>\n",
       "      <td>[282.86664704, 291.07666944, 305.39677696, 305...</td>\n",
       "      <td>[290.51682816, 303.21688576, 305.55684864, 305...</td>\n",
       "    </tr>\n",
       "  </tbody>\n",
       "</table>\n",
       "</div>"
      ],
      "text/plain": [
       "           file name                                             trial  \\\n",
       "0  nn5-250202-082015  <trial_class.Trial object at 0x000001D09BC67680>   \n",
       "1  nn6-250202-082015  <trial_class.Trial object at 0x000001D09B5029C0>   \n",
       "2  nn7-250202-070333  <trial_class.Trial object at 0x000001D09BBE9670>   \n",
       "3  nn8-250202-070333  <trial_class.Trial object at 0x000001D09B5F0EF0>   \n",
       "\n",
       "  subject_name                                         sound cues  \\\n",
       "0          nn5  {'name': 'PC0/', 'onset': [0.0, 240.87740416, ...   \n",
       "1          nn6  {'name': 'PC0/', 'onset': [0.0, 240.87740416, ...   \n",
       "2          nn7  {'name': 'PC0/', 'onset': [0.0, 241.2363776, 3...   \n",
       "3          nn8  {'name': 'PC0/', 'onset': [0.0, 241.2363776, 3...   \n",
       "\n",
       "                                        port entries  \\\n",
       "0  {'name': 'PC3/', 'onset': [0.0, 180.87706624, ...   \n",
       "1  {'name': 'PC2/', 'onset': [0.0, 180.87706624, ...   \n",
       "2  {'name': 'PC3/', 'onset': [0.0, 181.23620352, ...   \n",
       "3  {'name': 'PC2/', 'onset': [0.0, 185.176064, 19...   \n",
       "\n",
       "                                    sound cues onset  \\\n",
       "0  [240.87740416, 320.87801856, 410.87827968, 490...   \n",
       "1  [240.87740416, 320.87801856, 410.87827968, 490...   \n",
       "2  [241.2363776, 321.236992, 411.2375808, 491.238...   \n",
       "3  [241.2363776, 321.236992, 411.2375808, 491.238...   \n",
       "\n",
       "                                  port entries onset  \\\n",
       "0  [241.13709056, 259.26713344, 302.07787008, 307...   \n",
       "1  [241.49721088, 276.51751936, 279.53823744, 299...   \n",
       "2  [253.51667712, 253.59679488, 256.536576, 260.1...   \n",
       "3  [282.86664704, 291.07666944, 305.39677696, 305...   \n",
       "\n",
       "                                 port entries offset  \n",
       "0  [258.68746752, 302.03756544, 305.69791488, 307...  \n",
       "1  [276.49769472, 277.89737984, 297.35763968, 306...  \n",
       "2  [253.55665408, 256.16662528, 260.0165376, 265....  \n",
       "3  [290.51682816, 303.21688576, 305.55684864, 305...  "
      ]
     },
     "execution_count": 7,
     "metadata": {},
     "output_type": "execute_result"
    }
   ],
   "source": [
    "df = exp.df\n",
    "exp.df.head()"
   ]
  },
  {
   "cell_type": "code",
   "execution_count": 8,
   "metadata": {},
   "outputs": [
    {
     "data": {
      "text/html": [
       "<div>\n",
       "<style scoped>\n",
       "    .dataframe tbody tr th:only-of-type {\n",
       "        vertical-align: middle;\n",
       "    }\n",
       "\n",
       "    .dataframe tbody tr th {\n",
       "        vertical-align: top;\n",
       "    }\n",
       "\n",
       "    .dataframe thead th {\n",
       "        text-align: right;\n",
       "    }\n",
       "</style>\n",
       "<table border=\"1\" class=\"dataframe\">\n",
       "  <thead>\n",
       "    <tr style=\"text-align: right;\">\n",
       "      <th></th>\n",
       "      <th>file name</th>\n",
       "      <th>trial</th>\n",
       "      <th>subject_name</th>\n",
       "      <th>sound cues</th>\n",
       "      <th>port entries</th>\n",
       "      <th>sound cues onset</th>\n",
       "      <th>port entries onset</th>\n",
       "      <th>port entries offset</th>\n",
       "      <th>first_lick_after_sound_cue</th>\n",
       "    </tr>\n",
       "  </thead>\n",
       "  <tbody>\n",
       "    <tr>\n",
       "      <th>0</th>\n",
       "      <td>nn5-250202-082015</td>\n",
       "      <td>&lt;trial_class.Trial object at 0x000001D09BC67680&gt;</td>\n",
       "      <td>nn5</td>\n",
       "      <td>{'name': 'PC0/', 'onset': [0.0, 240.87740416, ...</td>\n",
       "      <td>{'name': 'PC3/', 'onset': [0.0, 180.87706624, ...</td>\n",
       "      <td>[240.87740416, 320.87801856, 410.87827968, 490...</td>\n",
       "      <td>[241.13709056, 259.26713344, 302.07787008, 307...</td>\n",
       "      <td>[258.68746752, 302.03756544, 305.69791488, 307...</td>\n",
       "      <td>[244.87740416, 324.87801856, 414.87827968, 494...</td>\n",
       "    </tr>\n",
       "    <tr>\n",
       "      <th>1</th>\n",
       "      <td>nn6-250202-082015</td>\n",
       "      <td>&lt;trial_class.Trial object at 0x000001D09B5029C0&gt;</td>\n",
       "      <td>nn6</td>\n",
       "      <td>{'name': 'PC0/', 'onset': [0.0, 240.87740416, ...</td>\n",
       "      <td>{'name': 'PC2/', 'onset': [0.0, 180.87706624, ...</td>\n",
       "      <td>[240.87740416, 320.87801856, 410.87827968, 490...</td>\n",
       "      <td>[241.49721088, 276.51751936, 279.53823744, 299...</td>\n",
       "      <td>[276.49769472, 277.89737984, 297.35763968, 306...</td>\n",
       "      <td>[244.87740416, 324.87801856, 414.87827968, 494...</td>\n",
       "    </tr>\n",
       "    <tr>\n",
       "      <th>2</th>\n",
       "      <td>nn7-250202-070333</td>\n",
       "      <td>&lt;trial_class.Trial object at 0x000001D09BBE9670&gt;</td>\n",
       "      <td>nn7</td>\n",
       "      <td>{'name': 'PC0/', 'onset': [0.0, 241.2363776, 3...</td>\n",
       "      <td>{'name': 'PC3/', 'onset': [0.0, 181.23620352, ...</td>\n",
       "      <td>[241.2363776, 321.236992, 411.2375808, 491.238...</td>\n",
       "      <td>[253.51667712, 253.59679488, 256.536576, 260.1...</td>\n",
       "      <td>[253.55665408, 256.16662528, 260.0165376, 265....</td>\n",
       "      <td>[253.51667712, 325.236992, 415.2375808, 495.23...</td>\n",
       "    </tr>\n",
       "    <tr>\n",
       "      <th>3</th>\n",
       "      <td>nn8-250202-070333</td>\n",
       "      <td>&lt;trial_class.Trial object at 0x000001D09B5F0EF0&gt;</td>\n",
       "      <td>nn8</td>\n",
       "      <td>{'name': 'PC0/', 'onset': [0.0, 241.2363776, 3...</td>\n",
       "      <td>{'name': 'PC2/', 'onset': [0.0, 185.176064, 19...</td>\n",
       "      <td>[241.2363776, 321.236992, 411.2375808, 491.238...</td>\n",
       "      <td>[282.86664704, 291.07666944, 305.39677696, 305...</td>\n",
       "      <td>[290.51682816, 303.21688576, 305.55684864, 305...</td>\n",
       "      <td>[282.86664704, 325.236992, 415.2375808, 495.23...</td>\n",
       "    </tr>\n",
       "  </tbody>\n",
       "</table>\n",
       "</div>"
      ],
      "text/plain": [
       "           file name                                             trial  \\\n",
       "0  nn5-250202-082015  <trial_class.Trial object at 0x000001D09BC67680>   \n",
       "1  nn6-250202-082015  <trial_class.Trial object at 0x000001D09B5029C0>   \n",
       "2  nn7-250202-070333  <trial_class.Trial object at 0x000001D09BBE9670>   \n",
       "3  nn8-250202-070333  <trial_class.Trial object at 0x000001D09B5F0EF0>   \n",
       "\n",
       "  subject_name                                         sound cues  \\\n",
       "0          nn5  {'name': 'PC0/', 'onset': [0.0, 240.87740416, ...   \n",
       "1          nn6  {'name': 'PC0/', 'onset': [0.0, 240.87740416, ...   \n",
       "2          nn7  {'name': 'PC0/', 'onset': [0.0, 241.2363776, 3...   \n",
       "3          nn8  {'name': 'PC0/', 'onset': [0.0, 241.2363776, 3...   \n",
       "\n",
       "                                        port entries  \\\n",
       "0  {'name': 'PC3/', 'onset': [0.0, 180.87706624, ...   \n",
       "1  {'name': 'PC2/', 'onset': [0.0, 180.87706624, ...   \n",
       "2  {'name': 'PC3/', 'onset': [0.0, 181.23620352, ...   \n",
       "3  {'name': 'PC2/', 'onset': [0.0, 185.176064, 19...   \n",
       "\n",
       "                                    sound cues onset  \\\n",
       "0  [240.87740416, 320.87801856, 410.87827968, 490...   \n",
       "1  [240.87740416, 320.87801856, 410.87827968, 490...   \n",
       "2  [241.2363776, 321.236992, 411.2375808, 491.238...   \n",
       "3  [241.2363776, 321.236992, 411.2375808, 491.238...   \n",
       "\n",
       "                                  port entries onset  \\\n",
       "0  [241.13709056, 259.26713344, 302.07787008, 307...   \n",
       "1  [241.49721088, 276.51751936, 279.53823744, 299...   \n",
       "2  [253.51667712, 253.59679488, 256.536576, 260.1...   \n",
       "3  [282.86664704, 291.07666944, 305.39677696, 305...   \n",
       "\n",
       "                                 port entries offset  \\\n",
       "0  [258.68746752, 302.03756544, 305.69791488, 307...   \n",
       "1  [276.49769472, 277.89737984, 297.35763968, 306...   \n",
       "2  [253.55665408, 256.16662528, 260.0165376, 265....   \n",
       "3  [290.51682816, 303.21688576, 305.55684864, 305...   \n",
       "\n",
       "                          first_lick_after_sound_cue  \n",
       "0  [244.87740416, 324.87801856, 414.87827968, 494...  \n",
       "1  [244.87740416, 324.87801856, 414.87827968, 494...  \n",
       "2  [253.51667712, 325.236992, 415.2375808, 495.23...  \n",
       "3  [282.86664704, 325.236992, 415.2375808, 495.23...  "
      ]
     },
     "execution_count": 8,
     "metadata": {},
     "output_type": "execute_result"
    }
   ],
   "source": [
    "exp.find_first_lick_after_sound_cue().head()"
   ]
  },
  {
   "cell_type": "markdown",
   "metadata": {},
   "source": [
    "## Finding DA metrics"
   ]
  },
  {
   "cell_type": "markdown",
   "metadata": {},
   "source": [
    "## Finding DA metrics"
   ]
  },
  {
   "cell_type": "code",
   "execution_count": 9,
   "metadata": {},
   "outputs": [],
   "source": [
    "exp.compute_EI_DA()\n",
    "# exp.compute_standard_DA()"
   ]
  },
  {
   "cell_type": "code",
   "execution_count": 10,
   "metadata": {},
   "outputs": [
    {
     "data": {
      "text/html": [
       "<div>\n",
       "<style scoped>\n",
       "    .dataframe tbody tr th:only-of-type {\n",
       "        vertical-align: middle;\n",
       "    }\n",
       "\n",
       "    .dataframe tbody tr th {\n",
       "        vertical-align: top;\n",
       "    }\n",
       "\n",
       "    .dataframe thead th {\n",
       "        text-align: right;\n",
       "    }\n",
       "</style>\n",
       "<table border=\"1\" class=\"dataframe\">\n",
       "  <thead>\n",
       "    <tr style=\"text-align: right;\">\n",
       "      <th></th>\n",
       "      <th>file name</th>\n",
       "      <th>trial</th>\n",
       "      <th>subject_name</th>\n",
       "      <th>sound cues</th>\n",
       "      <th>port entries</th>\n",
       "      <th>sound cues onset</th>\n",
       "      <th>port entries onset</th>\n",
       "      <th>port entries offset</th>\n",
       "      <th>first_lick_after_sound_cue</th>\n",
       "      <th>Tone Event_Time_Axis</th>\n",
       "      <th>Tone Event_Zscore</th>\n",
       "      <th>Lick Event_Time_Axis</th>\n",
       "      <th>Lick Event_Zscore</th>\n",
       "    </tr>\n",
       "  </thead>\n",
       "  <tbody>\n",
       "    <tr>\n",
       "      <th>0</th>\n",
       "      <td>nn5-250202-082015</td>\n",
       "      <td>&lt;trial_class.Trial object at 0x000001D09BC67680&gt;</td>\n",
       "      <td>nn5</td>\n",
       "      <td>{'name': 'PC0/', 'onset': [0.0, 240.87740416, ...</td>\n",
       "      <td>{'name': 'PC3/', 'onset': [0.0, 180.87706624, ...</td>\n",
       "      <td>[240.87740416, 320.87801856, 410.87827968, 490...</td>\n",
       "      <td>[241.13709056, 259.26713344, 302.07787008, 307...</td>\n",
       "      <td>[258.68746752, 302.03756544, 305.69791488, 307...</td>\n",
       "      <td>[244.87740416, 324.87801856, 414.87827968, 494...</td>\n",
       "      <td>[[-4.0, -3.9990169600200716, -3.99803392004014...</td>\n",
       "      <td>[[-0.3546808639648671, -0.35431988485959304, -...</td>\n",
       "      <td>[[0.0, 0.000983039979928435, 0.001966079959856...</td>\n",
       "      <td>[[0.9071163627330121, 0.9076295614021567, 0.91...</td>\n",
       "    </tr>\n",
       "    <tr>\n",
       "      <th>1</th>\n",
       "      <td>nn6-250202-082015</td>\n",
       "      <td>&lt;trial_class.Trial object at 0x000001D09B5029C0&gt;</td>\n",
       "      <td>nn6</td>\n",
       "      <td>{'name': 'PC0/', 'onset': [0.0, 240.87740416, ...</td>\n",
       "      <td>{'name': 'PC2/', 'onset': [0.0, 180.87706624, ...</td>\n",
       "      <td>[240.87740416, 320.87801856, 410.87827968, 490...</td>\n",
       "      <td>[241.49721088, 276.51751936, 279.53823744, 299...</td>\n",
       "      <td>[276.49769472, 277.89737984, 297.35763968, 306...</td>\n",
       "      <td>[244.87740416, 324.87801856, 414.87827968, 494...</td>\n",
       "      <td>[[-4.0, -3.9990169600200716, -3.99803392004014...</td>\n",
       "      <td>[[0.18083855383896397, 0.18012329051880754, 0....</td>\n",
       "      <td>[[0.0, 0.000983039979928435, 0.001966079959856...</td>\n",
       "      <td>[[1.4739039232091171, 1.473600851179366, 1.471...</td>\n",
       "    </tr>\n",
       "    <tr>\n",
       "      <th>2</th>\n",
       "      <td>nn7-250202-070333</td>\n",
       "      <td>&lt;trial_class.Trial object at 0x000001D09BBE9670&gt;</td>\n",
       "      <td>nn7</td>\n",
       "      <td>{'name': 'PC0/', 'onset': [0.0, 241.2363776, 3...</td>\n",
       "      <td>{'name': 'PC3/', 'onset': [0.0, 181.23620352, ...</td>\n",
       "      <td>[241.2363776, 321.236992, 411.2375808, 491.238...</td>\n",
       "      <td>[253.51667712, 253.59679488, 256.536576, 260.1...</td>\n",
       "      <td>[253.55665408, 256.16662528, 260.0165376, 265....</td>\n",
       "      <td>[253.51667712, 325.236992, 415.2375808, 495.23...</td>\n",
       "      <td>[[-4.0, -3.9990169600200716, -3.99803392004014...</td>\n",
       "      <td>[[0.08896206436468179, 0.0899009577844354, 0.0...</td>\n",
       "      <td>[[0.0, 0.000983039979928435, 0.001966079959856...</td>\n",
       "      <td>[[0.6358273592915298, 0.6348778677284305, 0.63...</td>\n",
       "    </tr>\n",
       "    <tr>\n",
       "      <th>3</th>\n",
       "      <td>nn8-250202-070333</td>\n",
       "      <td>&lt;trial_class.Trial object at 0x000001D09B5F0EF0&gt;</td>\n",
       "      <td>nn8</td>\n",
       "      <td>{'name': 'PC0/', 'onset': [0.0, 241.2363776, 3...</td>\n",
       "      <td>{'name': 'PC2/', 'onset': [0.0, 185.176064, 19...</td>\n",
       "      <td>[241.2363776, 321.236992, 411.2375808, 491.238...</td>\n",
       "      <td>[282.86664704, 291.07666944, 305.39677696, 305...</td>\n",
       "      <td>[290.51682816, 303.21688576, 305.55684864, 305...</td>\n",
       "      <td>[282.86664704, 325.236992, 415.2375808, 495.23...</td>\n",
       "      <td>[[-4.0, -3.9990169600200716, -3.99803392004014...</td>\n",
       "      <td>[[1.2210720150411525, 1.2195963775257872, 1.21...</td>\n",
       "      <td>[[0.0, 0.000983039979928435, 0.001966079959856...</td>\n",
       "      <td>[[0.7627804685452286, 0.7621086172019691, 0.76...</td>\n",
       "    </tr>\n",
       "  </tbody>\n",
       "</table>\n",
       "</div>"
      ],
      "text/plain": [
       "           file name                                             trial  \\\n",
       "0  nn5-250202-082015  <trial_class.Trial object at 0x000001D09BC67680>   \n",
       "1  nn6-250202-082015  <trial_class.Trial object at 0x000001D09B5029C0>   \n",
       "2  nn7-250202-070333  <trial_class.Trial object at 0x000001D09BBE9670>   \n",
       "3  nn8-250202-070333  <trial_class.Trial object at 0x000001D09B5F0EF0>   \n",
       "\n",
       "  subject_name                                         sound cues  \\\n",
       "0          nn5  {'name': 'PC0/', 'onset': [0.0, 240.87740416, ...   \n",
       "1          nn6  {'name': 'PC0/', 'onset': [0.0, 240.87740416, ...   \n",
       "2          nn7  {'name': 'PC0/', 'onset': [0.0, 241.2363776, 3...   \n",
       "3          nn8  {'name': 'PC0/', 'onset': [0.0, 241.2363776, 3...   \n",
       "\n",
       "                                        port entries  \\\n",
       "0  {'name': 'PC3/', 'onset': [0.0, 180.87706624, ...   \n",
       "1  {'name': 'PC2/', 'onset': [0.0, 180.87706624, ...   \n",
       "2  {'name': 'PC3/', 'onset': [0.0, 181.23620352, ...   \n",
       "3  {'name': 'PC2/', 'onset': [0.0, 185.176064, 19...   \n",
       "\n",
       "                                    sound cues onset  \\\n",
       "0  [240.87740416, 320.87801856, 410.87827968, 490...   \n",
       "1  [240.87740416, 320.87801856, 410.87827968, 490...   \n",
       "2  [241.2363776, 321.236992, 411.2375808, 491.238...   \n",
       "3  [241.2363776, 321.236992, 411.2375808, 491.238...   \n",
       "\n",
       "                                  port entries onset  \\\n",
       "0  [241.13709056, 259.26713344, 302.07787008, 307...   \n",
       "1  [241.49721088, 276.51751936, 279.53823744, 299...   \n",
       "2  [253.51667712, 253.59679488, 256.536576, 260.1...   \n",
       "3  [282.86664704, 291.07666944, 305.39677696, 305...   \n",
       "\n",
       "                                 port entries offset  \\\n",
       "0  [258.68746752, 302.03756544, 305.69791488, 307...   \n",
       "1  [276.49769472, 277.89737984, 297.35763968, 306...   \n",
       "2  [253.55665408, 256.16662528, 260.0165376, 265....   \n",
       "3  [290.51682816, 303.21688576, 305.55684864, 305...   \n",
       "\n",
       "                          first_lick_after_sound_cue  \\\n",
       "0  [244.87740416, 324.87801856, 414.87827968, 494...   \n",
       "1  [244.87740416, 324.87801856, 414.87827968, 494...   \n",
       "2  [253.51667712, 325.236992, 415.2375808, 495.23...   \n",
       "3  [282.86664704, 325.236992, 415.2375808, 495.23...   \n",
       "\n",
       "                                Tone Event_Time_Axis  \\\n",
       "0  [[-4.0, -3.9990169600200716, -3.99803392004014...   \n",
       "1  [[-4.0, -3.9990169600200716, -3.99803392004014...   \n",
       "2  [[-4.0, -3.9990169600200716, -3.99803392004014...   \n",
       "3  [[-4.0, -3.9990169600200716, -3.99803392004014...   \n",
       "\n",
       "                                   Tone Event_Zscore  \\\n",
       "0  [[-0.3546808639648671, -0.35431988485959304, -...   \n",
       "1  [[0.18083855383896397, 0.18012329051880754, 0....   \n",
       "2  [[0.08896206436468179, 0.0899009577844354, 0.0...   \n",
       "3  [[1.2210720150411525, 1.2195963775257872, 1.21...   \n",
       "\n",
       "                                Lick Event_Time_Axis  \\\n",
       "0  [[0.0, 0.000983039979928435, 0.001966079959856...   \n",
       "1  [[0.0, 0.000983039979928435, 0.001966079959856...   \n",
       "2  [[0.0, 0.000983039979928435, 0.001966079959856...   \n",
       "3  [[0.0, 0.000983039979928435, 0.001966079959856...   \n",
       "\n",
       "                                   Lick Event_Zscore  \n",
       "0  [[0.9071163627330121, 0.9076295614021567, 0.91...  \n",
       "1  [[1.4739039232091171, 1.473600851179366, 1.471...  \n",
       "2  [[0.6358273592915298, 0.6348778677284305, 0.63...  \n",
       "3  [[0.7627804685452286, 0.7621086172019691, 0.76...  "
      ]
     },
     "execution_count": 10,
     "metadata": {},
     "output_type": "execute_result"
    }
   ],
   "source": [
    "exp.df.head()"
   ]
  },
  {
   "cell_type": "code",
   "execution_count": 17,
   "metadata": {},
   "outputs": [],
   "source": [
    "# # Code to look at a single trial DA response\n",
    "# # Select a trial (e.g., the first trial)\n",
    "# trial = df.iloc[0]\n",
    "\n",
    "# # Extract the first tone and lick responses (if multiple events exist)\n",
    "# tone_time = trial['Tone Event_Time_Axis'][0]  # should be -pre_time to post_time\n",
    "# tone_zscore = trial['Tone Event_Zscore'][0]\n",
    "# lick_time = trial['Lick Event_Time_Axis'][0]  # should be 0 to post_time\n",
    "# lick_zscore = trial['Lick Event_Zscore'][0]\n",
    "\n",
    "# # Plotting both traces\n",
    "# plt.figure(figsize=(8, 4))\n",
    "# plt.plot(tone_time, tone_zscore, label='Tone Event (Sound Cue)')\n",
    "# plt.plot(lick_time, lick_zscore, label='Lick Event')\n",
    "# plt.axhline(0, color='gray', linestyle='--')\n",
    "# plt.axvline(0, color='gray', linestyle='--')\n",
    "# plt.xlabel('Time (s)')\n",
    "# plt.ylabel('Baseline-corrected z-score')\n",
    "# plt.title('Tone and Lick DA Responses')\n",
    "# plt.legend()\n",
    "# plt.show()\n"
   ]
  },
  {
   "cell_type": "code",
   "execution_count": null,
   "metadata": {},
   "outputs": [],
   "source": [
    "# # Code to look at a single trial DA response\n",
    "# # Select a trial (e.g., the first trial)\n",
    "# trial = df.iloc[0]\n",
    "\n",
    "# # Extract the first tone and lick responses (if multiple events exist)\n",
    "# tone_time = trial['Tone Event_Time_Axis'][0]  # should be -pre_time to post_time\n",
    "# tone_zscore = trial['Tone Event_Zscore'][0]\n",
    "# lick_time = trial['Lick Event_Time_Axis'][0]  # should be 0 to post_time\n",
    "# lick_zscore = trial['Lick Event_Zscore'][0]\n",
    "\n",
    "# # Plotting both traces\n",
    "# plt.figure(figsize=(8, 4))\n",
    "# plt.plot(tone_time, tone_zscore, label='Tone Event (Sound Cue)')\n",
    "# plt.plot(lick_time, lick_zscore, label='Lick Event')\n",
    "# plt.axhline(0, color='gray', linestyle='--')\n",
    "# plt.axvline(0, color='gray', linestyle='--')\n",
    "# plt.xlabel('Time (s)')\n",
    "# plt.ylabel('Baseline-corrected z-score')\n",
    "# plt.title('Tone and Lick DA Responses')\n",
    "# plt.legend()\n",
    "# plt.show()\n"
   ]
  },
  {
   "cell_type": "markdown",
   "metadata": {},
   "source": [
    "## PSTH For first and last tones"
   ]
  },
  {
   "cell_type": "markdown",
   "metadata": {},
   "source": [
    "## Plotting PETH of first and last tones"
   ]
  },
  {
   "cell_type": "code",
   "execution_count": 15,
   "metadata": {},
   "outputs": [
    {
     "ename": "AttributeError",
     "evalue": "'Reward_Training' object has no attribute 'plot_specific_peth'",
     "output_type": "error",
     "traceback": [
      "\u001b[1;31m---------------------------------------------------------------------------\u001b[0m",
      "\u001b[1;31mAttributeError\u001b[0m                            Traceback (most recent call last)",
      "Cell \u001b[1;32mIn[15], line 5\u001b[0m\n\u001b[0;32m      2\u001b[0m     exp\u001b[38;5;241m.\u001b[39mplot_specific_peth(event_type\u001b[38;5;241m=\u001b[39m\u001b[38;5;124m'\u001b[39m\u001b[38;5;124mTone\u001b[39m\u001b[38;5;124m'\u001b[39m, directory_path\u001b[38;5;241m=\u001b[39mdirectory_path, brain_region\u001b[38;5;241m=\u001b[39m\u001b[38;5;124m'\u001b[39m\u001b[38;5;124mNAc\u001b[39m\u001b[38;5;124m'\u001b[39m, y_min\u001b[38;5;241m=\u001b[39m\u001b[38;5;241m-\u001b[39m\u001b[38;5;241m1.5\u001b[39m, y_max\u001b[38;5;241m=\u001b[39m\u001b[38;5;241m6.5\u001b[39m)\n\u001b[0;32m      3\u001b[0m     \u001b[38;5;66;03m# exp.plot_specific_peth(event_type='Lick', directory_path=directory_path1, brain_region='NAc', y_min=-1.5, y_max=6)\u001b[39;00m\n\u001b[0;32m      4\u001b[0m \u001b[38;5;28;01melse\u001b[39;00m:\n\u001b[1;32m----> 5\u001b[0m     \u001b[43mexp\u001b[49m\u001b[38;5;241;43m.\u001b[39;49m\u001b[43mplot_specific_peth\u001b[49m(event_type\u001b[38;5;241m=\u001b[39m\u001b[38;5;124m'\u001b[39m\u001b[38;5;124mTone\u001b[39m\u001b[38;5;124m'\u001b[39m, directory_path\u001b[38;5;241m=\u001b[39mdirectory_path, brain_region\u001b[38;5;241m=\u001b[39m\u001b[38;5;124m'\u001b[39m\u001b[38;5;124mmPFC\u001b[39m\u001b[38;5;124m'\u001b[39m, y_min\u001b[38;5;241m=\u001b[39m\u001b[38;5;241m-\u001b[39m\u001b[38;5;241m1.5\u001b[39m, y_max\u001b[38;5;241m=\u001b[39m\u001b[38;5;241m2.2\u001b[39m)\n\u001b[0;32m      6\u001b[0m     \u001b[38;5;66;03m# exp.plot_specific_peth(event_type='Lick', directory_path=directory_path1, brain_region='mPFC', y_min=-1.3, y_max=1.5)\u001b[39;00m\n",
      "\u001b[1;31mAttributeError\u001b[0m: 'Reward_Training' object has no attribute 'plot_specific_peth'"
     ]
    }
   ],
   "source": [
    "if brain_region == 'NAc':\n",
    "    exp.plot_specific_peth(event_type='Tone', directory_path=directory_path, brain_region='NAc', y_min=-1.5, y_max=6.5)\n",
    "    # exp.plot_specific_peth(event_type='Lick', directory_path=directory_path1, brain_region='NAc', y_min=-1.5, y_max=6)\n",
    "else:\n",
    "    exp.plot_specific_peth(event_type='Tone', directory_path=directory_path, brain_region='mPFC', y_min=-1.5, y_max=2.2)\n",
    "    # exp.plot_specific_peth(event_type='Lick', directory_path=directory_path1, brain_region='mPFC', y_min=-1.3, y_max=1.5)"
   ]
  },
  {
   "cell_type": "markdown",
   "metadata": {},
   "source": [
    "## Plotting Heatmaps"
   ]
  },
  {
   "cell_type": "code",
   "execution_count": null,
   "metadata": {},
   "outputs": [
    {
     "data": {
      "image/png": "[encoded data removed]",
      "text/plain": [
       "<Figure size 1200x600 with 2 Axes>"
      ]
     },
     "metadata": {},
     "output_type": "display_data"
    }
   ],
   "source": [
    "if brain_region == 'mPFC':\n",
    "    exp.plot_trial_heatmaps(trial_numbers=15, event_type='Tone', directory_path=directory_path3, brain_region='mPFC')\n",
    "else:\n",
    "    exp.plot_trial_heatmaps(trial_numbers=15, event_type='Tone', directory_path=directory_path3, brain_region='NAc')"
   ]
  },
  {
   "cell_type": "markdown",
   "metadata": {},
   "source": [
    "## Plotting Linear with Global DA"
   ]
  },
  {
   "cell_type": "code",
   "execution_count": null,
   "metadata": {},
   "outputs": [],
   "source": []
  },
  {
   "cell_type": "markdown",
   "metadata": {},
   "source": [
    "## Plotting Linear with Event-Induced DA"
   ]
  },
  {
   "cell_type": "code",
   "execution_count": null,
   "metadata": {},
   "outputs": [],
   "source": []
  },
  {
   "cell_type": "code",
   "execution_count": null,
   "metadata": {},
   "outputs": [
    {
     "data": {
      "text/plain": [
       "\"# Compute PETH around the first 5 sound cues\\nexp.rt_compute_peth_per_event(behavior_name='sound cues', n_events=14, pre_time=100, post_time=10, bin_size=0.1)\\n\\n# Plot the PETH\\nexp.rt_plot_peth_per_event(signal_type='zscore', error_type='sem', title='PETH for First n Sound Cues',\\n                          color=brain_region, display_pre_time=4, display_post_time=10, yticks_interval=2)\""
      ]
     },
     "execution_count": 9,
     "metadata": {},
     "output_type": "execute_result"
    }
   ],
   "source": [
    "\"\"\"# Compute PETH around the first 5 sound cues\n",
    "exp.rt_compute_peth_per_event(behavior_name='sound cues', n_events=14, pre_time=100, post_time=10, bin_size=0.1)\n",
    "\n",
    "# Plot the PETH\n",
    "exp.rt_plot_peth_per_event(signal_type='zscore', error_type='sem', title='PETH for First n Sound Cues',\n",
    "                          color=brain_region, display_pre_time=4, display_post_time=10, yticks_interval=2)\"\"\"\n"
   ]
  },
  {
   "cell_type": "code",
   "execution_count": null,
   "metadata": {},
   "outputs": [],
   "source": [
    "# # common_time_axis, peri_event_signals = exp.compute_peth_for_selected_events([14])\n",
    "# # exp.plot_peth_for_all_sounds(common_time_axis, peri_event_signals)\n",
    "# common_time_axis, peri_event_signals = exp.compute_peth_for_all_sounds()\n",
    "# exp.plot_peth_for_all_sounds(common_time_axis, peri_event_signals)"
   ]
  },
  {
   "cell_type": "code",
   "execution_count": null,
   "metadata": {},
   "outputs": [
    {
     "ename": "AttributeError",
     "evalue": "'Reward_Training' object has no attribute 'compute_mean_da_across_trials'",
     "output_type": "error",
     "traceback": [
      "\u001b[1;31m---------------------------------------------------------------------------\u001b[0m",
      "\u001b[1;31mAttributeError\u001b[0m                            Traceback (most recent call last)",
      "Cell \u001b[1;32mIn[11], line 1\u001b[0m\n\u001b[1;32m----> 1\u001b[0m df \u001b[38;5;241m=\u001b[39m \u001b[43mexp\u001b[49m\u001b[38;5;241;43m.\u001b[39;49m\u001b[43mcompute_mean_da_across_trials\u001b[49m()\n\u001b[0;32m      2\u001b[0m df \u001b[38;5;241m=\u001b[39m df\u001b[38;5;241m.\u001b[39miloc[\u001b[38;5;241m1\u001b[39m:]\u001b[38;5;241m.\u001b[39mreset_index(drop\u001b[38;5;241m=\u001b[39m\u001b[38;5;28;01mTrue\u001b[39;00m)\n\u001b[0;32m      3\u001b[0m exp\u001b[38;5;241m.\u001b[39mplot_linear_fit_with_error_bars(df, color\u001b[38;5;241m=\u001b[39mbrain_region, y_limits\u001b[38;5;241m=\u001b[39m[\u001b[38;5;241m-\u001b[39m\u001b[38;5;241m1\u001b[39m,\u001b[38;5;241m3\u001b[39m])\n",
      "\u001b[1;31mAttributeError\u001b[0m: 'Reward_Training' object has no attribute 'compute_mean_da_across_trials'"
     ]
    }
   ],
   "source": [
    "df = exp.compute_mean_da_across_trials()\n",
    "df = df.iloc[1:].reset_index(drop=True)\n",
    "exp.plot_linear_fit_with_error_bars(df, color=brain_region, y_limits=[-1,3])"
   ]
  },
  {
   "cell_type": "markdown",
   "metadata": {},
   "source": []
  }
 ],
 "metadata": {
  "kernelspec": {
   "display_name": "albertenv",
   "language": "python",
   "name": "python3"
  },
  "language_info": {
   "codemirror_mode": {
    "name": "ipython",
    "version": 3
   },
   "file_extension": ".py",
   "mimetype": "text/x-python",
   "name": "python",
   "nbconvert_exporter": "python",
   "pygments_lexer": "ipython3",
   "version": "3.12.9"
  }
 },
 "nbformat": 4,
 "nbformat_minor": 2
}
