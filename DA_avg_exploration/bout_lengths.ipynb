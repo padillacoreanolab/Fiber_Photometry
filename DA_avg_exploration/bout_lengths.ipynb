{
 "cells": [
  {
   "cell_type": "markdown",
   "metadata": {},
   "source": [
    "From all mice, look at different onsets of investigations and the associated response"
   ]
  },
  {
   "cell_type": "code",
   "execution_count": 1,
   "metadata": {},
   "outputs": [],
   "source": [
    "import os\n",
    "import sys\n",
    "\n",
    "PROJECT_ROOT = os.path.abspath(os.path.join(os.getcwd(), '..'))\n",
    "sys.path.append(PROJECT_ROOT)\n",
    "\n",
    "from experiment_class import Experiment\n",
    "\n",
    "import numpy as np\n",
    "import pandas as pd\n",
    "import matplotlib.pyplot as plt"
   ]
  },
  {
   "cell_type": "code",
   "execution_count": 2,
   "metadata": {},
   "outputs": [],
   "source": [
    "experiment_path = r\"C:\\Users\\alber\\OneDrive\\Desktop\\PC_Lab\\Photometry\\Pilot_2\\Combined\\Hab_Dishab\\All\\nac\"\n",
    "csv_base_path = r\"C:\\Users\\alber\\OneDrive\\Desktop\\PC_Lab\\Photometry\\Pilot_2\\Combined\\Hab_Dishab\\All\\nac_csvs\"\n",
    "brain_region = '#FFAF00'"
   ]
  },
  {
   "cell_type": "markdown",
   "metadata": {},
   "source": [
    "trial.remove_initial_LED_artifact(t=30)\n",
    "trial.remove_final_data_segment(t = 10)\n",
    "\n",
    "trial.smooth_and_apply(window_len=int(trial.fs)*1)\n",
    "trial.apply_ma_baseline_drift()\n",
    "trial.compute_zscore(method = 'standard')\n",
    "trial.verify_signal()\n",
    "\n",
    "csv_file_name = f\"{trial_folder}.csv\"\n",
    "csv_file_path = os.path.join(self.behavior_folder_path, csv_file_name)\n",
    "trial.extract_manual_annotation_behaviors(csv_file_path)"
   ]
  },
  {
   "cell_type": "code",
   "execution_count": 3,
   "metadata": {},
   "outputs": [
    {
     "name": "stdout",
     "output_type": "stream",
     "text": [
      "Found Synapse note file: C:\\Users\\alber\\OneDrive\\Desktop\\PC_Lab\\Photometry\\Pilot_2\\Combined\\Hab_Dishab\\All\\nac\\nn5-250114-083827\\Notes.txt\n",
      "read from t=0s to t=1324.46s\n",
      "Found Synapse note file: C:\\Users\\alber\\OneDrive\\Desktop\\PC_Lab\\Photometry\\Pilot_2\\Combined\\Hab_Dishab\\All\\nac\\nn6-250114-093117\\Notes.txt\n",
      "read from t=0s to t=1368.25s\n",
      "Processing nn5-250114-083827...\n",
      "Processing nn6-250114-093117...\n"
     ]
    }
   ],
   "source": [
    "experiment = Experiment(experiment_path, csv_base_path)\n",
    "\n",
    "experiment.default_batch_process()"
   ]
  },
  {
   "cell_type": "code",
   "execution_count": 4,
   "metadata": {},
   "outputs": [
    {
     "name": "stdout",
     "output_type": "stream",
     "text": [
      "Processing behaviors for nn5-250114-083827...\n",
      "Processing behaviors for nn6-250114-093117...\n"
     ]
    }
   ],
   "source": [
    "bout_definitions = [\n",
    "    {'prefix': 's1', 'introduced': 's1_Introduced', 'removed': 's1_Removed'},\n",
    "    {'prefix': 's2', 'introduced': 's2_Introduced', 'removed': 's2_Removed'}\n",
    "]\n",
    "\n",
    "experiment.group_extract_manual_annotations(bout_definitions)"
   ]
  },
  {
   "cell_type": "code",
   "execution_count": 6,
   "metadata": {},
   "outputs": [
    {
     "data": {
      "text/html": [
       "<div>\n",
       "<style scoped>\n",
       "    .dataframe tbody tr th:only-of-type {\n",
       "        vertical-align: middle;\n",
       "    }\n",
       "\n",
       "    .dataframe tbody tr th {\n",
       "        vertical-align: top;\n",
       "    }\n",
       "\n",
       "    .dataframe thead th {\n",
       "        text-align: right;\n",
       "    }\n",
       "</style>\n",
       "<table border=\"1\" class=\"dataframe\">\n",
       "  <thead>\n",
       "    <tr style=\"text-align: right;\">\n",
       "      <th></th>\n",
       "      <th>Bout</th>\n",
       "      <th>Behavior</th>\n",
       "      <th>Event_Start</th>\n",
       "      <th>Event_End</th>\n",
       "      <th>Duration (s)</th>\n",
       "    </tr>\n",
       "  </thead>\n",
       "  <tbody>\n",
       "    <tr>\n",
       "      <th>0</th>\n",
       "      <td>s1-1</td>\n",
       "      <td>Investigation</td>\n",
       "      <td>188.1</td>\n",
       "      <td>188.300</td>\n",
       "      <td>0.200</td>\n",
       "    </tr>\n",
       "    <tr>\n",
       "      <th>1</th>\n",
       "      <td>s1-1</td>\n",
       "      <td>Investigation</td>\n",
       "      <td>189.6</td>\n",
       "      <td>202.700</td>\n",
       "      <td>13.100</td>\n",
       "    </tr>\n",
       "    <tr>\n",
       "      <th>2</th>\n",
       "      <td>s1-1</td>\n",
       "      <td>Investigation</td>\n",
       "      <td>211.9</td>\n",
       "      <td>214.100</td>\n",
       "      <td>2.200</td>\n",
       "    </tr>\n",
       "    <tr>\n",
       "      <th>3</th>\n",
       "      <td>s1-1</td>\n",
       "      <td>Approach</td>\n",
       "      <td>219.1</td>\n",
       "      <td>220.699</td>\n",
       "      <td>1.599</td>\n",
       "    </tr>\n",
       "    <tr>\n",
       "      <th>4</th>\n",
       "      <td>s1-1</td>\n",
       "      <td>Investigation</td>\n",
       "      <td>220.7</td>\n",
       "      <td>220.900</td>\n",
       "      <td>0.200</td>\n",
       "    </tr>\n",
       "  </tbody>\n",
       "</table>\n",
       "</div>"
      ],
      "text/plain": [
       "   Bout       Behavior  Event_Start  Event_End  Duration (s)\n",
       "0  s1-1  Investigation        188.1    188.300         0.200\n",
       "1  s1-1  Investigation        189.6    202.700        13.100\n",
       "2  s1-1  Investigation        211.9    214.100         2.200\n",
       "3  s1-1       Approach        219.1    220.699         1.599\n",
       "4  s1-1  Investigation        220.7    220.900         0.200"
      ]
     },
     "execution_count": 6,
     "metadata": {},
     "output_type": "execute_result"
    }
   ],
   "source": [
    "nn5 = experiment.trials['nn6-250114-093117']\n",
    "nn5.behaviors.head()"
   ]
  },
  {
   "cell_type": "code",
   "execution_count": null,
   "metadata": {},
   "outputs": [],
   "source": [
    "# nn5 = group_data.trials['nn5-250114-083827']\n",
    "# nn5.behaviors['Investigation'].onset_times\n",
    "# nn5.behaviors['Investigation'].offset_times"
   ]
  }
 ],
 "metadata": {
  "kernelspec": {
   "display_name": "photometry",
   "language": "python",
   "name": "python3"
  },
  "language_info": {
   "codemirror_mode": {
    "name": "ipython",
    "version": 3
   },
   "file_extension": ".py",
   "mimetype": "text/x-python",
   "name": "python",
   "nbconvert_exporter": "python",
   "pygments_lexer": "ipython3",
   "version": "3.12.5"
  }
 },
 "nbformat": 4,
 "nbformat_minor": 2
}
