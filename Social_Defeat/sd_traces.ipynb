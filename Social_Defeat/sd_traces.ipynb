{
 "cells": [
  {
   "cell_type": "markdown",
   "metadata": {},
   "source": [
    "From all mice, look at different onsets of investigations and the associated response"
   ]
  },
  {
   "cell_type": "code",
   "execution_count": 1,
   "metadata": {},
   "outputs": [],
   "source": [
    "import os\n",
    "import sys\n",
    "\n",
    "PROJECT_ROOT = os.path.abspath(os.path.join(os.getcwd(), '..'))\n",
    "sys.path.append(PROJECT_ROOT)\n",
    "\n",
    "from experiment_class import Experiment\n",
    "from Hab_Dishab.hd_extension import *\n"
   ]
  },
  {
   "cell_type": "code",
   "execution_count": 2,
   "metadata": {},
   "outputs": [],
   "source": [
    "# experiment_path = r\"C:\\Users\\alber\\OneDrive\\Desktop\\PC_Lab\\Photometry\\Pilot_2\\Combined\\Defeat\\nac\"\n",
    "# csv_base_path = r\"C:\\Users\\alber\\OneDrive\\Desktop\\PC_Lab\\Photometry\\Pilot_2\\Combined\\Defeat\\nac_csvs\"\n",
    "# brain_region = '#15616F'\n",
    "\n",
    "# NAc: #15616F\n",
    "# mPFC: #FFAF00\n",
    "\n",
    "experiment_path = r\"C:\\Users\\alber\\OneDrive\\Desktop\\PC_Lab\\Photometry\\Pilot_2\\Combined\\Defeat\\mpfc\"\n",
    "csv_base_path = r\"C:\\Users\\alber\\OneDrive\\Desktop\\PC_Lab\\Photometry\\Pilot_2\\Combined\\Defeat\\mpfc_csvs\"\n",
    "brain_region = '#FFAF00'"
   ]
  },
  {
   "cell_type": "markdown",
   "metadata": {},
   "source": [
    "trial.remove_initial_LED_artifact(t=30)\n",
    "trial.remove_final_data_segment(t = 10)\n",
    "\n",
    "trial.smooth_and_apply(window_len=int(trial.fs)*1)\n",
    "trial.apply_ma_baseline_drift()\n",
    "trial.compute_zscore(method = 'standard')\n",
    "trial.verify_signal()\n",
    "\n",
    "csv_file_name = f\"{trial_folder}.csv\"\n",
    "csv_file_path = os.path.join(self.behavior_folder_path, csv_file_name)\n",
    "trial.extract_manual_annotation_behaviors(csv_file_path)"
   ]
  },
  {
   "cell_type": "code",
   "execution_count": 3,
   "metadata": {},
   "outputs": [
    {
     "name": "stdout",
     "output_type": "stream",
     "text": [
      "Found Synapse note file: C:\\Users\\alber\\OneDrive\\Desktop\\PC_Lab\\Photometry\\Pilot_2\\Combined\\Defeat\\mpfc\\p1-240510-082326\\Notes.txt\n",
      "read from t=0s to t=952.19s\n",
      "Found Synapse note file: C:\\Users\\alber\\OneDrive\\Desktop\\PC_Lab\\Photometry\\Pilot_2\\Combined\\Defeat\\mpfc\\p2-240510-094249\\Notes.txt\n",
      "read from t=0s to t=922.7s\n",
      "Found Synapse note file: C:\\Users\\alber\\OneDrive\\Desktop\\PC_Lab\\Photometry\\Pilot_2\\Combined\\Defeat\\mpfc\\p3-240513-064912\\Notes.txt\n",
      "read from t=0s to t=914.45s\n",
      "Found Synapse note file: C:\\Users\\alber\\OneDrive\\Desktop\\PC_Lab\\Photometry\\Pilot_2\\Combined\\Defeat\\mpfc\\p4-240513-082248\\Notes.txt\n",
      "read from t=0s to t=929.36s\n",
      "Found Synapse note file: C:\\Users\\alber\\OneDrive\\Desktop\\PC_Lab\\Photometry\\Pilot_2\\Combined\\Defeat\\mpfc\\p5-240916-090016\\Notes.txt\n",
      "read from t=0s to t=861.96s\n",
      "Found Synapse note file: C:\\Users\\alber\\OneDrive\\Desktop\\PC_Lab\\Photometry\\Pilot_2\\Combined\\Defeat\\mpfc\\p6-240916-095652\\Notes.txt\n",
      "read from t=0s to t=879.75s\n",
      "Found Synapse note file: C:\\Users\\alber\\OneDrive\\Desktop\\PC_Lab\\Photometry\\Pilot_2\\Combined\\Defeat\\mpfc\\p7-240916-110418\\Notes.txt\n",
      "read from t=0s to t=881.35s\n",
      "Found Synapse note file: C:\\Users\\alber\\OneDrive\\Desktop\\PC_Lab\\Photometry\\Pilot_2\\Combined\\Defeat\\mpfc\\p8-240916-115836\\Notes.txt\n",
      "read from t=0s to t=879.95s\n",
      "Found Synapse note file: C:\\Users\\alber\\OneDrive\\Desktop\\PC_Lab\\Photometry\\Pilot_2\\Combined\\Defeat\\mpfc\\pp1-250223-093419\\Notes.txt\n",
      "read from t=0s to t=866.75s\n",
      "Found Synapse note file: C:\\Users\\alber\\OneDrive\\Desktop\\PC_Lab\\Photometry\\Pilot_2\\Combined\\Defeat\\mpfc\\pp2-250223-082553\\Notes.txt\n",
      "read from t=0s to t=860.95s\n",
      "Found Synapse note file: C:\\Users\\alber\\OneDrive\\Desktop\\PC_Lab\\Photometry\\Pilot_2\\Combined\\Defeat\\mpfc\\pp3-250223-084945\\Notes.txt\n",
      "read from t=0s to t=855.35s\n",
      "Found Synapse note file: C:\\Users\\alber\\OneDrive\\Desktop\\PC_Lab\\Photometry\\Pilot_2\\Combined\\Defeat\\mpfc\\pp4-250223-091227\\Notes.txt\n",
      "read from t=0s to t=857.55s\n",
      "Found Synapse note file: C:\\Users\\alber\\OneDrive\\Desktop\\PC_Lab\\Photometry\\Pilot_2\\Combined\\Defeat\\mpfc\\pp5-250223-132705\\Notes.txt\n",
      "read from t=0s to t=862.24s\n",
      "Found Synapse note file: C:\\Users\\alber\\OneDrive\\Desktop\\PC_Lab\\Photometry\\Pilot_2\\Combined\\Defeat\\mpfc\\pp6-250223-135048\\Notes.txt\n",
      "read from t=0s to t=866.85s\n",
      "Found Synapse note file: C:\\Users\\alber\\OneDrive\\Desktop\\PC_Lab\\Photometry\\Pilot_2\\Combined\\Defeat\\mpfc\\pp7-250223-141336\\Notes.txt\n",
      "read from t=0s to t=861.55s\n",
      "Found Synapse note file: C:\\Users\\alber\\OneDrive\\Desktop\\PC_Lab\\Photometry\\Pilot_2\\Combined\\Defeat\\mpfc\\pp8-250223-143545\\Notes.txt\n",
      "read from t=0s to t=860.75s\n",
      "Processing p1-240510-082326...\n",
      "Processing p2-240510-094249...\n",
      "Processing p3-240513-064912...\n",
      "Processing p4-240513-082248...\n",
      "Processing p5-240916-090016...\n",
      "Processing p6-240916-095652...\n",
      "Processing p7-240916-110418...\n",
      "Processing p8-240916-115836...\n",
      "Processing pp1-250223-093419...\n",
      "Processing pp2-250223-082553...\n",
      "Processing pp3-250223-084945...\n",
      "Processing pp4-250223-091227...\n",
      "Processing pp5-250223-132705...\n",
      "Processing pp6-250223-135048...\n",
      "Processing pp7-250223-141336...\n",
      "Processing pp8-250223-143545...\n"
     ]
    }
   ],
   "source": [
    "experiment = Experiment(experiment_path, csv_base_path)\n",
    "\n",
    "experiment.default_batch_process()"
   ]
  },
  {
   "cell_type": "code",
   "execution_count": 4,
   "metadata": {},
   "outputs": [
    {
     "name": "stdout",
     "output_type": "stream",
     "text": [
      "Processing behaviors for p1-240510-082326...\n",
      "Processing behaviors for p2-240510-094249...\n",
      "Processing behaviors for p3-240513-064912...\n",
      "Processing behaviors for p4-240513-082248...\n",
      "Processing behaviors for p5-240916-090016...\n",
      "Processing behaviors for p6-240916-095652...\n",
      "Processing behaviors for p7-240916-110418...\n",
      "Processing behaviors for p8-240916-115836...\n",
      "Processing behaviors for pp1-250223-093419...\n",
      "Processing behaviors for pp2-250223-082553...\n",
      "Processing behaviors for pp3-250223-084945...\n",
      "Processing behaviors for pp4-250223-091227...\n",
      "Processing behaviors for pp5-250223-132705...\n",
      "Processing behaviors for pp6-250223-135048...\n",
      "Processing behaviors for pp7-250223-141336...\n",
      "Processing behaviors for pp8-250223-143545...\n"
     ]
    }
   ],
   "source": [
    "bout_definitions = [\n",
    "    {'prefix': 'bully', 'introduced': 'Subject_Introduced', 'removed': 'Subject_Removed'}\n",
    "]\n",
    "experiment.group_extract_manual_annotations(bout_definitions,first_only=False)"
   ]
  },
  {
   "cell_type": "code",
   "execution_count": 5,
   "metadata": {},
   "outputs": [
    {
     "name": "stdout",
     "output_type": "stream",
     "text": [
      "Computing DA metrics for p1-240510-082326 ...\n",
      "Computing DA metrics for p2-240510-094249 ...\n",
      "Computing DA metrics for p3-240513-064912 ...\n",
      "Computing DA metrics for p4-240513-082248 ...\n",
      "Computing DA metrics for p5-240916-090016 ...\n",
      "Computing DA metrics for p6-240916-095652 ...\n",
      "Computing DA metrics for p7-240916-110418 ...\n",
      "Computing DA metrics for p8-240916-115836 ...\n",
      "Computing DA metrics for pp1-250223-093419 ...\n",
      "Computing DA metrics for pp2-250223-082553 ...\n",
      "Computing DA metrics for pp3-250223-084945 ...\n",
      "Computing DA metrics for pp4-250223-091227 ...\n",
      "Computing DA metrics for pp5-250223-132705 ...\n",
      "Computing DA metrics for pp6-250223-135048 ...\n",
      "Computing DA metrics for pp7-250223-141336 ...\n",
      "Computing DA metrics for pp8-250223-143545 ...\n"
     ]
    }
   ],
   "source": [
    "# Proceed with DA metric computation after all files are processed\n",
    "experiment.compute_all_da_metrics(use_max_length=False,\n",
    "                                  max_bout_duration=10, \n",
    "                                  mode='standard',\n",
    "                                  post_time = 30)\n"
   ]
  },
  {
   "cell_type": "code",
   "execution_count": 6,
   "metadata": {},
   "outputs": [],
   "source": [
    "exp_dict = get_trial_dataframes(experiment)"
   ]
  },
  {
   "cell_type": "code",
   "execution_count": 7,
   "metadata": {},
   "outputs": [],
   "source": [
    "desired_bouts = ['bully-1']\n",
    "metadata_df = create_metadata_dataframe(exp_dict, behavior=\"Defeat\", desired_bouts=desired_bouts)"
   ]
  },
  {
   "cell_type": "code",
   "execution_count": 8,
   "metadata": {},
   "outputs": [
    {
     "data": {
      "text/html": [
       "<div>\n",
       "<style scoped>\n",
       "    .dataframe tbody tr th:only-of-type {\n",
       "        vertical-align: middle;\n",
       "    }\n",
       "\n",
       "    .dataframe tbody tr th {\n",
       "        vertical-align: top;\n",
       "    }\n",
       "\n",
       "    .dataframe thead th {\n",
       "        text-align: right;\n",
       "    }\n",
       "</style>\n",
       "<table border=\"1\" class=\"dataframe\">\n",
       "  <thead>\n",
       "    <tr style=\"text-align: right;\">\n",
       "      <th></th>\n",
       "      <th>Subject</th>\n",
       "      <th>Bout</th>\n",
       "      <th>Behavior</th>\n",
       "      <th>Total Investigation Time</th>\n",
       "      <th>Average Bout Duration</th>\n",
       "    </tr>\n",
       "  </thead>\n",
       "  <tbody>\n",
       "    <tr>\n",
       "      <th>0</th>\n",
       "      <td>p1</td>\n",
       "      <td>bully-1</td>\n",
       "      <td>Defeat</td>\n",
       "      <td>144.068</td>\n",
       "      <td>9.604533</td>\n",
       "    </tr>\n",
       "    <tr>\n",
       "      <th>1</th>\n",
       "      <td>p2</td>\n",
       "      <td>bully-1</td>\n",
       "      <td>Defeat</td>\n",
       "      <td>62.132</td>\n",
       "      <td>5.177667</td>\n",
       "    </tr>\n",
       "    <tr>\n",
       "      <th>2</th>\n",
       "      <td>p3</td>\n",
       "      <td>bully-1</td>\n",
       "      <td>Defeat</td>\n",
       "      <td>189.198</td>\n",
       "      <td>11.824875</td>\n",
       "    </tr>\n",
       "    <tr>\n",
       "      <th>3</th>\n",
       "      <td>p4</td>\n",
       "      <td>bully-1</td>\n",
       "      <td>Defeat</td>\n",
       "      <td>88.798</td>\n",
       "      <td>4.439900</td>\n",
       "    </tr>\n",
       "    <tr>\n",
       "      <th>4</th>\n",
       "      <td>p5</td>\n",
       "      <td>bully-1</td>\n",
       "      <td>Defeat</td>\n",
       "      <td>107.100</td>\n",
       "      <td>8.925000</td>\n",
       "    </tr>\n",
       "  </tbody>\n",
       "</table>\n",
       "</div>"
      ],
      "text/plain": [
       "  Subject     Bout Behavior  Total Investigation Time  Average Bout Duration\n",
       "0      p1  bully-1   Defeat                   144.068               9.604533\n",
       "1      p2  bully-1   Defeat                    62.132               5.177667\n",
       "2      p3  bully-1   Defeat                   189.198              11.824875\n",
       "3      p4  bully-1   Defeat                    88.798               4.439900\n",
       "4      p5  bully-1   Defeat                   107.100               8.925000"
      ]
     },
     "execution_count": 8,
     "metadata": {},
     "output_type": "execute_result"
    }
   ],
   "source": [
    "metadata_df.head()"
   ]
  },
  {
   "cell_type": "code",
   "execution_count": 9,
   "metadata": {},
   "outputs": [
    {
     "name": "stdout",
     "output_type": "stream",
     "text": [
      "Total Average Bout Duration: 12.8206\n"
     ]
    }
   ],
   "source": [
    "total_avg_bout_duration = metadata_df[\"Average Bout Duration\"].mean()\n",
    "print(f\"Total Average Bout Duration: {total_avg_bout_duration:.4f}\")"
   ]
  },
  {
   "cell_type": "code",
   "execution_count": 12,
   "metadata": {},
   "outputs": [],
   "source": [
    "desired_bouts = ['bully-1']\n",
    "# experiment.plot_first_behavior_PETHs(selected_bouts=desired_bouts, behavior=\"Defeat\")"
   ]
  },
  {
   "cell_type": "code",
   "execution_count": null,
   "metadata": {},
   "outputs": [],
   "source": []
  }
 ],
 "metadata": {
  "kernelspec": {
   "display_name": "photometry",
   "language": "python",
   "name": "python3"
  },
  "language_info": {
   "codemirror_mode": {
    "name": "ipython",
    "version": 3
   },
   "file_extension": ".py",
   "mimetype": "text/x-python",
   "name": "python",
   "nbconvert_exporter": "python",
   "pygments_lexer": "ipython3",
   "version": "3.12.5"
  }
 },
 "nbformat": 4,
 "nbformat_minor": 2
}
