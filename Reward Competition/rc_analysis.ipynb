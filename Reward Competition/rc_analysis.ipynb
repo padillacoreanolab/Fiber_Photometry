{
 "cells": [
  {
   "cell_type": "code",
   "execution_count": 1,
   "metadata": {},
   "outputs": [],
   "source": [
    "from rc_extension import Reward_Competition\n",
    "from pathlib import Path"
   ]
  },
  {
   "cell_type": "code",
   "execution_count": 2,
   "metadata": {},
   "outputs": [
    {
     "name": "stdout",
     "output_type": "stream",
     "text": [
      "C:\\Users\\yezon\\Padilla-Coreano_Lab\\Albert_Cohort_3\\Reward_Comp\\testing\\plots\n"
     ]
    }
   ],
   "source": [
    "# method = input(\"Calculation method (modified, baseline, standard): \")\n",
    "# directory_path = Path(input(\"Path for plots: \"))\n",
    "\n",
    "cohort = 'Cohort1_2'\n",
    "method = 'standard'\n",
    "csv_path = r\"C:\\Users\\yezon\\Padilla-Coreano_Lab\\Albert_Cohort_3\\Reward_Comp\\Cohort_1_2\\P2C1_Reward_Comp_Manual_Scoring.xlsx\"\n",
    "experiment_path = r\"C:\\Users\\yezon\\Padilla-Coreano_Lab\\Albert_Cohort_3\\Reward_Comp\\Cohort_1_2\\testing\"\n",
    "brain_region = '#FFAF00'\n",
    "\n",
    "# experiment_path = r\"C:\\Users\\yezon\\Padilla-Coreano_Lab\\Albert_Cohort_3\\Reward_Training\\Day1\\NAc\"\n",
    "# brain_region = '#15616F'\n",
    "# region = experiment_path.rsplit('\\\\', 1)[-1]\n",
    "\n",
    "# directory_path = Path(f'C:\\\\Users\\\\yezon\\\\Padilla-Coreano_Lab\\\\Albert_Cohort_3\\\\Reward_Training\\\\plots\\\\{method}\\\\{day}\\\\{region}')\n",
    "directory_path = Path(f'C:\\\\Users\\\\yezon\\\\Padilla-Coreano_Lab\\\\Albert_Cohort_3\\\\Reward_Comp\\\\testing\\\\plots')\n",
    "print(directory_path)\n",
    "\n",
    "# Create the directory (with parents=True to create nested directories)\n",
    "directory_path.mkdir(parents=True, exist_ok=True)"
   ]
  },
  {
   "cell_type": "code",
   "execution_count": 3,
   "metadata": {},
   "outputs": [
    {
     "name": "stdout",
     "output_type": "stream",
     "text": [
      "Found Synapse note file: C:\\Users\\yezon\\Padilla-Coreano_Lab\\Albert_Cohort_3\\Reward_Comp\\Cohort_1_2\\testing\\p1-240611-082555\\Notes.txt\n",
      "read from t=0s to t=2049.07s\n",
      "Found Synapse note file: C:\\Users\\yezon\\Padilla-Coreano_Lab\\Albert_Cohort_3\\Reward_Comp\\Cohort_1_2\\testing\\p1-240612-104753\\Notes.txt\n",
      "read from t=0s to t=2046.43s\n",
      "Found Synapse note file: C:\\Users\\yezon\\Padilla-Coreano_Lab\\Albert_Cohort_3\\Reward_Comp\\Cohort_1_2\\testing\\p2-240611-065329\\Notes.txt\n",
      "read from t=0s to t=2041.61s\n",
      "Found Synapse note file: C:\\Users\\yezon\\Padilla-Coreano_Lab\\Albert_Cohort_3\\Reward_Comp\\Cohort_1_2\\testing\\p2-240612-063828\\Notes.txt\n",
      "read from t=0s to t=2041.68s\n"
     ]
    }
   ],
   "source": [
    "exp = Reward_Competition(experiment_path, behavior_folder_path=None)"
   ]
  },
  {
   "cell_type": "code",
   "execution_count": 4,
   "metadata": {},
   "outputs": [
    {
     "name": "stdout",
     "output_type": "stream",
     "text": [
      "dict_items([('p1-240611-082555', <trial_class.Trial object at 0x0000016CBA8FDBE0>), ('p1-240612-104753', <trial_class.Trial object at 0x0000016CDABF0D10>), ('p2-240611-065329', <trial_class.Trial object at 0x0000016CDAAFE690>), ('p2-240612-063828', <trial_class.Trial object at 0x0000016CB81E6C00>)])\n",
      "Reward Training Processing p1-240611-082555...\n",
      "<trial_class.Trial object at 0x0000016CBA8FDBE0>\n",
      "Reward Training Processing p1-240612-104753...\n",
      "<trial_class.Trial object at 0x0000016CDABF0D10>\n",
      "Reward Training Processing p2-240611-065329...\n",
      "<trial_class.Trial object at 0x0000016CDAAFE690>\n",
      "Reward Training Processing p2-240612-063828...\n",
      "<trial_class.Trial object at 0x0000016CB81E6C00>\n"
     ]
    }
   ],
   "source": [
    "exp.rc_processing()"
   ]
  },
  {
   "cell_type": "code",
   "execution_count": null,
   "metadata": {},
   "outputs": [
    {
     "name": "stdout",
     "output_type": "stream",
     "text": [
      "Index(['file name', 'tangles', 'trial', 'sound cues', 'port entries',\n",
      "       'sound cues onset', 'port entries onset', 'subject_name',\n",
      "       'winner_array'],\n",
      "      dtype='object')\n",
      "Index(['file name', 'trial', 'sound cues', 'port entries', 'sound cues onset',\n",
      "       'port entries onset', 'subject_name', 'winner_array',\n",
      "       'filtered_winner_array', 'filtered_sound_cues',\n",
      "       'filtered_port_entries'],\n",
      "      dtype='object')\n"
     ]
    },
    {
     "ename": "KeyError",
     "evalue": "'tangles'",
     "output_type": "error",
     "traceback": [
      "\u001b[1;31m---------------------------------------------------------------------------\u001b[0m",
      "\u001b[1;31mKeyError\u001b[0m                                  Traceback (most recent call last)",
      "File \u001b[1;32mc:\\Users\\yezon\\miniforge3\\envs\\albertenv\\Lib\\site-packages\\pandas\\core\\indexes\\base.py:3805\u001b[0m, in \u001b[0;36mIndex.get_loc\u001b[1;34m(self, key)\u001b[0m\n\u001b[0;32m   3804\u001b[0m \u001b[38;5;28;01mtry\u001b[39;00m:\n\u001b[1;32m-> 3805\u001b[0m     \u001b[38;5;28;01mreturn\u001b[39;00m \u001b[38;5;28;43mself\u001b[39;49m\u001b[38;5;241;43m.\u001b[39;49m\u001b[43m_engine\u001b[49m\u001b[38;5;241;43m.\u001b[39;49m\u001b[43mget_loc\u001b[49m\u001b[43m(\u001b[49m\u001b[43mcasted_key\u001b[49m\u001b[43m)\u001b[49m\n\u001b[0;32m   3806\u001b[0m \u001b[38;5;28;01mexcept\u001b[39;00m \u001b[38;5;167;01mKeyError\u001b[39;00m \u001b[38;5;28;01mas\u001b[39;00m err:\n",
      "File \u001b[1;32mindex.pyx:167\u001b[0m, in \u001b[0;36mpandas._libs.index.IndexEngine.get_loc\u001b[1;34m()\u001b[0m\n",
      "File \u001b[1;32mindex.pyx:196\u001b[0m, in \u001b[0;36mpandas._libs.index.IndexEngine.get_loc\u001b[1;34m()\u001b[0m\n",
      "File \u001b[1;32mpandas\\\\_libs\\\\hashtable_class_helper.pxi:7081\u001b[0m, in \u001b[0;36mpandas._libs.hashtable.PyObjectHashTable.get_item\u001b[1;34m()\u001b[0m\n",
      "File \u001b[1;32mpandas\\\\_libs\\\\hashtable_class_helper.pxi:7089\u001b[0m, in \u001b[0;36mpandas._libs.hashtable.PyObjectHashTable.get_item\u001b[1;34m()\u001b[0m\n",
      "\u001b[1;31mKeyError\u001b[0m: 'tangles'",
      "\nThe above exception was the direct cause of the following exception:\n",
      "\u001b[1;31mKeyError\u001b[0m                                  Traceback (most recent call last)",
      "Cell \u001b[1;32mIn[7], line 4\u001b[0m\n\u001b[0;32m      2\u001b[0m exp\u001b[38;5;241m.\u001b[39mmerge_data()\n\u001b[0;32m      3\u001b[0m exp\u001b[38;5;241m.\u001b[39mremove_tangles()\n\u001b[1;32m----> 4\u001b[0m \u001b[43mexp\u001b[49m\u001b[38;5;241;43m.\u001b[39;49m\u001b[43mlosing\u001b[49m\u001b[43m(\u001b[49m\u001b[43m)\u001b[49m\n",
      "File \u001b[1;32mc:\\Users\\yezon\\OneDrive\\Documents\\Github\\Fiber_Photometry\\Reward Competition\\rc_extension.py:316\u001b[0m, in \u001b[0;36mReward_Competition.losing\u001b[1;34m(self)\u001b[0m\n\u001b[0;32m    313\u001b[0m all_other_columns \u001b[38;5;241m=\u001b[39m [\u001b[38;5;124m'\u001b[39m\u001b[38;5;124msound cues\u001b[39m\u001b[38;5;124m'\u001b[39m, \u001b[38;5;124m'\u001b[39m\u001b[38;5;124mport entries\u001b[39m\u001b[38;5;124m'\u001b[39m, \u001b[38;5;124m'\u001b[39m\u001b[38;5;124mtangles\u001b[39m\u001b[38;5;124m'\u001b[39m]  \u001b[38;5;66;03m# Add more columns as needed\u001b[39;00m\n\u001b[0;32m    314\u001b[0m \u001b[38;5;28;01mfor\u001b[39;00m idx, row \u001b[38;5;129;01min\u001b[39;00m \u001b[38;5;28mself\u001b[39m\u001b[38;5;241m.\u001b[39mdf\u001b[38;5;241m.\u001b[39miterrows():\n\u001b[0;32m    315\u001b[0m     \u001b[38;5;66;03m# Collect all other column values for the current row\u001b[39;00m\n\u001b[1;32m--> 316\u001b[0m     other_columns \u001b[38;5;241m=\u001b[39m {col: \u001b[43mrow\u001b[49m\u001b[43m[\u001b[49m\u001b[43mcol\u001b[49m\u001b[43m]\u001b[49m \u001b[38;5;28;01mfor\u001b[39;00m col \u001b[38;5;129;01min\u001b[39;00m all_other_columns}\n\u001b[0;32m    318\u001b[0m     \u001b[38;5;66;03m# Filter the trial data to keep only the subject's winning trials\u001b[39;00m\n\u001b[0;32m    319\u001b[0m     filtered_data, winner_indices \u001b[38;5;241m=\u001b[39m filter_trial_data(\n\u001b[0;32m    320\u001b[0m         row[\u001b[38;5;124m'\u001b[39m\u001b[38;5;124mloser_array\u001b[39m\u001b[38;5;124m'\u001b[39m], row[\u001b[38;5;124m'\u001b[39m\u001b[38;5;124msubject\u001b[39m\u001b[38;5;124m'\u001b[39m], other_columns\n\u001b[0;32m    321\u001b[0m     )\n",
      "File \u001b[1;32mc:\\Users\\yezon\\miniforge3\\envs\\albertenv\\Lib\\site-packages\\pandas\\core\\series.py:1121\u001b[0m, in \u001b[0;36mSeries.__getitem__\u001b[1;34m(self, key)\u001b[0m\n\u001b[0;32m   1118\u001b[0m     \u001b[38;5;28;01mreturn\u001b[39;00m \u001b[38;5;28mself\u001b[39m\u001b[38;5;241m.\u001b[39m_values[key]\n\u001b[0;32m   1120\u001b[0m \u001b[38;5;28;01melif\u001b[39;00m key_is_scalar:\n\u001b[1;32m-> 1121\u001b[0m     \u001b[38;5;28;01mreturn\u001b[39;00m \u001b[38;5;28;43mself\u001b[39;49m\u001b[38;5;241;43m.\u001b[39;49m\u001b[43m_get_value\u001b[49m\u001b[43m(\u001b[49m\u001b[43mkey\u001b[49m\u001b[43m)\u001b[49m\n\u001b[0;32m   1123\u001b[0m \u001b[38;5;66;03m# Convert generator to list before going through hashable part\u001b[39;00m\n\u001b[0;32m   1124\u001b[0m \u001b[38;5;66;03m# (We will iterate through the generator there to check for slices)\u001b[39;00m\n\u001b[0;32m   1125\u001b[0m \u001b[38;5;28;01mif\u001b[39;00m is_iterator(key):\n",
      "File \u001b[1;32mc:\\Users\\yezon\\miniforge3\\envs\\albertenv\\Lib\\site-packages\\pandas\\core\\series.py:1237\u001b[0m, in \u001b[0;36mSeries._get_value\u001b[1;34m(self, label, takeable)\u001b[0m\n\u001b[0;32m   1234\u001b[0m     \u001b[38;5;28;01mreturn\u001b[39;00m \u001b[38;5;28mself\u001b[39m\u001b[38;5;241m.\u001b[39m_values[label]\n\u001b[0;32m   1236\u001b[0m \u001b[38;5;66;03m# Similar to Index.get_value, but we do not fall back to positional\u001b[39;00m\n\u001b[1;32m-> 1237\u001b[0m loc \u001b[38;5;241m=\u001b[39m \u001b[38;5;28;43mself\u001b[39;49m\u001b[38;5;241;43m.\u001b[39;49m\u001b[43mindex\u001b[49m\u001b[38;5;241;43m.\u001b[39;49m\u001b[43mget_loc\u001b[49m\u001b[43m(\u001b[49m\u001b[43mlabel\u001b[49m\u001b[43m)\u001b[49m\n\u001b[0;32m   1239\u001b[0m \u001b[38;5;28;01mif\u001b[39;00m is_integer(loc):\n\u001b[0;32m   1240\u001b[0m     \u001b[38;5;28;01mreturn\u001b[39;00m \u001b[38;5;28mself\u001b[39m\u001b[38;5;241m.\u001b[39m_values[loc]\n",
      "File \u001b[1;32mc:\\Users\\yezon\\miniforge3\\envs\\albertenv\\Lib\\site-packages\\pandas\\core\\indexes\\base.py:3812\u001b[0m, in \u001b[0;36mIndex.get_loc\u001b[1;34m(self, key)\u001b[0m\n\u001b[0;32m   3807\u001b[0m     \u001b[38;5;28;01mif\u001b[39;00m \u001b[38;5;28misinstance\u001b[39m(casted_key, \u001b[38;5;28mslice\u001b[39m) \u001b[38;5;129;01mor\u001b[39;00m (\n\u001b[0;32m   3808\u001b[0m         \u001b[38;5;28misinstance\u001b[39m(casted_key, abc\u001b[38;5;241m.\u001b[39mIterable)\n\u001b[0;32m   3809\u001b[0m         \u001b[38;5;129;01mand\u001b[39;00m \u001b[38;5;28many\u001b[39m(\u001b[38;5;28misinstance\u001b[39m(x, \u001b[38;5;28mslice\u001b[39m) \u001b[38;5;28;01mfor\u001b[39;00m x \u001b[38;5;129;01min\u001b[39;00m casted_key)\n\u001b[0;32m   3810\u001b[0m     ):\n\u001b[0;32m   3811\u001b[0m         \u001b[38;5;28;01mraise\u001b[39;00m InvalidIndexError(key)\n\u001b[1;32m-> 3812\u001b[0m     \u001b[38;5;28;01mraise\u001b[39;00m \u001b[38;5;167;01mKeyError\u001b[39;00m(key) \u001b[38;5;28;01mfrom\u001b[39;00m\u001b[38;5;250m \u001b[39m\u001b[38;5;21;01merr\u001b[39;00m\n\u001b[0;32m   3813\u001b[0m \u001b[38;5;28;01mexcept\u001b[39;00m \u001b[38;5;167;01mTypeError\u001b[39;00m:\n\u001b[0;32m   3814\u001b[0m     \u001b[38;5;66;03m# If we have a listlike key, _check_indexing_error will raise\u001b[39;00m\n\u001b[0;32m   3815\u001b[0m     \u001b[38;5;66;03m#  InvalidIndexError. Otherwise we fall through and re-raise\u001b[39;00m\n\u001b[0;32m   3816\u001b[0m     \u001b[38;5;66;03m#  the TypeError.\u001b[39;00m\n\u001b[0;32m   3817\u001b[0m     \u001b[38;5;28mself\u001b[39m\u001b[38;5;241m.\u001b[39m_check_indexing_error(key)\n",
      "\u001b[1;31mKeyError\u001b[0m: 'tangles'"
     ]
    }
   ],
   "source": [
    "exp.read_manual_scoring1(csv_path)\n",
    "exp.merge_data()\n",
    "exp.remove_tangles()\n",
    "exp.winning()"
   ]
  },
  {
   "cell_type": "code",
   "execution_count": 6,
   "metadata": {},
   "outputs": [
    {
     "data": {
      "text/html": [
       "<div>\n",
       "<style scoped>\n",
       "    .dataframe tbody tr th:only-of-type {\n",
       "        vertical-align: middle;\n",
       "    }\n",
       "\n",
       "    .dataframe tbody tr th {\n",
       "        vertical-align: top;\n",
       "    }\n",
       "\n",
       "    .dataframe thead th {\n",
       "        text-align: right;\n",
       "    }\n",
       "</style>\n",
       "<table border=\"1\" class=\"dataframe\">\n",
       "  <thead>\n",
       "    <tr style=\"text-align: right;\">\n",
       "      <th></th>\n",
       "      <th>file name</th>\n",
       "      <th>trial</th>\n",
       "      <th>sound cues</th>\n",
       "      <th>port entries</th>\n",
       "      <th>sound cues onset</th>\n",
       "      <th>port entries onset</th>\n",
       "      <th>subject_name</th>\n",
       "      <th>winner_array</th>\n",
       "      <th>filtered_winner_array</th>\n",
       "      <th>filtered_sound_cues</th>\n",
       "      <th>filtered_port_entries</th>\n",
       "    </tr>\n",
       "  </thead>\n",
       "  <tbody>\n",
       "    <tr>\n",
       "      <th>0</th>\n",
       "      <td>p2-240611-065329</td>\n",
       "      <td>&lt;trial_class.Trial object at 0x0000016CDAAFE690&gt;</td>\n",
       "      <td>{'name': 'PC0/', 'onset': [0.0, 241.06975232, ...</td>\n",
       "      <td>{'name': 'PC3/', 'onset': [0.0, 263.74995968, ...</td>\n",
       "      <td>[241.06975232, 321.07020288, 411.07079168, 491...</td>\n",
       "      <td>[263.74995968, 281.72009472, 351.98042112, 369...</td>\n",
       "      <td>p2</td>\n",
       "      <td>[p2, p2, p4, p2, p4, p4, p2, p2, p4, p4, p4, p...</td>\n",
       "      <td>[p2, p2, p4, p2, p4, p4, p2, p2, p4, p4, p4, p...</td>\n",
       "      <td>[241.06975232, 321.07020288, 491.07124224, 761...</td>\n",
       "      <td>[263.74995968, 281.72009472, 369.770496, 393.3...</td>\n",
       "    </tr>\n",
       "    <tr>\n",
       "      <th>1</th>\n",
       "      <td>p1-240611-082555</td>\n",
       "      <td>&lt;trial_class.Trial object at 0x0000016CBA8FDBE0&gt;</td>\n",
       "      <td>{'name': 'PC0/', 'onset': [0.0, 240.73846784, ...</td>\n",
       "      <td>{'name': 'PC3/', 'onset': [0.0, 190.77791744, ...</td>\n",
       "      <td>[240.73846784, 320.73875456, 410.73934336, 490...</td>\n",
       "      <td>[244.5484032, 260.44841984, 260.68860928, 267....</td>\n",
       "      <td>p1</td>\n",
       "      <td>[p1, p1, p1, p1, p1, p1, p3, p1, p3, p3, p3, p...</td>\n",
       "      <td>[p1, p1, p1, p1, p1, p1, p3, p1, p3, p3, p3, p...</td>\n",
       "      <td>[240.73846784, 320.73875456, 410.73934336, 490...</td>\n",
       "      <td>[244.5484032, 260.44841984, 260.68860928, 267....</td>\n",
       "    </tr>\n",
       "    <tr>\n",
       "      <th>2</th>\n",
       "      <td>p1-240612-104753</td>\n",
       "      <td>&lt;trial_class.Trial object at 0x0000016CDABF0D10&gt;</td>\n",
       "      <td>{'name': 'PC0/', 'onset': [0.0, 240.6662144, 3...</td>\n",
       "      <td>{'name': 'PC3/', 'onset': [0.0, 246.05638656, ...</td>\n",
       "      <td>[240.6662144, 320.66666496, 410.66725376, 490....</td>\n",
       "      <td>[246.05638656, 262.81623552, 271.16634112, 280...</td>\n",
       "      <td>p1</td>\n",
       "      <td>[p1, p1, p1, p4, p4, p4, p4, p1, p4, p1, p4, p...</td>\n",
       "      <td>[p1, p1, p1, p4, p4, p4, p4, p1, p4, p1, p4, p...</td>\n",
       "      <td>[240.6662144, 320.66666496, 410.66725376, 850....</td>\n",
       "      <td>[246.05638656, 262.81623552, 271.16634112, 326...</td>\n",
       "    </tr>\n",
       "    <tr>\n",
       "      <th>3</th>\n",
       "      <td>p2-240612-063828</td>\n",
       "      <td>&lt;trial_class.Trial object at 0x0000016CB81E6C00&gt;</td>\n",
       "      <td>{'name': 'PC0/', 'onset': [0.0, 241.221632, 32...</td>\n",
       "      <td>{'name': 'PC3/', 'onset': [0.0, 212.13134848, ...</td>\n",
       "      <td>[241.221632, 321.22208256, 411.2228352, 491.22...</td>\n",
       "      <td>[251.55158016, 264.53180416, 271.51187968, 338...</td>\n",
       "      <td>p2</td>\n",
       "      <td>[p1, p1, p2, p1, p2, p1, p2, p2, p1, p2, p2, p...</td>\n",
       "      <td>[p1, p1, p2, p1, p2, p1, p2, p2, p1, p2, p2, p...</td>\n",
       "      <td>[411.2228352, 566.2236672, 761.22505216, 851.2...</td>\n",
       "      <td>[271.51187968, 348.5523968, 411.20268288, 428....</td>\n",
       "    </tr>\n",
       "  </tbody>\n",
       "</table>\n",
       "</div>"
      ],
      "text/plain": [
       "          file name                                             trial  \\\n",
       "0  p2-240611-065329  <trial_class.Trial object at 0x0000016CDAAFE690>   \n",
       "1  p1-240611-082555  <trial_class.Trial object at 0x0000016CBA8FDBE0>   \n",
       "2  p1-240612-104753  <trial_class.Trial object at 0x0000016CDABF0D10>   \n",
       "3  p2-240612-063828  <trial_class.Trial object at 0x0000016CB81E6C00>   \n",
       "\n",
       "                                          sound cues  \\\n",
       "0  {'name': 'PC0/', 'onset': [0.0, 241.06975232, ...   \n",
       "1  {'name': 'PC0/', 'onset': [0.0, 240.73846784, ...   \n",
       "2  {'name': 'PC0/', 'onset': [0.0, 240.6662144, 3...   \n",
       "3  {'name': 'PC0/', 'onset': [0.0, 241.221632, 32...   \n",
       "\n",
       "                                        port entries  \\\n",
       "0  {'name': 'PC3/', 'onset': [0.0, 263.74995968, ...   \n",
       "1  {'name': 'PC3/', 'onset': [0.0, 190.77791744, ...   \n",
       "2  {'name': 'PC3/', 'onset': [0.0, 246.05638656, ...   \n",
       "3  {'name': 'PC3/', 'onset': [0.0, 212.13134848, ...   \n",
       "\n",
       "                                    sound cues onset  \\\n",
       "0  [241.06975232, 321.07020288, 411.07079168, 491...   \n",
       "1  [240.73846784, 320.73875456, 410.73934336, 490...   \n",
       "2  [240.6662144, 320.66666496, 410.66725376, 490....   \n",
       "3  [241.221632, 321.22208256, 411.2228352, 491.22...   \n",
       "\n",
       "                                  port entries onset subject_name  \\\n",
       "0  [263.74995968, 281.72009472, 351.98042112, 369...           p2   \n",
       "1  [244.5484032, 260.44841984, 260.68860928, 267....           p1   \n",
       "2  [246.05638656, 262.81623552, 271.16634112, 280...           p1   \n",
       "3  [251.55158016, 264.53180416, 271.51187968, 338...           p2   \n",
       "\n",
       "                                        winner_array  \\\n",
       "0  [p2, p2, p4, p2, p4, p4, p2, p2, p4, p4, p4, p...   \n",
       "1  [p1, p1, p1, p1, p1, p1, p3, p1, p3, p3, p3, p...   \n",
       "2  [p1, p1, p1, p4, p4, p4, p4, p1, p4, p1, p4, p...   \n",
       "3  [p1, p1, p2, p1, p2, p1, p2, p2, p1, p2, p2, p...   \n",
       "\n",
       "                               filtered_winner_array  \\\n",
       "0  [p2, p2, p4, p2, p4, p4, p2, p2, p4, p4, p4, p...   \n",
       "1  [p1, p1, p1, p1, p1, p1, p3, p1, p3, p3, p3, p...   \n",
       "2  [p1, p1, p1, p4, p4, p4, p4, p1, p4, p1, p4, p...   \n",
       "3  [p1, p1, p2, p1, p2, p1, p2, p2, p1, p2, p2, p...   \n",
       "\n",
       "                                 filtered_sound_cues  \\\n",
       "0  [241.06975232, 321.07020288, 491.07124224, 761...   \n",
       "1  [240.73846784, 320.73875456, 410.73934336, 490...   \n",
       "2  [240.6662144, 320.66666496, 410.66725376, 850....   \n",
       "3  [411.2228352, 566.2236672, 761.22505216, 851.2...   \n",
       "\n",
       "                               filtered_port_entries  \n",
       "0  [263.74995968, 281.72009472, 369.770496, 393.3...  \n",
       "1  [244.5484032, 260.44841984, 260.68860928, 267....  \n",
       "2  [246.05638656, 262.81623552, 271.16634112, 326...  \n",
       "3  [271.51187968, 348.5523968, 411.20268288, 428....  "
      ]
     },
     "execution_count": 6,
     "metadata": {},
     "output_type": "execute_result"
    }
   ],
   "source": [
    "exp.df"
   ]
  }
 ],
 "metadata": {
  "kernelspec": {
   "display_name": "albertenv",
   "language": "python",
   "name": "python3"
  },
  "language_info": {
   "codemirror_mode": {
    "name": "ipython",
    "version": 3
   },
   "file_extension": ".py",
   "mimetype": "text/x-python",
   "name": "python",
   "nbconvert_exporter": "python",
   "pygments_lexer": "ipython3",
   "version": "3.12.9"
  }
 },
 "nbformat": 4,
 "nbformat_minor": 2
}
