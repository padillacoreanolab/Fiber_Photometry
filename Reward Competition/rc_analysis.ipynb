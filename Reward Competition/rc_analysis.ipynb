{
 "cells": [
  {
   "cell_type": "code",
   "execution_count": 1,
   "metadata": {},
   "outputs": [],
   "source": [
    "from rc_extension import Reward_Competition\n",
    "from pathlib import Path"
   ]
  },
  {
   "cell_type": "code",
   "execution_count": 2,
   "metadata": {},
   "outputs": [
    {
     "name": "stdout",
     "output_type": "stream",
     "text": [
      "C:\\Users\\yezon\\Padilla-Coreano_Lab\\Albert_Cohort_3\\Reward_Comp\\testing\\plots\\Cohort1_2\\winning\n"
     ]
    }
   ],
   "source": [
    "# method = input(\"Calculation method (modified, baseline, standard): \")\n",
    "# directory_path = Path(input(\"Path for plots: \"))\n",
    "\n",
    "cohort = 'Cohort1_2'\n",
    "condition = 'winning'\n",
    "# condition = 'losing'\n",
    "csv_path = r\"C:\\Users\\yezon\\Padilla-Coreano_Lab\\Albert_Cohort_3\\Reward_Comp\\Cohort_1_2\\P2C1_Reward_Comp_Manual_Scoring.xlsx\"\n",
    "experiment_path = r\"C:\\Users\\yezon\\Padilla-Coreano_Lab\\Albert_Cohort_3\\Reward_Comp\\Cohort_1_2\\testing\"\n",
    "# experiment_path = r\"C:\\Users\\yezon\\Padilla-Coreano_Lab\\Albert_Cohort_3\\Reward_Comp\\Cohort_1_2\\Rig Data\"\n",
    "brain_region = '#FFAF00'\n",
    "\n",
    "# experiment_path = r\"C:\\Users\\yezon\\Padilla-Coreano_Lab\\Albert_Cohort_3\\Reward_Training\\Day1\\NAc\"\n",
    "# brain_region = '#15616F'\n",
    "# region = experiment_path.rsplit('\\\\', 1)[-1]\n",
    "\n",
    "# directory_path = Path(f'C:\\\\Users\\\\yezon\\\\Padilla-Coreano_Lab\\\\Albert_Cohort_3\\\\Reward_Training\\\\plots\\\\{method}\\\\{day}\\\\{region}')\n",
    "directory_path = Path(f'C:\\\\Users\\\\yezon\\\\Padilla-Coreano_Lab\\\\Albert_Cohort_3\\\\Reward_Comp\\\\testing\\\\plots\\\\{cohort}\\\\{condition}')\n",
    "print(directory_path)\n",
    "\n",
    "# Create the directory (with parents=True to create nested directories)\n",
    "directory_path.mkdir(parents=True, exist_ok=True)"
   ]
  },
  {
   "cell_type": "code",
   "execution_count": 3,
   "metadata": {},
   "outputs": [
    {
     "name": "stdout",
     "output_type": "stream",
     "text": [
      "Found Synapse note file: C:\\Users\\yezon\\Padilla-Coreano_Lab\\Albert_Cohort_3\\Reward_Comp\\Cohort_1_2\\testing\\n1-240611-091131\\Notes.txt\n",
      "read from t=0s to t=2042.14s\n",
      "Found Synapse note file: C:\\Users\\yezon\\Padilla-Coreano_Lab\\Albert_Cohort_3\\Reward_Comp\\Cohort_1_2\\testing\\n1-240612-113256\\Notes.txt\n",
      "read from t=0s to t=2055.01s\n",
      "Found Synapse note file: C:\\Users\\yezon\\Padilla-Coreano_Lab\\Albert_Cohort_3\\Reward_Comp\\Cohort_1_2\\testing\\n2-240611-074031\\Notes.txt\n",
      "read from t=0s to t=2045.31s\n",
      "Found Synapse note file: C:\\Users\\yezon\\Padilla-Coreano_Lab\\Albert_Cohort_3\\Reward_Comp\\Cohort_1_2\\testing\\n2-240612-072325\\Notes.txt\n",
      "read from t=0s to t=2041.48s\n",
      "Found Synapse note file: C:\\Users\\yezon\\Padilla-Coreano_Lab\\Albert_Cohort_3\\Reward_Comp\\Cohort_1_2\\testing\\p1-240611-082555\\Notes.txt\n",
      "read from t=0s to t=2049.07s\n",
      "Found Synapse note file: C:\\Users\\yezon\\Padilla-Coreano_Lab\\Albert_Cohort_3\\Reward_Comp\\Cohort_1_2\\testing\\p1-240612-104753\\Notes.txt\n",
      "read from t=0s to t=2046.43s\n",
      "Found Synapse note file: C:\\Users\\yezon\\Padilla-Coreano_Lab\\Albert_Cohort_3\\Reward_Comp\\Cohort_1_2\\testing\\p2-240611-065329\\Notes.txt\n",
      "read from t=0s to t=2041.61s\n",
      "Found Synapse note file: C:\\Users\\yezon\\Padilla-Coreano_Lab\\Albert_Cohort_3\\Reward_Comp\\Cohort_1_2\\testing\\p2-240612-063828\\Notes.txt\n",
      "read from t=0s to t=2041.68s\n"
     ]
    }
   ],
   "source": [
    "exp = Reward_Competition(experiment_path, behavior_folder_path=None)"
   ]
  },
  {
   "cell_type": "code",
   "execution_count": 4,
   "metadata": {},
   "outputs": [
    {
     "name": "stdout",
     "output_type": "stream",
     "text": [
      "dict_items([('n1-240611-091131', <trial_class.Trial object at 0x000001D267D683E0>), ('n1-240612-113256', <trial_class.Trial object at 0x000001D228CDE300>), ('n2-240611-074031', <trial_class.Trial object at 0x000001D226F206B0>), ('n2-240612-072325', <trial_class.Trial object at 0x000001D267D5CBC0>), ('p1-240611-082555', <trial_class.Trial object at 0x000001D206514200>), ('p1-240612-104753', <trial_class.Trial object at 0x000001D267D5F890>), ('p2-240611-065329', <trial_class.Trial object at 0x000001D229034800>), ('p2-240612-063828', <trial_class.Trial object at 0x000001D2290CB890>)])\n",
      "Reward Training Processing n1-240611-091131...\n",
      "Reward Training Processing n1-240612-113256...\n",
      "Reward Training Processing n2-240611-074031...\n",
      "Reward Training Processing n2-240612-072325...\n",
      "Reward Training Processing p1-240611-082555...\n",
      "Reward Training Processing p1-240612-104753...\n",
      "Reward Training Processing p2-240611-065329...\n",
      "Reward Training Processing p2-240612-063828...\n"
     ]
    }
   ],
   "source": [
    "exp.rc_processing()"
   ]
  },
  {
   "cell_type": "code",
   "execution_count": 5,
   "metadata": {},
   "outputs": [
    {
     "name": "stdout",
     "output_type": "stream",
     "text": [
      "Row 0: Subject p2 - Valid Indices: [0, 1, 3, 6, 7, 11, 12, 13, 14, 15, 16]\n",
      "Row 0: Before -> [np.float64(241.06975232), np.float64(321.07020288), np.float64(411.07079168), np.float64(491.07124224), np.float64(566.07178752), np.float64(666.07251456), np.float64(761.07317248), np.float64(851.07376128), np.float64(931.07437568), np.float64(1021.07512832), np.float64(1121.07569152), np.float64(1211.07644416), np.float64(1331.07728384), np.float64(1421.0777088), np.float64(1506.07822848), np.float64(1596.07881728), np.float64(1691.07963904), np.float64(1811.08031488), np.float64(1891.08076544), np.float64(2041.06186752)], After -> [np.float64(241.06975232), np.float64(321.07020288), np.float64(491.07124224), np.float64(761.07317248), np.float64(851.07376128), np.float64(1211.07644416), np.float64(1331.07728384), np.float64(1421.0777088), np.float64(1506.07822848), np.float64(1596.07881728), np.float64(1691.07963904)]\n",
      "Row 1: Subject n2 - Valid Indices: [8, 9, 11]\n",
      "Row 1: Before -> [np.float64(240.6416384), np.float64(320.64208896), np.float64(410.6428416), np.float64(490.643456), np.float64(565.64400128), np.float64(665.64456448), np.float64(760.6452224), np.float64(850.6458112), np.float64(930.64626176), np.float64(1020.6470144), np.float64(1120.64774144), np.float64(1210.6481664), np.float64(1330.64900608), np.float64(1420.64959488), np.float64(1505.65011456), np.float64(1595.6508672), np.float64(1690.65152512), np.float64(1810.6523648), np.float64(1890.65265152), np.float64(2040.63358976)], After -> [np.float64(930.64626176), np.float64(1020.6470144), np.float64(1210.6481664)]\n",
      "Row 2: Subject p1 - Valid Indices: [0, 1, 2, 3, 4, 5, 7, 12, 15, 17, 18]\n",
      "Row 2: Before -> [np.float64(240.73846784), np.float64(320.73875456), np.float64(410.73934336), np.float64(490.73995776), np.float64(565.74050304), np.float64(665.74123008), np.float64(760.741888), np.float64(850.74231296), np.float64(930.74292736), np.float64(1020.74351616), np.float64(1120.7442432), np.float64(1210.744832), np.float64(1330.74550784), np.float64(1420.74626048), np.float64(1505.74661632), np.float64(1595.74720512), np.float64(1690.74802688), np.float64(1810.74870272), np.float64(1890.74931712), np.float64(2040.73009152)], After -> [np.float64(240.73846784), np.float64(320.73875456), np.float64(410.73934336), np.float64(490.73995776), np.float64(565.74050304), np.float64(665.74123008), np.float64(850.74231296), np.float64(1330.74550784), np.float64(1595.74720512), np.float64(1810.74870272), np.float64(1890.74931712)]\n",
      "Row 3: Subject n1 - Valid Indices: [2, 4, 13]\n",
      "Row 3: Before -> [np.float64(240.49893376), np.float64(320.499712), np.float64(410.5003008), np.float64(490.50075136), np.float64(565.50129664), np.float64(665.50202368), np.float64(760.50251776), np.float64(850.50310656), np.float64(930.50372096), np.float64(1020.50430976), np.float64(1120.5050368), np.float64(1210.50546176), np.float64(1330.50646528), np.float64(1420.50705408), np.float64(1505.50740992), np.float64(1595.50799872), np.float64(1690.50865664), np.float64(1810.50949632), np.float64(1890.51011072), np.float64(2040.49104896)], After -> [np.float64(410.5003008), np.float64(565.50129664), np.float64(1420.50705408)]\n",
      "Row 4: Subject p1 - Valid Indices: [0, 1, 2, 7, 9, 11, 12, 13, 15, 16, 17, 18]\n",
      "Row 4: Before -> [np.float64(240.6662144), np.float64(320.66666496), np.float64(410.66725376), np.float64(490.668032), np.float64(565.66857728), np.float64(665.66914048), np.float64(760.6697984), np.float64(850.6703872), np.float64(930.67083776), np.float64(1020.67142656), np.float64(1120.67231744), np.float64(1210.6727424), np.float64(1330.67374592), np.float64(1420.67417088), np.float64(1505.67469056), np.float64(1595.67527936), np.float64(1690.67610112), np.float64(1810.67677696), np.float64(1890.67739136), np.float64(2040.6583296)], After -> [np.float64(240.6662144), np.float64(320.66666496), np.float64(410.66725376), np.float64(850.6703872), np.float64(1020.67142656), np.float64(1210.6727424), np.float64(1330.67374592), np.float64(1420.67417088), np.float64(1595.67527936), np.float64(1690.67610112), np.float64(1810.67677696), np.float64(1890.67739136)]\n",
      "Row 5: Subject n1 - Valid Indices: [2, 16, 18]\n",
      "Row 5: Before -> [np.float64(240.66260992), np.float64(320.66306048), np.float64(410.66364928), np.float64(490.66426368), np.float64(565.66480896), np.float64(665.66537216), np.float64(760.66603008), np.float64(850.66661888), np.float64(930.66723328), np.float64(1020.66782208), np.float64(1120.66854912), np.float64(1210.66913792), np.float64(1330.6699776), np.float64(1420.67040256), np.float64(1505.67108608), np.float64(1595.67167488), np.float64(1690.67216896), np.float64(1810.67300864), np.float64(1890.67362304), np.float64(2040.65456128)], After -> [np.float64(410.66364928), np.float64(1690.67216896), np.float64(1890.67362304)]\n",
      "Row 6: Subject p2 - Valid Indices: [2, 4, 6, 7, 9, 10, 12, 14, 17, 18]\n",
      "Row 6: Before -> [np.float64(241.221632), np.float64(321.22208256), np.float64(411.2228352), np.float64(491.22328576), np.float64(566.2236672), np.float64(666.22439424), np.float64(761.22505216), np.float64(851.2258048), np.float64(931.22609152), np.float64(1021.22684416), np.float64(1121.22740736), np.float64(1211.22799616), np.float64(1331.22883584), np.float64(1421.22942464), np.float64(1506.22994432), np.float64(1596.23053312), np.float64(1691.23119104), np.float64(1811.23186688), np.float64(1891.23264512), np.float64(2041.21358336)], After -> [np.float64(411.2228352), np.float64(566.2236672), np.float64(761.22505216), np.float64(851.2258048), np.float64(1021.22684416), np.float64(1121.22740736), np.float64(1331.22883584), np.float64(1506.22994432), np.float64(1811.23186688), np.float64(1891.23264512)]\n",
      "Row 7: Subject n2 - Valid Indices: [2, 5, 10, 11, 12, 13, 14, 15, 16, 17, 18]\n",
      "Row 7: Before -> [np.float64(241.06549248), np.float64(321.06594304), np.float64(411.06653184), np.float64(491.06714624), np.float64(566.06752768), np.float64(666.06809088), np.float64(761.06891264), np.float64(851.0693376), np.float64(931.07011584), np.float64(1021.07070464), np.float64(1121.07126784), np.float64(1211.07185664), np.float64(1331.07269632), np.float64(1421.07328512), np.float64(1506.07396864), np.float64(1596.07455744), np.float64(1691.07505152), np.float64(1811.07572736), np.float64(1891.07634176), np.float64(2041.05728)], After -> [np.float64(411.06653184), np.float64(666.06809088), np.float64(1121.07126784), np.float64(1211.07185664), np.float64(1331.07269632), np.float64(1421.07328512), np.float64(1506.07396864), np.float64(1596.07455744), np.float64(1691.07505152), np.float64(1811.07572736), np.float64(1891.07634176)]\n"
     ]
    }
   ],
   "source": [
    "exp.read_manual_scoring1(csv_path)\n",
    "exp.merge_data()\n",
    "exp.remove_tangles()\n",
    "exp.winning()\n",
    "# exp.losing()\n"
   ]
  },
  {
   "cell_type": "code",
   "execution_count": 6,
   "metadata": {},
   "outputs": [],
   "source": [
    "exp.find_first_lick_after_sound_cue()\n",
    "# compute offset to first lick after sound cue\n",
    "exp.compute_closest_port_offset(lick_column='first_lick_after_sound_cue', offset_column='filtered_port_entry_offset')"
   ]
  },
  {
   "cell_type": "code",
   "execution_count": 7,
   "metadata": {},
   "outputs": [],
   "source": [
    "rank_path = r\"C:\\Users\\yezon\\Padilla-Coreano_Lab\\Albert_Cohort_3\\Reward_Comp\\Cohort_1_2\\P2C1_Reward_Comp_Manual_Scoring.xlsx\"\n",
    "ranks = exp.find_ranks_using_ds(rank_path)\n",
    "exp.merging_ranks(ranks)"
   ]
  },
  {
   "cell_type": "code",
   "execution_count": 8,
   "metadata": {},
   "outputs": [],
   "source": [
    "exp.compute_tone_da()\n",
    "exp.compute_lick_da()\n",
    "exp.drop_unnecessary()\n",
    "exp.first_last()"
   ]
  },
  {
   "cell_type": "code",
   "execution_count": 9,
   "metadata": {},
   "outputs": [
    {
     "data": {
      "text/html": [
       "<div>\n",
       "<style scoped>\n",
       "    .dataframe tbody tr th:only-of-type {\n",
       "        vertical-align: middle;\n",
       "    }\n",
       "\n",
       "    .dataframe tbody tr th {\n",
       "        vertical-align: top;\n",
       "    }\n",
       "\n",
       "    .dataframe thead th {\n",
       "        text-align: right;\n",
       "    }\n",
       "</style>\n",
       "<table border=\"1\" class=\"dataframe\">\n",
       "  <thead>\n",
       "    <tr style=\"text-align: right;\">\n",
       "      <th></th>\n",
       "      <th>subject_name</th>\n",
       "      <th>Rank</th>\n",
       "      <th>Lick AUC Mean</th>\n",
       "      <th>Lick Max Peak Mean</th>\n",
       "      <th>Lick Mean Z-score Mean</th>\n",
       "      <th>Tone AUC Mean</th>\n",
       "      <th>Tone Max Peak Mean</th>\n",
       "      <th>Tone Mean Z-score Mean</th>\n",
       "      <th>Lick AUC First</th>\n",
       "      <th>Lick AUC Last</th>\n",
       "      <th>Lick Max Peak First</th>\n",
       "      <th>Lick Max Peak Last</th>\n",
       "      <th>Lick Mean Z-score First</th>\n",
       "      <th>Lick Mean Z-score Last</th>\n",
       "      <th>Tone AUC First</th>\n",
       "      <th>Tone AUC Last</th>\n",
       "      <th>Tone Max Peak First</th>\n",
       "      <th>Tone Max Peak Last</th>\n",
       "      <th>Tone Mean Z-score First</th>\n",
       "      <th>Tone Mean Z-score Last</th>\n",
       "    </tr>\n",
       "  </thead>\n",
       "  <tbody>\n",
       "    <tr>\n",
       "      <th>0</th>\n",
       "      <td>n1</td>\n",
       "      <td>4</td>\n",
       "      <td>2.882937</td>\n",
       "      <td>2.751321</td>\n",
       "      <td>1.595736</td>\n",
       "      <td>3.859221</td>\n",
       "      <td>3.284309</td>\n",
       "      <td>0.773313</td>\n",
       "      <td>-0.693243</td>\n",
       "      <td>5.862213</td>\n",
       "      <td>2.022372</td>\n",
       "      <td>4.011395</td>\n",
       "      <td>0.700466</td>\n",
       "      <td>2.626378</td>\n",
       "      <td>3.170225</td>\n",
       "      <td>5.121608</td>\n",
       "      <td>2.890864</td>\n",
       "      <td>3.271237</td>\n",
       "      <td>0.585555</td>\n",
       "      <td>1.188722</td>\n",
       "    </tr>\n",
       "    <tr>\n",
       "      <th>1</th>\n",
       "      <td>n2</td>\n",
       "      <td>3</td>\n",
       "      <td>2.147979</td>\n",
       "      <td>2.780606</td>\n",
       "      <td>1.876662</td>\n",
       "      <td>1.697793</td>\n",
       "      <td>2.732513</td>\n",
       "      <td>0.309420</td>\n",
       "      <td>1.728784</td>\n",
       "      <td>2.187078</td>\n",
       "      <td>2.002937</td>\n",
       "      <td>2.661565</td>\n",
       "      <td>1.230146</td>\n",
       "      <td>1.939114</td>\n",
       "      <td>-7.000369</td>\n",
       "      <td>8.885853</td>\n",
       "      <td>0.519010</td>\n",
       "      <td>3.820009</td>\n",
       "      <td>-0.719281</td>\n",
       "      <td>1.597749</td>\n",
       "    </tr>\n",
       "    <tr>\n",
       "      <th>2</th>\n",
       "      <td>p1</td>\n",
       "      <td>3</td>\n",
       "      <td>-2.339812</td>\n",
       "      <td>1.767711</td>\n",
       "      <td>0.268123</td>\n",
       "      <td>0.832097</td>\n",
       "      <td>2.165469</td>\n",
       "      <td>0.334937</td>\n",
       "      <td>1.053513</td>\n",
       "      <td>-27.878343</td>\n",
       "      <td>1.666021</td>\n",
       "      <td>1.996512</td>\n",
       "      <td>0.386775</td>\n",
       "      <td>-0.403456</td>\n",
       "      <td>0.657807</td>\n",
       "      <td>1.983877</td>\n",
       "      <td>2.419681</td>\n",
       "      <td>1.869954</td>\n",
       "      <td>1.320197</td>\n",
       "      <td>0.351407</td>\n",
       "    </tr>\n",
       "    <tr>\n",
       "      <th>3</th>\n",
       "      <td>p2</td>\n",
       "      <td>1</td>\n",
       "      <td>0.159116</td>\n",
       "      <td>2.011237</td>\n",
       "      <td>0.432544</td>\n",
       "      <td>1.118498</td>\n",
       "      <td>2.540500</td>\n",
       "      <td>0.255199</td>\n",
       "      <td>3.173211</td>\n",
       "      <td>-0.444786</td>\n",
       "      <td>2.409093</td>\n",
       "      <td>1.368411</td>\n",
       "      <td>0.720980</td>\n",
       "      <td>-0.027858</td>\n",
       "      <td>3.145120</td>\n",
       "      <td>-2.267528</td>\n",
       "      <td>3.086304</td>\n",
       "      <td>1.686239</td>\n",
       "      <td>0.370523</td>\n",
       "      <td>-0.394067</td>\n",
       "    </tr>\n",
       "  </tbody>\n",
       "</table>\n",
       "</div>"
      ],
      "text/plain": [
       "  subject_name  Rank  Lick AUC Mean  Lick Max Peak Mean  \\\n",
       "0           n1     4       2.882937            2.751321   \n",
       "1           n2     3       2.147979            2.780606   \n",
       "2           p1     3      -2.339812            1.767711   \n",
       "3           p2     1       0.159116            2.011237   \n",
       "\n",
       "   Lick Mean Z-score Mean  Tone AUC Mean  Tone Max Peak Mean  \\\n",
       "0                1.595736       3.859221            3.284309   \n",
       "1                1.876662       1.697793            2.732513   \n",
       "2                0.268123       0.832097            2.165469   \n",
       "3                0.432544       1.118498            2.540500   \n",
       "\n",
       "   Tone Mean Z-score Mean  Lick AUC First  Lick AUC Last  Lick Max Peak First  \\\n",
       "0                0.773313       -0.693243       5.862213             2.022372   \n",
       "1                0.309420        1.728784       2.187078             2.002937   \n",
       "2                0.334937        1.053513     -27.878343             1.666021   \n",
       "3                0.255199        3.173211      -0.444786             2.409093   \n",
       "\n",
       "   Lick Max Peak Last  Lick Mean Z-score First  Lick Mean Z-score Last  \\\n",
       "0            4.011395                 0.700466                2.626378   \n",
       "1            2.661565                 1.230146                1.939114   \n",
       "2            1.996512                 0.386775               -0.403456   \n",
       "3            1.368411                 0.720980               -0.027858   \n",
       "\n",
       "   Tone AUC First  Tone AUC Last  Tone Max Peak First  Tone Max Peak Last  \\\n",
       "0        3.170225       5.121608             2.890864            3.271237   \n",
       "1       -7.000369       8.885853             0.519010            3.820009   \n",
       "2        0.657807       1.983877             2.419681            1.869954   \n",
       "3        3.145120      -2.267528             3.086304            1.686239   \n",
       "\n",
       "   Tone Mean Z-score First  Tone Mean Z-score Last  \n",
       "0                 0.585555                1.188722  \n",
       "1                -0.719281                1.597749  \n",
       "2                 1.320197                0.351407  \n",
       "3                 0.370523               -0.394067  "
      ]
     },
     "execution_count": 9,
     "metadata": {},
     "output_type": "execute_result"
    }
   ],
   "source": [
    "exp.find_means()\n",
    "exp.find_overall_mean()\n",
    "exp.df"
   ]
  },
  {
   "cell_type": "code",
   "execution_count": 10,
   "metadata": {},
   "outputs": [
    {
     "data": {
      "image/png": "[encoded data removed]",
      "text/plain": [
       "<Figure size 700x700 with 1 Axes>"
      ]
     },
     "metadata": {},
     "output_type": "display_data"
    }
   ],
   "source": [
    "exp.plot_da(response='Tone', metric_name='AUC', condition=\"Winning\", brain_region=\"mPFC\")"
   ]
  },
  {
   "cell_type": "code",
   "execution_count": 11,
   "metadata": {},
   "outputs": [],
   "source": [
    "exp.plot_lick_da()"
   ]
  },
  {
   "cell_type": "code",
   "execution_count": 12,
   "metadata": {},
   "outputs": [
    {
     "ename": "AttributeError",
     "evalue": "'Reward_Competition' object has no attribute 'plot_first_bout'",
     "output_type": "error",
     "traceback": [
      "\u001b[1;31m---------------------------------------------------------------------------\u001b[0m",
      "\u001b[1;31mAttributeError\u001b[0m                            Traceback (most recent call last)",
      "Cell \u001b[1;32mIn[12], line 1\u001b[0m\n\u001b[1;32m----> 1\u001b[0m \u001b[43mexp\u001b[49m\u001b[38;5;241;43m.\u001b[39;49m\u001b[43mplot_first_bout\u001b[49m()\n\u001b[0;32m      2\u001b[0m exp\u001b[38;5;241m.\u001b[39mplot_last_bout()\n",
      "\u001b[1;31mAttributeError\u001b[0m: 'Reward_Competition' object has no attribute 'plot_first_bout'"
     ]
    }
   ],
   "source": [
    "exp.plot_first_bout()\n",
    "exp.plot_last_bout()"
   ]
  }
 ],
 "metadata": {
  "kernelspec": {
   "display_name": "albertenv",
   "language": "python",
   "name": "python3"
  },
  "language_info": {
   "codemirror_mode": {
    "name": "ipython",
    "version": 3
   },
   "file_extension": ".py",
   "mimetype": "text/x-python",
   "name": "python",
   "nbconvert_exporter": "python",
   "pygments_lexer": "ipython3",
   "version": "3.12.9"
  }
 },
 "nbformat": 4,
 "nbformat_minor": 2
}
