{
 "cells": [
  {
   "cell_type": "code",
   "execution_count": 1,
   "id": "46192b30",
   "metadata": {},
   "outputs": [],
   "source": [
    "import sys\n",
    "import os\n",
    "\n",
    "PROJECT_ROOT = os.path.abspath(os.path.join(os.getcwd(), '..'))\n",
    "sys.path.append(PROJECT_ROOT)\n",
    "\n",
    "from Reward_Training.rt_extension import Reward_Training\n",
    "from rc_extension import Reward_Competition\n",
    "from pathlib import Path"
   ]
  },
  {
   "cell_type": "code",
   "execution_count": 2,
   "id": "eddcfa80",
   "metadata": {},
   "outputs": [],
   "source": [
    "experiment_path = r\"C:\\Users\\yezon\\Padilla-Coreano_Lab\\Albert_Cohort_3\\Reward_Comp\\test_data\"\n",
    "\n",
    "csv_path = r\"C:\\Users\\yezon\\Padilla-Coreano_Lab\\Albert_Cohort_3\\Reward_Comp\\manual_scoring_combined.xlsx\""
   ]
  },
  {
   "cell_type": "code",
   "execution_count": 3,
   "id": "992cbee1",
   "metadata": {},
   "outputs": [
    {
     "name": "stdout",
     "output_type": "stream",
     "text": [
      "Found Synapse note file: C:\\Users\\yezon\\Padilla-Coreano_Lab\\Albert_Cohort_3\\Reward_Comp\\test_data\\n6-240912-062009\\Notes.txt\n",
      "read from t=0s to t=2073.36s\n",
      "Found Synapse note file: C:\\Users\\yezon\\Padilla-Coreano_Lab\\Albert_Cohort_3\\Reward_Comp\\test_data\\n6-240913-062437\\Notes.txt\n",
      "read from t=0s to t=2044.96s\n",
      "Found Synapse note file: C:\\Users\\yezon\\Padilla-Coreano_Lab\\Albert_Cohort_3\\Reward_Comp\\test_data\\n6-240914-065650\\Notes.txt\n",
      "read from t=0s to t=2047.26s\n",
      "Found Synapse note file: C:\\Users\\yezon\\Padilla-Coreano_Lab\\Albert_Cohort_3\\Reward_Comp\\test_data\\n6-240914-095611\\Notes.txt\n",
      "read from t=0s to t=2053.26s\n",
      "Found Synapse note file: C:\\Users\\yezon\\Padilla-Coreano_Lab\\Albert_Cohort_3\\Reward_Comp\\test_data\\n7-240912-095235\\Notes.txt\n",
      "read from t=0s to t=1955.86s\n",
      "Found Synapse note file: C:\\Users\\yezon\\Padilla-Coreano_Lab\\Albert_Cohort_3\\Reward_Comp\\test_data\\n7-240913-080108\\Notes.txt\n",
      "read from t=0s to t=2044.86s\n",
      "Found Synapse note file: C:\\Users\\yezon\\Padilla-Coreano_Lab\\Albert_Cohort_3\\Reward_Comp\\test_data\\n7-240914-082547\\Notes.txt\n",
      "read from t=0s to t=2075.17s\n",
      "Found Synapse note file: C:\\Users\\yezon\\Padilla-Coreano_Lab\\Albert_Cohort_3\\Reward_Comp\\test_data\\n7-240915-073140\\Notes.txt\n",
      "read from t=0s to t=2046.16s\n",
      "Found Synapse note file: C:\\Users\\yezon\\Padilla-Coreano_Lab\\Albert_Cohort_3\\Reward_Comp\\test_data\\n6-240912-062009\\Notes.txt\n",
      "read from t=0s to t=2073.36s\n",
      "Found Synapse note file: C:\\Users\\yezon\\Padilla-Coreano_Lab\\Albert_Cohort_3\\Reward_Comp\\test_data\\n6-240913-062437\\Notes.txt\n",
      "read from t=0s to t=2044.96s\n",
      "Found Synapse note file: C:\\Users\\yezon\\Padilla-Coreano_Lab\\Albert_Cohort_3\\Reward_Comp\\test_data\\n6-240914-065650\\Notes.txt\n",
      "read from t=0s to t=2047.26s\n",
      "Found Synapse note file: C:\\Users\\yezon\\Padilla-Coreano_Lab\\Albert_Cohort_3\\Reward_Comp\\test_data\\n6-240914-095611\\Notes.txt\n",
      "read from t=0s to t=2053.26s\n",
      "Found Synapse note file: C:\\Users\\yezon\\Padilla-Coreano_Lab\\Albert_Cohort_3\\Reward_Comp\\test_data\\n7-240912-095235\\Notes.txt\n",
      "read from t=0s to t=1955.86s\n",
      "Found Synapse note file: C:\\Users\\yezon\\Padilla-Coreano_Lab\\Albert_Cohort_3\\Reward_Comp\\test_data\\n7-240913-080108\\Notes.txt\n",
      "read from t=0s to t=2044.86s\n",
      "Found Synapse note file: C:\\Users\\yezon\\Padilla-Coreano_Lab\\Albert_Cohort_3\\Reward_Comp\\test_data\\n7-240914-082547\\Notes.txt\n",
      "read from t=0s to t=2075.17s\n",
      "Found Synapse note file: C:\\Users\\yezon\\Padilla-Coreano_Lab\\Albert_Cohort_3\\Reward_Comp\\test_data\\n7-240915-073140\\Notes.txt\n",
      "read from t=0s to t=2046.16s\n"
     ]
    }
   ],
   "source": [
    "exp = Reward_Competition(experiment_folder_path=experiment_path, behavior_folder_path=None)"
   ]
  },
  {
   "cell_type": "code",
   "execution_count": 4,
   "id": "5440d8a7",
   "metadata": {},
   "outputs": [
    {
     "name": "stdout",
     "output_type": "stream",
     "text": [
      "Processing trial n6-240912-062009...\n",
      "Processing trial n6-240913-062437...\n",
      "Processing trial n6-240914-065650...\n",
      "Processing trial n6-240914-095611...\n",
      "Processing trial n7-240912-095235...\n",
      "Processing trial n7-240913-080108...\n",
      "Processing trial n7-240914-082547...\n",
      "Processing trial n7-240915-073140...\n"
     ]
    }
   ],
   "source": [
    "exp.rtc_processing()"
   ]
  },
  {
   "cell_type": "code",
   "execution_count": 5,
   "id": "e864f7a3",
   "metadata": {},
   "outputs": [
    {
     "name": "stdout",
     "output_type": "stream",
     "text": [
      "Total rows: 96\n",
      "Rows with missing trials: 88\n"
     ]
    }
   ],
   "source": [
    "exp.read_manual_scoring(csv_path)\n",
    "exp.merge_data()\n",
    "exp.df.to_csv('testing_cohort2_nac.csv', index=False)"
   ]
  },
  {
   "cell_type": "code",
   "execution_count": 6,
   "id": "0fcebd5b",
   "metadata": {},
   "outputs": [
    {
     "name": "stdout",
     "output_type": "stream",
     "text": [
      "Index(['file name', 'subject', 'tangles', 'trial', 'sound cues',\n",
      "       'port entries', 'sound cues onset', 'port entries onset',\n",
      "       'port entries offset', 'subject_name', 'winner_array'],\n",
      "      dtype='object')\n"
     ]
    },
    {
     "data": {
      "text/plain": [
       "'exp.keep_first_tone()\\nexp.keep_last_tone()\\nexp.remove_tangles()\\nexp.remove_specified_subjects()\\n\\ndf_winning = exp.winning()\\ndf_losing = exp.losing()'"
      ]
     },
     "execution_count": 6,
     "metadata": {},
     "output_type": "execute_result"
    }
   ],
   "source": [
    "print(exp.df.columns)\n",
    "\"\"\"exp.keep_first_tone()\n",
    "exp.keep_last_tone()\n",
    "exp.remove_tangles()\n",
    "exp.remove_specified_subjects()\n",
    "\n",
    "df_winning = exp.winning()\n",
    "df_losing = exp.losing()\"\"\""
   ]
  }
 ],
 "metadata": {
  "kernelspec": {
   "display_name": "albertenv",
   "language": "python",
   "name": "python3"
  },
  "language_info": {
   "codemirror_mode": {
    "name": "ipython",
    "version": 3
   },
   "file_extension": ".py",
   "mimetype": "text/x-python",
   "name": "python",
   "nbconvert_exporter": "python",
   "pygments_lexer": "ipython3",
   "version": "3.12.9"
  }
 },
 "nbformat": 4,
 "nbformat_minor": 5
}
