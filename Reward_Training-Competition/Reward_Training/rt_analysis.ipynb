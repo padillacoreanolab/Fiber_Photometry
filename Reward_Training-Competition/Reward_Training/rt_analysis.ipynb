{
 "cells": [
  {
   "cell_type": "markdown",
   "metadata": {},
   "source": [
    "# Reward Training Analysis"
   ]
  },
  {
   "cell_type": "code",
   "execution_count": 1,
   "metadata": {},
   "outputs": [],
   "source": [
    "import os\n",
    "import sys\n",
    "\n",
    "PROJECT_ROOT = os.path.abspath(os.path.join(os.getcwd(), '..'))\n",
    "sys.path.append(PROJECT_ROOT)\n",
    "\n",
    "from rt_extension import Reward_Training\n",
    "from pathlib import Path\n",
    "import numpy as np\n",
    "import matplotlib.pyplot as plt\n"
   ]
  },
  {
   "cell_type": "code",
   "execution_count": null,
   "metadata": {},
   "outputs": [],
   "source": [
    "# NAc\n",
    "# experiment_path = r\"C:\\Users\\alber\\OneDrive\\Desktop\\PC_Lab\\Photometry\\Pilot_2\\Combined_Cohorts\\Reward_Training\\Combined\\Day_1\\NAc\"\n",
    "experiment_path = r\"C:\\Users\\alber\\OneDrive\\Desktop\\PC_Lab\\Photometry\\Pilot_2\\Combined_Cohorts\\Reward_Training\\Combined\\Day10\\NAc\"\n",
    "brain_region = '#15616F'\n",
    "\n",
    "# mPFC\n",
    "# experiment_path = r\"C:\\Users\\alber\\OneDrive\\Desktop\\PC_Lab\\Photometry\\Pilot_2\\Combined_Cohorts\\Reward_Training\\Combined\\Day_1\\mPFC\"\n",
    "# experiment_path = r\"C:\\Users\\alber\\OneDrive\\Desktop\\PC_Lab\\Photometry\\Pilot_2\\Combined_Cohorts\\Reward_Training\\Combined\\Day10\\mPFC\"\n",
    "# brain_region = '#FFAF00'\n",
    "\n",
    "# NAc: #15616F\n",
    "# mPFC: #FFAF00\n",
    "save_path = r'graphs'\n"
   ]
  },
  {
   "cell_type": "code",
   "execution_count": null,
   "metadata": {},
   "outputs": [],
   "source": [
    "exp = Reward_Training(experiment_folder_path=experiment_path, behavior_folder_path=None)"
   ]
  },
  {
   "cell_type": "code",
   "execution_count": null,
   "metadata": {},
   "outputs": [],
   "source": [
    "exp.trials"
   ]
  },
  {
   "cell_type": "code",
   "execution_count": null,
   "metadata": {},
   "outputs": [],
   "source": [
    "exp.rtc_processing()\n",
    "exp.create_base_df(experiment_path)"
   ]
  },
  {
   "cell_type": "code",
   "execution_count": null,
   "metadata": {},
   "outputs": [],
   "source": [
    "exp.port_bnc"
   ]
  },
  {
   "cell_type": "code",
   "execution_count": null,
   "metadata": {},
   "outputs": [],
   "source": [
    "df = exp.df\n",
    "exp.df.head()"
   ]
  },
  {
   "cell_type": "code",
   "execution_count": null,
   "metadata": {},
   "outputs": [],
   "source": [
    "exp.find_first_lick_after_sound_cue().head()"
   ]
  },
  {
   "cell_type": "markdown",
   "metadata": {},
   "source": [
    "## Finding DA metrics"
   ]
  },
  {
   "cell_type": "code",
   "execution_count": null,
   "metadata": {},
   "outputs": [],
   "source": [
    "exp.compute_EI_DA()\n",
    "# exp.compute_standard_DA()"
   ]
  },
  {
   "cell_type": "code",
   "execution_count": null,
   "metadata": {},
   "outputs": [],
   "source": [
    "exp.df.head()"
   ]
  },
  {
   "cell_type": "markdown",
   "metadata": {},
   "source": [
    "Code to look at a single trial DA response"
   ]
  },
  {
   "cell_type": "code",
   "execution_count": null,
   "metadata": {},
   "outputs": [],
   "source": [
    "# # Select a trial (e.g., the first trial)\n",
    "# trial = df.iloc[0]\n",
    "\n",
    "# # Extract the first tone and lick responses (if multiple events exist)\n",
    "# tone_time = trial['Tone Event_Time_Axis'][0]  # should be -pre_time to post_time\n",
    "# tone_zscore = trial['Tone Event_Zscore'][0]\n",
    "# lick_time = trial['Lick Event_Time_Axis'][0]  # should be 0 to post_time\n",
    "# lick_zscore = trial['Lick Event_Zscore'][0]\n",
    "\n",
    "# # Plotting both traces\n",
    "# plt.figure(figsize=(8, 4))\n",
    "# plt.plot(tone_time, tone_zscore, label='Tone Event (Sound Cue)')\n",
    "# plt.plot(lick_time, lick_zscore, label='Lick Event')\n",
    "# plt.axhline(0, color='gray', linestyle='--')\n",
    "# plt.axvline(0, color='gray', linestyle='--')\n",
    "# plt.xlabel('Time (s)')\n",
    "# plt.ylabel('Baseline-corrected z-score')\n",
    "# plt.title('Tone and Lick DA Responses')\n",
    "# plt.legend()\n",
    "# plt.show()\n"
   ]
  },
  {
   "cell_type": "markdown",
   "metadata": {},
   "source": [
    "## PSTH For first and last tones"
   ]
  },
  {
   "cell_type": "code",
   "execution_count": null,
   "metadata": {},
   "outputs": [],
   "source": [
    "exp.plot_specific_event_psth(event_type='Tone', event_index = 1, directory_path=save_path, brain_region='NAc', y_min=-1, y_max=5, df=None, bin_size=100)\n",
    "# exp.plot_specific_event_psth(event_type='Tone', event_index = 1, directory_path=save_path, brain_region='mPFC', y_min=-1, y_max=1.5, df=None, bin_size=100)"
   ]
  },
  {
   "cell_type": "code",
   "execution_count": null,
   "metadata": {},
   "outputs": [],
   "source": [
    "exp.plot_specific_event_psth(event_type='Tone', event_index = 15, directory_path=save_path, brain_region='NAc', y_min=-1, y_max=5, df=None, bin_size=100)\n",
    "exp.plot_specific_event_psth(event_type='Tone', event_index = 15, directory_path=save_path, brain_region='mPFC', y_min=-1, y_max=2, df=None, bin_size=100)"
   ]
  },
  {
   "cell_type": "markdown",
   "metadata": {},
   "source": [
    "## Heat maps"
   ]
  },
  {
   "cell_type": "code",
   "execution_count": null,
   "metadata": {},
   "outputs": [],
   "source": [
    "exp.plot_event_index_heatmap(event_type = 'Tone', \n",
    "                             max_events = 15, \n",
    "                             directory_path = save_path, \n",
    "                             brain_region = 'NAc', \n",
    "                             vmin = -0.2, \n",
    "                             vmax = 6, df=None, bin_size=100)\n",
    "\n",
    "# exp.plot_event_index_heatmap(event_type = 'Tone', \n",
    "#                              max_events = 15, \n",
    "#                              directory_path = save_path,\n",
    "#                              brain_region = 'mPFC', \n",
    "#                              vmin = -0.3, \n",
    "#                              vmax = 2, df=None, bin_size=100)"
   ]
  },
  {
   "cell_type": "markdown",
   "metadata": {},
   "source": [
    "# To Do"
   ]
  },
  {
   "cell_type": "markdown",
   "metadata": {},
   "source": [
    "### Mean DA Across Trials - Linear"
   ]
  },
  {
   "cell_type": "code",
   "execution_count": null,
   "metadata": {},
   "outputs": [],
   "source": []
  }
 ],
 "metadata": {
  "kernelspec": {
   "display_name": "photometry",
   "language": "python",
   "name": "python3"
  },
  "language_info": {
   "codemirror_mode": {
    "name": "ipython",
    "version": 3
   },
   "file_extension": ".py",
   "mimetype": "text/x-python",
   "name": "python",
   "nbconvert_exporter": "python",
   "pygments_lexer": "ipython3",
   "version": "3.12.5"
  }
 },
 "nbformat": 4,
 "nbformat_minor": 2
}
