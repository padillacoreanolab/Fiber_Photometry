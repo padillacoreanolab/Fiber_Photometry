{
 "cells": [
  {
   "cell_type": "markdown",
   "id": "b1938ac7",
   "metadata": {},
   "source": [
    "# SLEAP Feature Extraction for Home Cage"
   ]
  },
  {
   "cell_type": "markdown",
   "id": "b7f9414c",
   "metadata": {},
   "source": [
    "### <b> This notebook is used to extract sleap-based features from a trial level (multiple mice) <b>"
   ]
  },
  {
   "cell_type": "markdown",
   "id": "cb1c2951",
   "metadata": {},
   "source": [
    "Features that will be extracted:\n",
    "- head distance\n",
    "- res head-int head angle\n",
    "- res head-int hind distance\n",
    "- res head-int hind angle\n",
    "- int head-res hind distance\n",
    "- int head-res hind angle\n",
    "- hind distance\n",
    "- resident velocity\n",
    "- inrtuder velocity"
   ]
  },
  {
   "cell_type": "markdown",
   "id": "d7130716",
   "metadata": {},
   "source": [
    "Need to grab when a intruder is in and the identity of the intruder for downstream analysis\n",
    "\n",
    "Extra Features to include:\n",
    "- Brain region\n",
    "- mouse identity\n",
    "- standard zscored DA\n",
    "- Intuder social identity"
   ]
  },
  {
   "cell_type": "markdown",
   "id": "adf8094f",
   "metadata": {},
   "source": [
    "Convert h5 file data to only include times when another intruder is in\n",
    "\n",
    "Convert frames to time to be able to line up DA values to times\n",
    "\n",
    "Extract features from frames"
   ]
  },
  {
   "cell_type": "code",
   "execution_count": 1,
   "id": "9f04550a",
   "metadata": {},
   "outputs": [],
   "source": [
    "import os\n",
    "import sys\n",
    "\n",
    "PROJECT_ROOT = os.path.abspath(os.path.join(os.getcwd(), '..'))\n",
    "sys.path.append(PROJECT_ROOT)\n",
    "\n",
    "import h5py\n",
    "import numpy as np\n",
    "from scipy.interpolate import interp1d\n",
    "from scipy.signal import savgol_filter\n",
    "from bouts_extension import *\n",
    "from slp_trl_class import SleapTrial"
   ]
  },
  {
   "cell_type": "code",
   "execution_count": 2,
   "id": "53fd7d8c",
   "metadata": {},
   "outputs": [],
   "source": [
    "file = r\"C:\\Users\\alber\\OneDrive\\Desktop\\PC_Lab\\Photometry\\Pilot_2\\Combined_Cohorts\\Home_Cage\\SLEAP\\all_tdt\\pp8-250121-142227\"\n",
    "csv_path = r\"C:\\Users\\alber\\OneDrive\\Desktop\\PC_Lab\\Photometry\\Pilot_2\\Combined_Cohorts\\Home_Cage\\SLEAP\\all_csvs\\pp8-250121-142227.csv\"\n",
    "corner_path = r\"C:\\Users\\alber\\OneDrive\\Desktop\\PC_Lab\\Photometry\\Pilot_2\\Combined_Cohorts\\Home_Cage\\SLEAP\\corner_sleap\\corners.v001.015_1_19_25_Home_Cage_C3-250118-111408_pp8-250121-142227_Cam1_converted.analysis.h5\"\n",
    "\n",
    "video_path = r\"C:\\Users\\alber\\OneDrive\\Desktop\\PC_Lab\\Photometry\\Pilot_2\\Combined_Cohorts\\Home_Cage\\SLEAP\\1_19_25_Home_Cage_C3-250118-111408_pp8-250121-142227_Cam1_converted.mp4\""
   ]
  },
  {
   "cell_type": "code",
   "execution_count": 3,
   "id": "28f7a989",
   "metadata": {},
   "outputs": [
    {
     "name": "stdout",
     "output_type": "stream",
     "text": [
      "Found Synapse note file: C:\\Users\\alber\\OneDrive\\Desktop\\PC_Lab\\Photometry\\Pilot_2\\Combined_Cohorts\\Home_Cage\\SLEAP\\all_tdt\\pp8-250121-142227\\Notes.txt\n",
      "read from t=0s to t=1871.97s\n"
     ]
    }
   ],
   "source": [
    "trial = SleapTrial(file, '_465A', '_405A')"
   ]
  },
  {
   "cell_type": "code",
   "execution_count": 4,
   "id": "8aeb58c3",
   "metadata": {},
   "outputs": [],
   "source": [
    "bout_definitions = [\n",
    "    {'prefix': 'Short_Term', 'introduced': 'Short_Term_Introduced', 'removed': 'Short_Term_Removed'},\n",
    "    {'prefix': 'Long_Term', 'introduced': 'Long_Term_Introduced', 'removed': 'Long_Term_Removed'},\n",
    "    {'prefix': 'Novel', 'introduced': 'Novel_Introduced', 'removed': 'Novel_Removed'}\n",
    "]\n",
    "trial.extract_bouts_and_behaviors(csv_path, bout_definitions, first_only=False)\n",
    "trial.combine_consecutive_behaviors(behavior_name='all', bout_time_threshold=1)"
   ]
  },
  {
   "cell_type": "code",
   "execution_count": 5,
   "id": "d0eb9ea3",
   "metadata": {},
   "outputs": [],
   "source": [
    "trial.downsample(target_fs = 100)\n",
    "\n",
    "# 2.5) Remove beginning and end\n",
    "trial.remove_initial_LED_artifact(t=30)\n",
    "trial.remove_final_data_segment(t=10)\n",
    "\n",
    "# 3) low‐pass\n",
    "trial.lowpass_filter(cutoff_hz=3.0)\n",
    "\n",
    "# 4) high‐pass recentered\n",
    "trial.baseline_drift_highpass_recentered(cutoff=0.001)\n",
    "\n",
    "# 5) IRLS fit\n",
    "trial.motion_correction_align_channels_IRLS(IRLS_constant=1.4)\n",
    "\n",
    "# 6) compute dF/F\n",
    "trial.compute_dFF()\n",
    "\n",
    "# 7) zscore\n",
    "trial.compute_zscore(method='standard')"
   ]
  },
  {
   "cell_type": "markdown",
   "id": "3aa0cf09",
   "metadata": {},
   "source": [
    "Sleap"
   ]
  },
  {
   "cell_type": "code",
   "execution_count": 6,
   "id": "a097e25d",
   "metadata": {},
   "outputs": [],
   "source": [
    "# filename = r\"C:\\Users\\alber\\OneDrive\\Desktop\\PC_Lab\\Photometry\\Pilot_2\\Combined_Cohorts\\Home_Cage\\SLEAP\\sleap_id_corrected\\da_round_2 final (2) copy.008_1_19_25_Home_Cage_C3-250118-111408_pp1-250120-094415_Cam1_converted.analysis.h5\"\n",
    "# filename = r\"C:\\Users\\alber\\OneDrive\\Desktop\\PC_Lab\\Photometry\\Pilot_2\\Combined_Cohorts\\Home_Cage\\SLEAP\\sleap_id_corrected\\da_round_2 final (2) copy.008_1_19_25_Home_Cage_C3-250118-111408_pp1-250120-094415_Cam1_converted.analysis.h5\"\n",
    "filename = r\"C:\\Users\\alber\\OneDrive\\Desktop\\PC_Lab\\Photometry\\Pilot_2\\Combined_Cohorts\\Home_Cage\\SLEAP\\sleap_id_corrected\\da_round_2 final (2) copy.012_1_19_25_Home_Cage_C3-250118-111408_pp5-250121-110144_Cam1_converted.analysis.h5\"\n",
    "trial.load_sleap(h5_path=filename, fps = 10)"
   ]
  },
  {
   "cell_type": "code",
   "execution_count": 7,
   "id": "5556df06",
   "metadata": {},
   "outputs": [
    {
     "data": {
      "text/plain": [
       "0.083040414644066"
      ]
     },
     "execution_count": 7,
     "metadata": {},
     "output_type": "execute_result"
    }
   ],
   "source": [
    "trial.calibrate_from_corners(\n",
    "    corner_h5_path=corner_path,\n",
    "    real_width_cm=32,\n",
    "    top_left=\"Top_Left\",\n",
    "    top_right=\"Top_Right\"\n",
    ")"
   ]
  },
  {
   "cell_type": "code",
   "execution_count": 8,
   "id": "738cf314",
   "metadata": {},
   "outputs": [],
   "source": [
    "trial.filter_sleap_bouts(interp_kind=\"linear\")"
   ]
  },
  {
   "cell_type": "code",
   "execution_count": 9,
   "id": "50f21684",
   "metadata": {},
   "outputs": [],
   "source": [
    "trial.smooth_locations()"
   ]
  },
  {
   "cell_type": "code",
   "execution_count": 10,
   "id": "ba49f18f",
   "metadata": {},
   "outputs": [
    {
     "data": {
      "text/plain": [
       "{'Head': 0,\n",
       " 'Right_Ear': 1,\n",
       " 'Nose': 2,\n",
       " 'Tail_Base': 3,\n",
       " 'Left_Lateral': 4,\n",
       " 'Right_Lateral': 5,\n",
       " 'Left_Ear': 6,\n",
       " 'Neck': 7,\n",
       " 'Center': 8}"
      ]
     },
     "execution_count": 10,
     "metadata": {},
     "output_type": "execute_result"
    }
   ],
   "source": [
    "trial.node_dict"
   ]
  },
  {
   "cell_type": "code",
   "execution_count": 11,
   "id": "1a2b6deb",
   "metadata": {},
   "outputs": [
    {
     "data": {
      "text/plain": [
       "{'subject': 0, 'agent': 1, 'track_1': 2}"
      ]
     },
     "execution_count": 11,
     "metadata": {},
     "output_type": "execute_result"
    }
   ],
   "source": [
    "trial.track_dict"
   ]
  },
  {
   "cell_type": "markdown",
   "id": "ca13788c",
   "metadata": {},
   "source": [
    "Adding DA and metadata"
   ]
  },
  {
   "cell_type": "code",
   "execution_count": 12,
   "id": "dc53c913",
   "metadata": {},
   "outputs": [
    {
     "data": {
      "text/html": [
       "<div>\n",
       "<style scoped>\n",
       "    .dataframe tbody tr th:only-of-type {\n",
       "        vertical-align: middle;\n",
       "    }\n",
       "\n",
       "    .dataframe tbody tr th {\n",
       "        vertical-align: top;\n",
       "    }\n",
       "\n",
       "    .dataframe thead th {\n",
       "        text-align: right;\n",
       "    }\n",
       "</style>\n",
       "<table border=\"1\" class=\"dataframe\">\n",
       "  <thead>\n",
       "    <tr style=\"text-align: right;\">\n",
       "      <th></th>\n",
       "      <th>time_s</th>\n",
       "      <th>brain_region</th>\n",
       "      <th>mouse_identity</th>\n",
       "      <th>zscore_DA</th>\n",
       "      <th>intruder_identity</th>\n",
       "    </tr>\n",
       "  </thead>\n",
       "  <tbody>\n",
       "    <tr>\n",
       "      <th>0</th>\n",
       "      <td>185.2</td>\n",
       "      <td>mPFC</td>\n",
       "      <td>pp8</td>\n",
       "      <td>0.279553</td>\n",
       "      <td>Short_Term-1</td>\n",
       "    </tr>\n",
       "    <tr>\n",
       "      <th>1</th>\n",
       "      <td>185.3</td>\n",
       "      <td>mPFC</td>\n",
       "      <td>pp8</td>\n",
       "      <td>0.171266</td>\n",
       "      <td>Short_Term-1</td>\n",
       "    </tr>\n",
       "    <tr>\n",
       "      <th>2</th>\n",
       "      <td>185.4</td>\n",
       "      <td>mPFC</td>\n",
       "      <td>pp8</td>\n",
       "      <td>-0.285045</td>\n",
       "      <td>Short_Term-1</td>\n",
       "    </tr>\n",
       "    <tr>\n",
       "      <th>3</th>\n",
       "      <td>185.5</td>\n",
       "      <td>mPFC</td>\n",
       "      <td>pp8</td>\n",
       "      <td>0.094867</td>\n",
       "      <td>Short_Term-1</td>\n",
       "    </tr>\n",
       "    <tr>\n",
       "      <th>4</th>\n",
       "      <td>185.6</td>\n",
       "      <td>mPFC</td>\n",
       "      <td>pp8</td>\n",
       "      <td>0.419848</td>\n",
       "      <td>Short_Term-1</td>\n",
       "    </tr>\n",
       "    <tr>\n",
       "      <th>...</th>\n",
       "      <td>...</td>\n",
       "      <td>...</td>\n",
       "      <td>...</td>\n",
       "      <td>...</td>\n",
       "      <td>...</td>\n",
       "    </tr>\n",
       "    <tr>\n",
       "      <th>15107</th>\n",
       "      <td>1803.7</td>\n",
       "      <td>mPFC</td>\n",
       "      <td>pp8</td>\n",
       "      <td>-0.553901</td>\n",
       "      <td>Short_Term-2</td>\n",
       "    </tr>\n",
       "    <tr>\n",
       "      <th>15108</th>\n",
       "      <td>1803.8</td>\n",
       "      <td>mPFC</td>\n",
       "      <td>pp8</td>\n",
       "      <td>0.135497</td>\n",
       "      <td>Short_Term-2</td>\n",
       "    </tr>\n",
       "    <tr>\n",
       "      <th>15109</th>\n",
       "      <td>1803.9</td>\n",
       "      <td>mPFC</td>\n",
       "      <td>pp8</td>\n",
       "      <td>0.513378</td>\n",
       "      <td>Short_Term-2</td>\n",
       "    </tr>\n",
       "    <tr>\n",
       "      <th>15110</th>\n",
       "      <td>1804.0</td>\n",
       "      <td>mPFC</td>\n",
       "      <td>pp8</td>\n",
       "      <td>0.454459</td>\n",
       "      <td>Short_Term-2</td>\n",
       "    </tr>\n",
       "    <tr>\n",
       "      <th>15111</th>\n",
       "      <td>1804.1</td>\n",
       "      <td>mPFC</td>\n",
       "      <td>pp8</td>\n",
       "      <td>0.053515</td>\n",
       "      <td>Short_Term-2</td>\n",
       "    </tr>\n",
       "  </tbody>\n",
       "</table>\n",
       "<p>15112 rows × 5 columns</p>\n",
       "</div>"
      ],
      "text/plain": [
       "       time_s brain_region mouse_identity  zscore_DA intruder_identity\n",
       "0       185.2         mPFC            pp8   0.279553      Short_Term-1\n",
       "1       185.3         mPFC            pp8   0.171266      Short_Term-1\n",
       "2       185.4         mPFC            pp8  -0.285045      Short_Term-1\n",
       "3       185.5         mPFC            pp8   0.094867      Short_Term-1\n",
       "4       185.6         mPFC            pp8   0.419848      Short_Term-1\n",
       "...       ...          ...            ...        ...               ...\n",
       "15107  1803.7         mPFC            pp8  -0.553901      Short_Term-2\n",
       "15108  1803.8         mPFC            pp8   0.135497      Short_Term-2\n",
       "15109  1803.9         mPFC            pp8   0.513378      Short_Term-2\n",
       "15110  1804.0         mPFC            pp8   0.454459      Short_Term-2\n",
       "15111  1804.1         mPFC            pp8   0.053515      Short_Term-2\n",
       "\n",
       "[15112 rows x 5 columns]"
      ]
     },
     "execution_count": 12,
     "metadata": {},
     "output_type": "execute_result"
    }
   ],
   "source": [
    "trial.add_metadata_and_DA()"
   ]
  },
  {
   "cell_type": "markdown",
   "id": "b335b983",
   "metadata": {},
   "source": [
    "Elipse confirmation"
   ]
  },
  {
   "cell_type": "code",
   "execution_count": 13,
   "id": "b4e2f534",
   "metadata": {},
   "outputs": [],
   "source": [
    "# Video loading\n",
    "trial.load_video(video_path=video_path)"
   ]
  },
  {
   "cell_type": "code",
   "execution_count": 15,
   "id": "05c986d2",
   "metadata": {},
   "outputs": [
    {
     "ename": "AttributeError",
     "evalue": "'SleapTrial' object has no attribute 'agent_nose_in_subject_ellipse'",
     "output_type": "error",
     "traceback": [
      "\u001b[1;31m---------------------------------------------------------------------------\u001b[0m",
      "\u001b[1;31mAttributeError\u001b[0m                            Traceback (most recent call last)",
      "Cell \u001b[1;32mIn[15], line 70\u001b[0m\n\u001b[0;32m     67\u001b[0m     plt\u001b[38;5;241m.\u001b[39mshow()\n\u001b[0;32m     69\u001b[0m \u001b[38;5;66;03m# — example usage —\u001b[39;00m\n\u001b[1;32m---> 70\u001b[0m \u001b[43msample_and_plot_interaction_frames\u001b[49m\u001b[43m(\u001b[49m\u001b[43mtrial\u001b[49m\u001b[43m,\u001b[49m\u001b[43m \u001b[49m\u001b[43ma_cm\u001b[49m\u001b[38;5;241;43m=\u001b[39;49m\u001b[38;5;241;43m5\u001b[39;49m\u001b[43m,\u001b[49m\u001b[43m \u001b[49m\u001b[43mb_cm\u001b[49m\u001b[38;5;241;43m=\u001b[39;49m\u001b[38;5;241;43m3\u001b[39;49m\u001b[43m)\u001b[49m\n",
      "Cell \u001b[1;32mIn[15], line 19\u001b[0m, in \u001b[0;36msample_and_plot_interaction_frames\u001b[1;34m(trial, a_cm, b_cm, n_pos, n_neg, center_node, angle_src, angle_dst)\u001b[0m\n\u001b[0;32m     13\u001b[0m \u001b[38;5;250m\u001b[39m\u001b[38;5;124;03m\"\"\"\u001b[39;00m\n\u001b[0;32m     14\u001b[0m \u001b[38;5;124;03mSamples n_pos “interaction” frames (mask=True) and n_neg “no-interaction”\u001b[39;00m\n\u001b[0;32m     15\u001b[0m \u001b[38;5;124;03mframes (mask=False), then plots them in a 2×max(n_pos,n_neg) grid.\u001b[39;00m\n\u001b[0;32m     16\u001b[0m \u001b[38;5;124;03m\"\"\"\u001b[39;00m\n\u001b[0;32m     18\u001b[0m \u001b[38;5;66;03m# 1) compute the per-frame mask\u001b[39;00m\n\u001b[1;32m---> 19\u001b[0m mask \u001b[38;5;241m=\u001b[39m \u001b[43mtrial\u001b[49m\u001b[38;5;241;43m.\u001b[39;49m\u001b[43magent_nose_in_subject_ellipse\u001b[49m(a_cm, b_cm,\n\u001b[0;32m     20\u001b[0m                                            center_node\u001b[38;5;241m=\u001b[39mcenter_node,\n\u001b[0;32m     21\u001b[0m                                            angle_src\u001b[38;5;241m=\u001b[39mangle_src,\n\u001b[0;32m     22\u001b[0m                                            angle_dst\u001b[38;5;241m=\u001b[39mangle_dst)\n\u001b[0;32m     23\u001b[0m pos_idxs \u001b[38;5;241m=\u001b[39m np\u001b[38;5;241m.\u001b[39mwhere(mask)[\u001b[38;5;241m0\u001b[39m]\n\u001b[0;32m     24\u001b[0m neg_idxs \u001b[38;5;241m=\u001b[39m np\u001b[38;5;241m.\u001b[39mwhere(\u001b[38;5;241m~\u001b[39mmask)[\u001b[38;5;241m0\u001b[39m]\n",
      "\u001b[1;31mAttributeError\u001b[0m: 'SleapTrial' object has no attribute 'agent_nose_in_subject_ellipse'"
     ]
    }
   ],
   "source": [
    "import numpy as np\n",
    "import matplotlib.pyplot as plt\n",
    "from matplotlib.patches import Ellipse\n",
    "\n",
    "def sample_and_plot_interaction_frames(trial,\n",
    "                                       a_cm: float = 5.0,\n",
    "                                       b_cm: float = 3.0,\n",
    "                                       n_pos: int = 3,\n",
    "                                       n_neg: int = 3,\n",
    "                                       center_node: str = 'Head',\n",
    "                                       angle_src: str  = 'Tail_Base',\n",
    "                                       angle_dst: str  = 'Nose'):\n",
    "    \"\"\"\n",
    "    Samples n_pos “interaction” frames (mask=True) and n_neg “no-interaction”\n",
    "    frames (mask=False), then plots them in a 2×max(n_pos,n_neg) grid.\n",
    "    \"\"\"\n",
    "\n",
    "    # 1) compute the per-frame mask\n",
    "    mask = trial.agent_nose_in_subject_ellipse(a_cm, b_cm,\n",
    "                                               center_node=center_node,\n",
    "                                               angle_src=angle_src,\n",
    "                                               angle_dst=angle_dst)\n",
    "    pos_idxs = np.where(mask)[0]\n",
    "    neg_idxs = np.where(~mask)[0]\n",
    "\n",
    "    # 2) sample (without replacement, but safe if fewer frames exist)\n",
    "    pos_samples = np.random.choice(pos_idxs, min(n_pos, len(pos_idxs)), replace=False)\n",
    "    neg_samples = np.random.choice(neg_idxs, min(n_neg, len(neg_idxs)), replace=False)\n",
    "\n",
    "    # 3) make the figure\n",
    "    cols = max(len(pos_samples), len(neg_samples))\n",
    "    fig, axes = plt.subplots(2, cols, figsize=(4*cols, 8))\n",
    "    axes = axes if cols>1 else axes.reshape(2,1)\n",
    "\n",
    "    def _plot_cell(ax, frame_i, title):\n",
    "        frame = trial.get_frame(frame_i)  # your method to fetch the raw H×W×3 image\n",
    "        ax.imshow(frame)\n",
    "        # ellipse overlay\n",
    "        C = trial._xy(center_node,'subject')[frame_i]\n",
    "        V = trial._vec(angle_src, angle_dst,'subject')[frame_i]\n",
    "        theta = np.degrees(np.arctan2(V[1], V[0]))\n",
    "        if trial.px_to_cm:\n",
    "            a_px, b_px = a_cm / trial.px_to_cm, b_cm / trial.px_to_cm\n",
    "        else:\n",
    "            a_px, b_px = a_cm, b_cm\n",
    "        ell = Ellipse(xy=C, width=2*a_px, height=2*b_px,\n",
    "                      angle=theta, edgecolor='lime', fill=False, lw=2)\n",
    "        ax.add_patch(ell)\n",
    "        # intruder nose\n",
    "        Pn = trial._xy('Nose','agent')[frame_i]\n",
    "        ax.scatter(*Pn, c='yellow', s=50, edgecolor='black')\n",
    "        ax.set(title=f\"{title}\\nframe {frame_i}\", xticks=[], yticks=[])\n",
    "\n",
    "    # 4) plot positives\n",
    "    for i, fi in enumerate(pos_samples):\n",
    "        _plot_cell(axes[0, i], fi, \"SOCIAL\")\n",
    "    # 5) plot negatives\n",
    "    for i, fi in enumerate(neg_samples):\n",
    "        _plot_cell(axes[1, i], fi, \"NO SOCIAL\")\n",
    "\n",
    "    # 6) blank out any unused cells\n",
    "    for r in [0,1]:\n",
    "        for c in range(len(pos_samples), cols):\n",
    "            axes[r, c].axis('off')\n",
    "\n",
    "    plt.tight_layout()\n",
    "    plt.show()\n",
    "\n",
    "# — example usage —\n",
    "sample_and_plot_interaction_frames(trial, a_cm=5, b_cm=3)\n"
   ]
  },
  {
   "cell_type": "code",
   "execution_count": null,
   "id": "07b348f8",
   "metadata": {},
   "outputs": [],
   "source": [
    "df = trial.compute_pairwise_features()"
   ]
  },
  {
   "cell_type": "code",
   "execution_count": null,
   "id": "8f0746af",
   "metadata": {},
   "outputs": [],
   "source": [
    "df = trial.add_behavior_column(df, time_col=\"time_s\",\n",
    "                               out_col=\"behavior_active\",\n",
    "                               mode=\"all\")"
   ]
  },
  {
   "cell_type": "code",
   "execution_count": null,
   "id": "8a794a1e",
   "metadata": {},
   "outputs": [
    {
     "name": "stdout",
     "output_type": "stream",
     "text": [
      "count              1088\n",
      "unique                2\n",
      "top       Investigation\n",
      "freq               1078\n",
      "Name: behavior_active, dtype: object\n"
     ]
    },
    {
     "data": {
      "image/png": "[encoded data removed]",
      "text/plain": [
       "<Figure size 640x480 with 1 Axes>"
      ]
     },
     "metadata": {},
     "output_type": "display_data"
    }
   ],
   "source": [
    "import matplotlib.pyplot as plt\n",
    "import seaborn as sns\n",
    "col = df['behavior_active'].dropna()\n",
    "\n",
    "# Quick look\n",
    "print(col.describe())\n",
    "\n",
    "# Histogram + density curve\n",
    "sns.histplot(col, bins=50, kde=True)\n",
    "plt.xlabel('res_head-int_head_angle_deg (deg)')\n",
    "plt.show()"
   ]
  },
  {
   "cell_type": "markdown",
   "id": "2e72dea7",
   "metadata": {},
   "source": [
    "DA"
   ]
  },
  {
   "cell_type": "code",
   "execution_count": null,
   "id": "d8dbe8c0",
   "metadata": {},
   "outputs": [],
   "source": [
    "# trial.downsample(target_fs = 100)\n",
    "# # 2.5) Remove beginning and end\n",
    "# trial.remove_initial_LED_artifact(t=30)\n",
    "# trial.remove_final_data_segment(t=10)\n",
    "# # 3) low‐pass\n",
    "# trial.lowpass_filter(cutoff_hz=3.0)\n",
    "# # 4) high‐pass recentered\n",
    "# trial.baseline_drift_highpass_recentered(cutoff=0.001)\n",
    "# # 5) IRLS fit\n",
    "# trial.motion_correction_align_channels_IRLS(IRLS_constant=1.4)\n",
    "# # 6) compute dF/F\n",
    "# trial.compute_dFF()\n",
    "# # 7) zscore\n",
    "# trial.compute_zscore(method='standard')"
   ]
  },
  {
   "cell_type": "markdown",
   "id": "fa620847",
   "metadata": {},
   "source": [
    "Sanity Checks - make sure calculations are correct"
   ]
  },
  {
   "cell_type": "code",
   "execution_count": null,
   "id": "78079f8c",
   "metadata": {},
   "outputs": [
    {
     "ename": "AttributeError",
     "evalue": "'Dummy' object has no attribute 'px_to_cm'",
     "output_type": "error",
     "traceback": [
      "\u001b[1;31m---------------------------------------------------------------------------\u001b[0m",
      "\u001b[1;31mAttributeError\u001b[0m                            Traceback (most recent call last)",
      "Cell \u001b[1;32mIn[20], line 27\u001b[0m\n\u001b[0;32m     24\u001b[0m t\u001b[38;5;241m.\u001b[39mtrack_dict \u001b[38;5;241m=\u001b[39m {\u001b[38;5;124m'\u001b[39m\u001b[38;5;124msubject\u001b[39m\u001b[38;5;124m'\u001b[39m:\u001b[38;5;241m0\u001b[39m, \u001b[38;5;124m'\u001b[39m\u001b[38;5;124magent\u001b[39m\u001b[38;5;124m'\u001b[39m:\u001b[38;5;241m1\u001b[39m}\n\u001b[0;32m     26\u001b[0m \u001b[38;5;66;03m# now call your distance_between\u001b[39;00m\n\u001b[1;32m---> 27\u001b[0m dist \u001b[38;5;241m=\u001b[39m \u001b[43mSleapTrial\u001b[49m\u001b[38;5;241;43m.\u001b[39;49m\u001b[43mdistance_between\u001b[49m\u001b[43m(\u001b[49m\u001b[43mt\u001b[49m\u001b[43m,\u001b[49m\n\u001b[0;32m     28\u001b[0m \u001b[43m           \u001b[49m\u001b[43mnode1\u001b[49m\u001b[38;5;241;43m=\u001b[39;49m\u001b[38;5;124;43m'\u001b[39;49m\u001b[38;5;124;43mnose\u001b[39;49m\u001b[38;5;124;43m'\u001b[39;49m\u001b[43m,\u001b[49m\u001b[43m \u001b[49m\u001b[43mtrack1\u001b[49m\u001b[38;5;241;43m=\u001b[39;49m\u001b[38;5;124;43m'\u001b[39;49m\u001b[38;5;124;43msubject\u001b[39;49m\u001b[38;5;124;43m'\u001b[39;49m\u001b[43m,\u001b[49m\n\u001b[0;32m     29\u001b[0m \u001b[43m           \u001b[49m\u001b[43mnode2\u001b[49m\u001b[38;5;241;43m=\u001b[39;49m\u001b[38;5;124;43m'\u001b[39;49m\u001b[38;5;124;43mnose\u001b[39;49m\u001b[38;5;124;43m'\u001b[39;49m\u001b[43m,\u001b[49m\u001b[43m \u001b[49m\u001b[43mtrack2\u001b[49m\u001b[38;5;241;43m=\u001b[39;49m\u001b[38;5;124;43m'\u001b[39;49m\u001b[38;5;124;43magent\u001b[39;49m\u001b[38;5;124;43m'\u001b[39;49m\u001b[43m)\u001b[49m\n\u001b[0;32m     31\u001b[0m \u001b[38;5;28mprint\u001b[39m(\u001b[38;5;124m\"\u001b[39m\u001b[38;5;124mmean dist:\u001b[39m\u001b[38;5;124m\"\u001b[39m, np\u001b[38;5;241m.\u001b[39mmean(dist))\n\u001b[0;32m     32\u001b[0m \u001b[38;5;28mprint\u001b[39m(\u001b[38;5;124m\"\u001b[39m\u001b[38;5;124mexpected :\u001b[39m\u001b[38;5;124m\"\u001b[39m, d)\n",
      "File \u001b[1;32mc:\\Users\\alber\\OneDrive\\Documents\\GitHub\\Fiber_Photometry\\Pose_Tracking\\slp_trl_class.py:255\u001b[0m, in \u001b[0;36mSleapTrial.distance_between\u001b[1;34m(self, node1, track1, node2, track2, normalization_factor)\u001b[0m\n\u001b[0;32m    253\u001b[0m c2 \u001b[38;5;241m=\u001b[39m \u001b[38;5;28mself\u001b[39m\u001b[38;5;241m.\u001b[39mlocations[:, i2, :, t2]\n\u001b[0;32m    254\u001b[0m d  \u001b[38;5;241m=\u001b[39m np\u001b[38;5;241m.\u001b[39mlinalg\u001b[38;5;241m.\u001b[39mnorm(c1 \u001b[38;5;241m-\u001b[39m c2, axis\u001b[38;5;241m=\u001b[39m\u001b[38;5;241m1\u001b[39m)\n\u001b[1;32m--> 255\u001b[0m \u001b[38;5;28;01mif\u001b[39;00m \u001b[38;5;28;43mself\u001b[39;49m\u001b[38;5;241;43m.\u001b[39;49m\u001b[43mpx_to_cm\u001b[49m \u001b[38;5;129;01mis\u001b[39;00m \u001b[38;5;129;01mnot\u001b[39;00m \u001b[38;5;28;01mNone\u001b[39;00m:\n\u001b[0;32m    256\u001b[0m     d \u001b[38;5;241m*\u001b[39m\u001b[38;5;241m=\u001b[39m \u001b[38;5;28mself\u001b[39m\u001b[38;5;241m.\u001b[39mpx_to_cm\n\u001b[0;32m    257\u001b[0m \u001b[38;5;28;01mreturn\u001b[39;00m d \u001b[38;5;28;01mif\u001b[39;00m normalization_factor \u001b[38;5;129;01mis\u001b[39;00m \u001b[38;5;28;01mNone\u001b[39;00m \u001b[38;5;28;01melse\u001b[39;00m d \u001b[38;5;241m*\u001b[39m normalization_factor\n",
      "\u001b[1;31mAttributeError\u001b[0m: 'Dummy' object has no attribute 'px_to_cm'"
     ]
    }
   ],
   "source": [
    "import numpy as np\n",
    "\n",
    "# parameters\n",
    "fps = 10.0\n",
    "F   = 50\n",
    "d   = 42.0\n",
    "\n",
    "# make a dummy SleapTrial‐like object\n",
    "class Dummy:\n",
    "    pass\n",
    "\n",
    "t = Dummy()\n",
    "t.frame_times   = np.arange(F)/fps\n",
    "# shape = (frames, nodes, dims, instances)\n",
    "# here we only need 1 node, 2 instances\n",
    "t.locations = np.zeros((F, 1, 2, 2))\n",
    "for f in range(F):\n",
    "    t.locations[f,0,0,0] = 0    # subj x\n",
    "    t.locations[f,0,1,0] = 0    # subj y\n",
    "    t.locations[f,0,0,1] = d    # agn x\n",
    "    t.locations[f,0,1,1] = 0    # agn y\n",
    "\n",
    "t.node_dict  = {'nose':0}\n",
    "t.track_dict = {'subject':0, 'agent':1}\n",
    "\n",
    "# now call your distance_between\n",
    "dist = SleapTrial.distance_between(t,\n",
    "           node1='nose', track1='subject',\n",
    "           node2='nose', track2='agent')\n",
    "\n",
    "print(\"mean dist:\", np.mean(dist))\n",
    "print(\"expected :\", d)\n"
   ]
  },
  {
   "cell_type": "code",
   "execution_count": null,
   "id": "0d357854",
   "metadata": {},
   "outputs": [
    {
     "name": "stdout",
     "output_type": "stream",
     "text": [
      "mean computed speed: 3.6055512754639887\n",
      "expected speed     : 3.605551275463989\n"
     ]
    }
   ],
   "source": [
    "import numpy as np\n",
    "\n",
    "# parameters\n",
    "fps   = 10.0\n",
    "F     = 100                 # 10 s of data\n",
    "v_true = np.array([2.0,3.0])  # px/s\n",
    "\n",
    "# build a dummy SleapTrial-like object\n",
    "class Dummy:\n",
    "    pass\n",
    "\n",
    "t = Dummy()\n",
    "t.frame_times = np.arange(F)/fps\n",
    "\n",
    "# monkey‐patch a single node, single instance into t.locations\n",
    "# shape must be (frames, nodes, dims, instances)\n",
    "t.locations = np.zeros((F, 1, 2, 1))\n",
    "for f in range(F):\n",
    "    t.locations[f,0,:,0] = v_true * t.frame_times[f]\n",
    "\n",
    "# build node_dict so our routine finds it\n",
    "t.node_dict = {'dummy':0}\n",
    "t.track_dict = {'inst':0}\n",
    "\n",
    "# plug in the node_velocity from above\n",
    "def node_velocity(t, node):\n",
    "    idx    = t.node_dict[node]\n",
    "    coords = t.locations[:, idx, :, :]       # (F,2,1)\n",
    "    dt     = np.mean(np.diff(t.frame_times))\n",
    "    out    = []\n",
    "    for i in range(coords.shape[-1]):\n",
    "        xy = coords[...,i]                   # (F,2)\n",
    "        dx = np.gradient(xy[:,0], dt)\n",
    "        dy = np.gradient(xy[:,1], dt)\n",
    "        out.append(np.sqrt(dx*dx + dy*dy))\n",
    "    return np.stack(out,0)\n",
    "\n",
    "vel = node_velocity(t, 'dummy')  # shape (1,F)\n",
    "\n",
    "print(\"mean computed speed:\", vel.mean())\n",
    "print(\"expected speed     :\", np.linalg.norm(v_true))\n",
    "# should be within a few 1e‑3 pct or so\n"
   ]
  },
  {
   "cell_type": "code",
   "execution_count": null,
   "id": "48affd62",
   "metadata": {},
   "outputs": [],
   "source": []
  },
  {
   "cell_type": "markdown",
   "id": "c82c1eaf",
   "metadata": {},
   "source": [
    "Understanding h5 files"
   ]
  },
  {
   "cell_type": "code",
   "execution_count": null,
   "id": "5073625b",
   "metadata": {},
   "outputs": [],
   "source": []
  },
  {
   "cell_type": "code",
   "execution_count": null,
   "id": "46882bd3",
   "metadata": {},
   "outputs": [
    {
     "data": {
      "image/png": "[encoded data removed]",
      "text/plain": [
       "<Figure size 600x600 with 1 Axes>"
      ]
     },
     "metadata": {},
     "output_type": "display_data"
    }
   ],
   "source": [
    "import numpy as np\n",
    "import matplotlib.pyplot as plt\n",
    "\n",
    "def visualize_head_angle(\n",
    "    nose_res, earL_res, earR_res,\n",
    "    nose_int, earL_int, earR_int,\n",
    "    arc_radius=0.5,              # radius of the arc showing the angle\n",
    "    vector_color_res='tab:blue',\n",
    "    vector_color_int='tab:orange',\n",
    "    arc_color='black',\n",
    "    figsize=(6,6)\n",
    "):\n",
    "    \"\"\"\n",
    "    Given nose and ear coordinates for resident and intruder mice,\n",
    "    compute their head-vectors and plot them, showing the angle between.\n",
    "    \n",
    "    nose_res, earL_res, earR_res: (2,) arrays for resident\n",
    "    nose_int, earL_int, earR_int: (2,) arrays for intruder\n",
    "    \"\"\"\n",
    "\n",
    "    # Compute head vectors (nose minus midpoint of ears)\n",
    "    ear_mid_res = (np.array(earL_res) + np.array(earR_res)) / 2\n",
    "    ear_mid_int = (np.array(earL_int) + np.array(earR_int)) / 2\n",
    "\n",
    "    v_res = np.array(nose_res) - ear_mid_res\n",
    "    v_int = np.array(nose_int) - ear_mid_int\n",
    "\n",
    "    # signed angle (degrees) from v_res → v_int\n",
    "    cross = v_res[0]*v_int[1] - v_res[1]*v_int[0]\n",
    "    dot   = np.dot(v_res, v_int)\n",
    "    signed_angle = np.degrees(np.arctan2(cross, dot))\n",
    "    abs_angle = abs(signed_angle)\n",
    "\n",
    "    # angles for arc\n",
    "    phi1 = np.arctan2(v_res[1], v_res[0])\n",
    "    phi2 = np.arctan2(v_int[1], v_int[0])\n",
    "    # choose shortest direction for the arc\n",
    "    delta = (phi2 - phi1 + np.pi) % (2*np.pi) - np.pi\n",
    "    thetas = np.linspace(phi1, phi1 + delta, 100)\n",
    "\n",
    "    # set up plot\n",
    "    fig, ax = plt.subplots(figsize=figsize)\n",
    "    \n",
    "    # Plot resident head vector at its ear_mid\n",
    "    ax.arrow(\n",
    "        ear_mid_res[0], ear_mid_res[1],\n",
    "        v_res[0], v_res[1],\n",
    "        head_width=arc_radius*0.1, length_includes_head=True,\n",
    "        color=vector_color_res, lw=2, label='Resident head vector'\n",
    "    )\n",
    "    # Plot intruder head vector at its ear_mid\n",
    "    ax.arrow(\n",
    "        ear_mid_int[0], ear_mid_int[1],\n",
    "        v_int[0], v_int[1],\n",
    "        head_width=arc_radius*0.1, length_includes_head=True,\n",
    "        color=vector_color_int, lw=2, label='Intruder head vector'\n",
    "    )\n",
    "\n",
    "    # Faded vectors at the origin for angle reference\n",
    "    ax.arrow(0, 0, v_res[0], v_res[1],\n",
    "             head_width=arc_radius*0.05, length_includes_head=True,\n",
    "             color=vector_color_res, alpha=0.3)\n",
    "    ax.arrow(0, 0, v_int[0], v_int[1],\n",
    "             head_width=arc_radius*0.05, length_includes_head=True,\n",
    "             color=vector_color_int, alpha=0.3)\n",
    "\n",
    "    # Draw arc between vectors at the origin\n",
    "    arc_x = arc_radius * np.cos(thetas)\n",
    "    arc_y = arc_radius * np.sin(thetas)\n",
    "    ax.plot(arc_x, arc_y, color=arc_color, lw=2)\n",
    "\n",
    "    # Annotate the angle\n",
    "    mid_theta = phi1 + delta / 2\n",
    "    text_x = (arc_radius + 0.1) * np.cos(mid_theta)\n",
    "    text_y = (arc_radius + 0.1) * np.sin(mid_theta)\n",
    "    ax.text(\n",
    "        text_x, text_y,\n",
    "        f\"{abs_angle:.1f}°\",\n",
    "        ha='center', va='center',\n",
    "        fontsize=12, backgroundcolor='white'\n",
    "    )\n",
    "\n",
    "    # Finalize\n",
    "    ax.set_aspect('equal', 'box')\n",
    "    ax.set_xlabel('X')\n",
    "    ax.set_ylabel('Y')\n",
    "    ax.legend(loc='upper left')\n",
    "    ax.set_title(f\"Signed angle = {signed_angle:.1f}°  (|θ| = {abs_angle:.1f}°)\")\n",
    "    ax.axhline(0, color='gray', lw=1, ls='--')\n",
    "    ax.axvline(0, color='gray', lw=1, ls='--')\n",
    "    plt.tight_layout()\n",
    "    plt.show()\n",
    "\n",
    "# Example usage:\n",
    "resident_nose = [-1, -1]\n",
    "resident_earL = [-2,-2]\n",
    "resident_earR = [-1, -2]\n",
    "intruder_nose = [1, 1]\n",
    "intruder_earL = [2, 2]\n",
    "intruder_earR = [1, 2]\n",
    "visualize_head_angle(resident_nose, resident_earL, resident_earR,\n",
    "                    intruder_nose, intruder_earL, intruder_earR)\n"
   ]
  },
  {
   "cell_type": "code",
   "execution_count": null,
   "id": "2a2636b6",
   "metadata": {},
   "outputs": [
    {
     "data": {
      "image/png": "[encoded data removed]",
      "text/plain": [
       "<Figure size 1000x500 with 2 Axes>"
      ]
     },
     "metadata": {},
     "output_type": "display_data"
    }
   ],
   "source": [
    "import numpy as np\n",
    "import matplotlib.pyplot as plt\n",
    "\n",
    "def _signed_angle(u, v):\n",
    "    \"\"\"Return signed angle in degrees from u→v.\"\"\"\n",
    "    cross = u[0]*v[1] - u[1]*v[0]\n",
    "    dot   = np.dot(u, v)\n",
    "    return np.degrees(np.arctan2(cross, dot))\n",
    "\n",
    "def _unit_arc(phi1, phi2, radius=1.0, npts=200):\n",
    "    \"\"\"Return points along the shortest arc from angle phi1→phi2.\"\"\"\n",
    "    delta = (phi2 - phi1 + np.pi) % (2*np.pi) - np.pi\n",
    "    return np.linspace(phi1, phi1 + delta, npts)\n",
    "\n",
    "def visualize_head_hind_comparison(\n",
    "    nose_res, earL_res, earR_res, tail_res,\n",
    "    nose_int, earL_int, earR_int, tail_int,\n",
    "    arc_radius=1.0,\n",
    "    figsize=(10,5)\n",
    "):\n",
    "    \"\"\"\n",
    "    Left panel: resident head‑vector anchored at ear midpoint,\n",
    "                intruder hind‑vector anchored at tail.\n",
    "    Right panel: intruder head‑vector anchored at ear midpoint,\n",
    "                 resident hind‑vector anchored at tail.\n",
    "    Also draws projections of both vectors at the origin for angle reference.\n",
    "    \"\"\"\n",
    "    # convert to arrays\n",
    "    nose_res, earL_res, earR_res, tail_res = map(np.array, (nose_res, earL_res, earR_res, tail_res))\n",
    "    nose_int, earL_int, earR_int, tail_int = map(np.array, (nose_int, earL_int, earR_int, tail_int))\n",
    "\n",
    "    # compute midpoints\n",
    "    head_mid_res = (earL_res + earR_res) / 2\n",
    "    head_mid_int = (earL_int + earR_int) / 2\n",
    "\n",
    "    # vectors in world coords\n",
    "    v_res_head = nose_res - head_mid_res\n",
    "    v_int_hind = nose_int - tail_int\n",
    "\n",
    "    v_int_head = nose_int - head_mid_int\n",
    "    v_res_hind = nose_res - tail_res\n",
    "\n",
    "    pairs = [\n",
    "        (head_mid_res, v_res_head, tail_int, v_int_hind, \"Res head → Int hind\"),\n",
    "        (head_mid_int, v_int_head, tail_res, v_res_hind, \"Int head → Res hind\")\n",
    "    ]\n",
    "\n",
    "    fig, axes = plt.subplots(1, 2, figsize=figsize)\n",
    "    for ax, (p_u, u, p_v, v, title) in zip(axes, pairs):\n",
    "        # signed & abs angle\n",
    "        θ = _signed_angle(u, v)\n",
    "        absθ = abs(θ)\n",
    "\n",
    "        # projection at origin\n",
    "        ax.arrow(0, 0, u[0], u[1],\n",
    "                 head_width=arc_radius*0.05, length_includes_head=True,\n",
    "                 color=\"gray\", alpha=0.3, linestyle='--')\n",
    "        ax.arrow(0, 0, v[0], v[1],\n",
    "                 head_width=arc_radius*0.05, length_includes_head=True,\n",
    "                 color=\"gray\", alpha=0.3, linestyle='--')\n",
    "\n",
    "        # main arrows anchored at actual points\n",
    "        ax.arrow(p_u[0], p_u[1], u[0], u[1],\n",
    "                 head_width=arc_radius*0.1, length_includes_head=True,\n",
    "                 color=\"tab:blue\", lw=2, label=\"u\")\n",
    "        ax.arrow(p_v[0], p_v[1], v[0], v[1],\n",
    "                 head_width=arc_radius*0.1, length_includes_head=True,\n",
    "                 color=\"tab:orange\", lw=2, label=\"v\")\n",
    "\n",
    "        # compute arc around origin\n",
    "        φ1 = np.arctan2(u[1], u[0])\n",
    "        φ2 = np.arctan2(v[1], v[0])\n",
    "        thetas = _unit_arc(φ1, φ2, radius=arc_radius)\n",
    "\n",
    "        xs = arc_radius * np.cos(thetas)\n",
    "        ys = arc_radius * np.sin(thetas)\n",
    "        ax.plot(xs, ys, color=\"black\", lw=2)\n",
    "\n",
    "        # annotate angle\n",
    "        mid = φ1 + ((φ2 - φ1 + np.pi) % (2*np.pi) - np.pi) / 2\n",
    "        tx, ty = (arc_radius+0.1)*np.cos(mid), (arc_radius+0.1)*np.sin(mid)\n",
    "        ax.text(tx, ty, f\"{absθ:.1f}°\", ha=\"center\", va=\"center\",\n",
    "                backgroundcolor=\"white\")\n",
    "\n",
    "        # set limits to encompass all arrows\n",
    "        all_x = [0, p_u[0], p_u[0]+u[0], p_v[0], p_v[0]+v[0]]\n",
    "        all_y = [0, p_u[1], p_u[1]+u[1], p_v[1], p_v[1]+v[1]]\n",
    "        pad = arc_radius * 1.5\n",
    "        ax.set_xlim(min(all_x)-pad, max(all_x)+pad)\n",
    "        ax.set_ylim(min(all_y)-pad, max(all_y)+pad)\n",
    "\n",
    "        ax.set_aspect(\"equal\", \"box\")\n",
    "        ax.set_title(f\"{title}\\nθ = {θ:.1f}° (|θ| = {absθ:.1f}°)\")\n",
    "        ax.legend(loc=\"upper left\")\n",
    "        ax.grid(alpha=0.3)\n",
    "\n",
    "    plt.tight_layout()\n",
    "    plt.show()\n",
    "\n",
    "\n",
    "# ── example data ──\n",
    "resident_nose   = [-1, -1]\n",
    "resident_earL   = [-2, -2]\n",
    "resident_earR   = [-1, -2]\n",
    "resident_tail   = [-3, -3]\n",
    "\n",
    "intruder_nose   = [1,  0]\n",
    "intruder_earL   = [1, -1]\n",
    "intruder_earR   = [2, -1]\n",
    "intruder_tail   = [3,  4]\n",
    "\n",
    "visualize_head_hind_comparison(\n",
    "    resident_nose, resident_earL, resident_earR, resident_tail,\n",
    "    intruder_nose, intruder_earL, intruder_earR, intruder_tail,\n",
    "    arc_radius=1.0\n",
    ")\n"
   ]
  },
  {
   "cell_type": "code",
   "execution_count": null,
   "id": "7ff81d95",
   "metadata": {},
   "outputs": [
    {
     "data": {
      "image/png": "[encoded data removed]",
      "text/plain": [
       "<Figure size 600x600 with 1 Axes>"
      ]
     },
     "metadata": {},
     "output_type": "display_data"
    }
   ],
   "source": [
    "import numpy as np\n",
    "import matplotlib.pyplot as plt\n",
    "\n",
    "def visualize_angle_comparison(u, v, arc_radius=0.5, figsize=(6,6)):\n",
    "    \"\"\"\n",
    "    u, v : 2‐vectors (e.g. resident‐head and intruder‐hind)\n",
    "    Draws:\n",
    "      • black arc = signed‐angle via atan2(cross,dot)\n",
    "      • red   arc = acos( clamp(dot/(||u||*||v||), -1,1) ), unsigned\n",
    "    \"\"\"\n",
    "    # compute u→v via atan2\n",
    "    cross = u[0]*v[1] - u[1]*v[0]\n",
    "    dot   = np.dot(u, v)\n",
    "    θ_atan2 = np.degrees(np.arctan2(cross, dot))\n",
    "    abs_atan2 = abs(θ_atan2)\n",
    "\n",
    "    # compute via acos of dot/(|u||v|)\n",
    "    cosθ = dot / (np.linalg.norm(u)*np.linalg.norm(v))\n",
    "    cosθ = np.clip(cosθ, -1, 1)\n",
    "    θ_acos = np.degrees(np.arccos(cosθ))\n",
    "\n",
    "    # angles for arcs\n",
    "    φ1 = np.arctan2(u[1], u[0])\n",
    "    φ2 = φ1 + np.deg2rad(θ_atan2)   # end of black arc\n",
    "    thetas_black = np.linspace(φ1, φ2, 100)\n",
    "    thetas_red   = np.linspace(φ1, φ1 + np.deg2rad(θ_acos), 100)\n",
    "\n",
    "    fig, ax = plt.subplots(figsize=figsize)\n",
    "    # faded axes\n",
    "    ax.axhline(0, color='gray', lw=1); ax.axvline(0, color='gray', lw=1)\n",
    "\n",
    "    # arrows at origin\n",
    "    ax.arrow(0,0, u[0], u[1], head_width=0.05, length_includes_head=True, color='tab:blue', label='u')\n",
    "    ax.arrow(0,0, v[0], v[1], head_width=0.05, length_includes_head=True, color='tab:orange', label='v')\n",
    "\n",
    "    # black arc = atan2 version\n",
    "    xb = arc_radius * np.cos(thetas_black)\n",
    "    yb = arc_radius * np.sin(thetas_black)\n",
    "    ax.plot(xb, yb, color='black', lw=2, label=f\"atan2 → {abs_atan2:.1f}°\")\n",
    "\n",
    "    # red arc = acos version\n",
    "    xar = arc_radius*1.1 * np.cos(thetas_red)\n",
    "    yar = arc_radius*1.1 * np.sin(thetas_red)\n",
    "    ax.plot(xar, yar, color='red', lw=2, label=f\"acos  → {θ_acos:.1f}°\")\n",
    "\n",
    "    ax.set_aspect('equal', 'box')\n",
    "    ax.set_xlim(-arc_radius*1.5, arc_radius*1.5)\n",
    "    ax.set_ylim(-arc_radius*1.5, arc_radius*1.5)\n",
    "    ax.legend(loc='upper right')\n",
    "    ax.set_title(\"Black: atan2(cross,dot)   Red: acos(dot/|u||v|)\")\n",
    "    plt.show()\n",
    "\n",
    "# example vectors\n",
    "u = np.array([ 1.0,  0.5])   # e.g. resident head\n",
    "v = np.array([-0.2,  1.2])   # e.g. intruder hind\n",
    "\n",
    "visualize_angle_comparison(u, v)\n"
   ]
  }
 ],
 "metadata": {
  "kernelspec": {
   "display_name": "photometry",
   "language": "python",
   "name": "python3"
  },
  "language_info": {
   "codemirror_mode": {
    "name": "ipython",
    "version": 3
   },
   "file_extension": ".py",
   "mimetype": "text/x-python",
   "name": "python",
   "nbconvert_exporter": "python",
   "pygments_lexer": "ipython3",
   "version": "3.12.5"
  }
 },
 "nbformat": 4,
 "nbformat_minor": 5
}
