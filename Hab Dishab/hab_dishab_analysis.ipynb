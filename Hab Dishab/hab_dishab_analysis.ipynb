{
 "cells": [
  {
   "cell_type": "markdown",
   "metadata": {},
   "source": [
    "Hab Dishab Analysis"
   ]
  },
  {
   "cell_type": "code",
   "execution_count": 3,
   "metadata": {},
   "outputs": [],
   "source": [
    "from hab_dishab_extension import HabDishab"
   ]
  },
  {
   "cell_type": "code",
   "execution_count": 4,
   "metadata": {},
   "outputs": [],
   "source": [
    "experiment_path = r\"/Users/naylajimenez/Downloads/papers/dopamine/cohort 2/Hab_Dishab/mpfc\"\n",
    "csv_base_path = r\"/Users/naylajimenez/Downloads/papers/dopamine/cohort 2/Hab_Dishab/mpfc_csvs\"\n",
    "brain_region = '#FFAF00'"
   ]
  },
  {
   "cell_type": "code",
   "execution_count": 5,
   "metadata": {},
   "outputs": [],
   "source": [
    "# why do we remove specific time segments again \n",
    "\n",
    "# Define the time segments to remove for specific subjects\n",
    "time_segments_to_remove = {\n",
    "    'n6': [(150,200)],\n",
    "    'n7': [(90, 130)],\n",
    "    'n5': [(310,326)]\n",
    "}"
   ]
  },
  {
   "cell_type": "code",
   "execution_count": 6,
   "metadata": {},
   "outputs": [
    {
     "name": "stdout",
     "output_type": "stream",
     "text": [
      "Found Synapse note file: /Users/naylajimenez/Downloads/papers/dopamine/cohort 2/Hab_Dishab/mpfc/p7-240821-111323/Notes.txt\n",
      "read from t=0s to t=1325.21s\n",
      "Found Synapse note file: /Users/naylajimenez/Downloads/papers/dopamine/cohort 2/Hab_Dishab/mpfc/p5-240821-092649/Notes.txt\n",
      "read from t=0s to t=1326.46s\n",
      "Found Synapse note file: /Users/naylajimenez/Downloads/papers/dopamine/cohort 2/Hab_Dishab/mpfc/p1-240516-064158/Notes.txt\n",
      "read from t=0s to t=1547.64s\n",
      "Found Synapse note file: /Users/naylajimenez/Downloads/papers/dopamine/cohort 2/Hab_Dishab/mpfc/p8-240821-121933/Notes.txt\n",
      "read from t=0s to t=1315.26s\n",
      "Found Synapse note file: /Users/naylajimenez/Downloads/papers/dopamine/cohort 2/Hab_Dishab/mpfc/p6-240821-103616/Notes.txt\n",
      "read from t=0s to t=1322.66s\n",
      "Found Synapse note file: /Users/naylajimenez/Downloads/papers/dopamine/cohort 2/Hab_Dishab/mpfc/p4-240516-083255/Notes.txt\n",
      "read from t=0s to t=1773.98s\n",
      "Found Synapse note file: /Users/naylajimenez/Downloads/papers/dopamine/cohort 2/Hab_Dishab/mpfc/p2-240516-071921/Notes.txt\n",
      "read from t=0s to t=1556.22s\n",
      "Found Synapse note file: /Users/naylajimenez/Downloads/papers/dopamine/cohort 2/Hab_Dishab/mpfc/p3-240516-075659/Notes.txt\n",
      "read from t=0s to t=1538.85s\n",
      "Processing p7-240821-111323...\n",
      "Processing p5-240821-092649...\n",
      "Processing p1-240516-064158...\n",
      "Processing p8-240821-121933...\n",
      "Processing p6-240821-103616...\n",
      "Processing p4-240516-083255...\n",
      "Processing p2-240516-071921...\n",
      "Processing p3-240516-075659...\n"
     ]
    }
   ],
   "source": [
    "# groups csv + experiment data into one variable\n",
    "group_data = HabDishab(experiment_path, csv_base_path)\n",
    "\n",
    "# Batch process the data, removing the specified time segments for subjects\n",
    "group_data.default_batch_process(time_segments_to_remove=time_segments_to_remove)"
   ]
  },
  {
   "cell_type": "code",
   "execution_count": 7,
   "metadata": {},
   "outputs": [],
   "source": [
    "group_data.hab_dishab_processing()"
   ]
  },
  {
   "cell_type": "markdown",
   "metadata": {},
   "source": [
    "Total Duration"
   ]
  },
  {
   "cell_type": "code",
   "execution_count": 9,
   "metadata": {},
   "outputs": [
    {
     "ename": "NameError",
     "evalue": "name 'hp_extract_total_behavior_durations' is not defined",
     "output_type": "error",
     "traceback": [
      "\u001b[0;31m---------------------------------------------------------------------------\u001b[0m",
      "\u001b[0;31mNameError\u001b[0m                                 Traceback (most recent call last)",
      "Cell \u001b[0;32mIn[9], line 4\u001b[0m\n\u001b[1;32m      2\u001b[0m custom_xtick_labels \u001b[38;5;241m=\u001b[39m [\u001b[38;5;124m'\u001b[39m\u001b[38;5;124mi1\u001b[39m\u001b[38;5;124m'\u001b[39m, \u001b[38;5;124m'\u001b[39m\u001b[38;5;124mi1\u001b[39m\u001b[38;5;124m'\u001b[39m,\u001b[38;5;124m'\u001b[39m\u001b[38;5;124mi1\u001b[39m\u001b[38;5;124m'\u001b[39m,\u001b[38;5;124m'\u001b[39m\u001b[38;5;124mi1\u001b[39m\u001b[38;5;124m'\u001b[39m,\u001b[38;5;124m'\u001b[39m\u001b[38;5;124mi1\u001b[39m\u001b[38;5;124m'\u001b[39m,\u001b[38;5;124m'\u001b[39m\u001b[38;5;124mi2\u001b[39m\u001b[38;5;124m'\u001b[39m,]\n\u001b[1;32m      3\u001b[0m custom_xtick_colors \u001b[38;5;241m=\u001b[39m [\u001b[38;5;124m'\u001b[39m\u001b[38;5;124mblue\u001b[39m\u001b[38;5;124m'\u001b[39m, \u001b[38;5;124m'\u001b[39m\u001b[38;5;124mblue\u001b[39m\u001b[38;5;124m'\u001b[39m, \u001b[38;5;124m'\u001b[39m\u001b[38;5;124mblue\u001b[39m\u001b[38;5;124m'\u001b[39m, \u001b[38;5;124m'\u001b[39m\u001b[38;5;124mblue\u001b[39m\u001b[38;5;124m'\u001b[39m, \u001b[38;5;124m'\u001b[39m\u001b[38;5;124mblue\u001b[39m\u001b[38;5;124m'\u001b[39m, \u001b[38;5;124m'\u001b[39m\u001b[38;5;124m#E06928\u001b[39m\u001b[38;5;124m'\u001b[39m]\n\u001b[0;32m----> 4\u001b[0m avg_inv_tot_duration_df \u001b[38;5;241m=\u001b[39m \u001b[43mhp_extract_total_behavior_durations\u001b[49m(group_data\u001b[38;5;241m=\u001b[39mgroup_data, bouts\u001b[38;5;241m=\u001b[39mbouts, behavior \u001b[38;5;241m=\u001b[39m \u001b[38;5;124m'\u001b[39m\u001b[38;5;124mInvestigation\u001b[39m\u001b[38;5;124m'\u001b[39m)\n\u001b[1;32m      6\u001b[0m \u001b[38;5;66;03m# avg_inv_tot_duration_df\u001b[39;00m\n\u001b[1;32m      7\u001b[0m hab_dishab_plot_y_across_bouts_gray(avg_inv_tot_duration_df, \u001b[38;5;124m'\u001b[39m\u001b[38;5;124m'\u001b[39m,\u001b[38;5;124m'\u001b[39m\u001b[38;5;124mTotal Time (s)\u001b[39m\u001b[38;5;124m'\u001b[39m,custom_xtick_labels\u001b[38;5;241m=\u001b[39mcustom_xtick_labels,\n\u001b[1;32m      8\u001b[0m                          custom_xtick_colors\u001b[38;5;241m=\u001b[39mcustom_xtick_colors, bar_color\u001b[38;5;241m=\u001b[39mbrain_region, xlabel \u001b[38;5;241m=\u001b[39m \u001b[38;5;124m'\u001b[39m\u001b[38;5;124mIntruder\u001b[39m\u001b[38;5;124m'\u001b[39m,ylim\u001b[38;5;241m=\u001b[39m(\u001b[38;5;241m0\u001b[39m,\u001b[38;5;241m75\u001b[39m))\n",
      "\u001b[0;31mNameError\u001b[0m: name 'hp_extract_total_behavior_durations' is not defined"
     ]
    }
   ],
   "source": [
    "bouts = ['s1_1', 's1_2', 's1_3', 's1_4', 's1_5','s2_1']\n",
    "custom_xtick_labels = ['i1', 'i1','i1','i1','i1','i2',]\n",
    "custom_xtick_colors = ['blue', 'blue', 'blue', 'blue', 'blue', '#E06928']\n",
    "avg_inv_tot_duration_df = hp_extract_total_behavior_durations(group_data=group_data, bouts=bouts, behavior = 'Investigation')\n",
    "\n",
    "# avg_inv_tot_duration_df\n",
    "hab_dishab_plot_y_across_bouts_gray(avg_inv_tot_duration_df, '','Total Time (s)',custom_xtick_labels=custom_xtick_labels,\n",
    "                         custom_xtick_colors=custom_xtick_colors, bar_color=brain_region, xlabel = 'Intruder',ylim=(0,75))"
   ]
  }
 ],
 "metadata": {
  "kernelspec": {
   "display_name": "photometry",
   "language": "python",
   "name": "python3"
  },
  "language_info": {
   "codemirror_mode": {
    "name": "ipython",
    "version": 3
   },
   "file_extension": ".py",
   "mimetype": "text/x-python",
   "name": "python",
   "nbconvert_exporter": "python",
   "pygments_lexer": "ipython3",
   "version": "3.12.5"
  }
 },
 "nbformat": 4,
 "nbformat_minor": 2
}
