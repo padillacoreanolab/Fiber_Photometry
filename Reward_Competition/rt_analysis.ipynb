{
 "cells": [
  {
   "cell_type": "markdown",
   "metadata": {},
   "source": [
    "# Reward Training Analysis"
   ]
  },
  {
   "cell_type": "markdown",
   "metadata": {},
   "source": [
    "Cohort 2"
   ]
  },
  {
   "cell_type": "code",
   "execution_count": null,
   "metadata": {},
   "outputs": [],
   "source": [
    "from rt_extension import Reward_Training\n",
    "from pathlib import Path"
   ]
  },
  {
   "cell_type": "code",
   "execution_count": null,
   "metadata": {},
   "outputs": [],
   "source": [
    "# cohort = 'cohort_1_2'\n",
    "# cohort = 'cohort_3'\n",
    "cohort = 'combined'\n",
    "# day = '1'\n",
    "day ='10'\n",
    "# brain_region = 'mPFC'\n",
    "brain_region = 'NAc'\n",
    "\n",
    "\"\"\"Cohort 1/2 Day 1 Experiment Path\"\"\"\n",
    "# experiment_path = r\"C:\\Users\\yezon\\Padilla-Coreano_Lab\\Albert_Cohort_3\\Reward_Training\\Day1\\Cohort_1_2\\mPFC\"\n",
    "# experiment_path = r\"C:\\Users\\yezon\\Padilla-Coreano_Lab\\Albert_Cohort_3\\Reward_Training\\Day1\\Cohort_1_2\\NAc\"\n",
    "\n",
    "\"\"\"Cohort 1/2 Day 10 Experiment Path\"\"\"\n",
    "# experiment_path = r\"C:\\Users\\yezon\\Padilla-Coreano_Lab\\Albert_Cohort_3\\Reward_Training\\Day10\\Cohort_1_2\\mPFC\"\n",
    "experiment_path = r\"C:\\Users\\yezon\\Padilla-Coreano_Lab\\Albert_Cohort_3\\Reward_Training\\Day10\\Cohort_1_2\\NAc\"\n",
    "\n",
    "\"\"\"Cohort 3 Day 1 Experiment Path\"\"\"\n",
    "# experiment_path1 = r\"C:\\Users\\yezon\\Padilla-Coreano_Lab\\Albert_Cohort_3\\Reward_Training\\Day1\\Cohort_3\\mPFC\"\n",
    "# experiment_path1 = r\"C:\\Users\\yezon\\Padilla-Coreano_Lab\\Albert_Cohort_3\\Reward_Training\\Day1\\Cohort_3\\NAc\"\n",
    "\n",
    "\"\"\"Cohort 3 Day 10 Experiment Path\"\"\"\n",
    "# experiment_path1 = r\"C:\\Users\\yezon\\Padilla-Coreano_Lab\\Albert_Cohort_3\\Reward_Training\\Day10\\Cohort_3\\mPFC\"\n",
    "experiment_path1 = r\"C:\\Users\\yezon\\Padilla-Coreano_Lab\\Albert_Cohort_3\\Reward_Training\\Day10\\Cohort_3\\NAc\"\n",
    "\n",
    "directory_path = Path(f'C:\\\\Users\\\\yezon\\\\Padilla-Coreano_Lab\\\\Albert_Cohort_3\\\\Reward_Training\\\\plots\\\\{cohort}\\\\{brain_region}\\\\{day}\\\\peth')\n",
    "directory_path1 = Path(f'C:\\\\Users\\\\yezon\\\\Padilla-Coreano_Lab\\\\Albert_Cohort_3\\\\Reward_Training\\\\plots\\\\{cohort}\\\\{brain_region}\\\\{day}\\\\linear')\n",
    "directory_path2 = Path(f'C:\\\\Users\\\\yezon\\\\Padilla-Coreano_Lab\\\\Albert_Cohort_3\\\\Reward_Training\\\\plots\\\\{cohort}\\\\{brain_region}\\\\{day}\\\\linear\\\\EI')\n",
    "directory_path3 = Path(f'C:\\\\Users\\\\yezon\\\\Padilla-Coreano_Lab\\\\Albert_Cohort_3\\\\Reward_Training\\\\plots\\\\{cohort}\\\\{brain_region}\\\\{day}\\\\heatmaps')\n",
    "\n",
    "directory_path.mkdir(parents=True, exist_ok=True)\n",
    "directory_path1.mkdir(parents=True, exist_ok=True)\n",
    "directory_path2.mkdir(parents=True, exist_ok=True)\n",
    "directory_path3.mkdir(parents=True, exist_ok=True)"
   ]
  },
  {
   "cell_type": "code",
   "execution_count": null,
   "metadata": {},
   "outputs": [],
   "source": [
    "exp = Reward_Training(experiment_folder_path=experiment_path1, behavior_folder_path=None)\n",
    "if cohort == 'combined':\n",
    "    exp1 = Reward_Training(experiment_folder_path=experiment_path, behavior_folder_path=None)"
   ]
  },
  {
   "cell_type": "code",
   "execution_count": null,
   "metadata": {},
   "outputs": [],
   "source": [
    "exp.rt_processing()\n",
    "exp.create_df(experiment_path1)\n",
    "if cohort == \"combined\":\n",
    "    exp1.rt_processing()\n",
    "    exp1.create_df(experiment_path)\n",
    "    exp.combining_cohorts(exp1.df)"
   ]
  },
  {
   "cell_type": "code",
   "execution_count": null,
   "metadata": {},
   "outputs": [],
   "source": [
    "exp.find_first_lick_after_sound_cue()\n",
    "exp.compute_closest_port_offset(lick_column='first_lick_after_sound_cue', offset_column='port entries offset')\n",
    "exp.compute_event_induced_DA()\n",
    "exp.compute_lick_ei_DA()\n",
    "exp.compute_tone_da()\n",
    "exp.compute_lick_da()\n",
    "exp.compute_tone_da(mode=\"EI\")\n",
    "exp.compute_lick_da(mode=\"EI\")\n",
    "print(exp.df['Lick Event_Zscore'])"
   ]
  },
  {
   "cell_type": "code",
   "execution_count": null,
   "metadata": {},
   "outputs": [],
   "source": [
    "print(len(exp.df['Mean Z-score EI'].iloc[0]))\n",
    "print(exp.df)\n",
    "exp.plot_linear_fit_with_error_bars(df=exp.df, directory_path='directory_path', color='blue', y_limits=None, brain_region=brain_region)"
   ]
  },
  {
   "cell_type": "markdown",
   "metadata": {},
   "source": [
    "## Plotting PETH of first and last tones"
   ]
  },
  {
   "cell_type": "code",
   "execution_count": null,
   "metadata": {},
   "outputs": [],
   "source": [
    "if brain_region == 'NAc':\n",
    "    exp.plot_specific_peth(event_type='Tone', directory_path=directory_path, brain_region='NAc', y_min=-1.5, y_max=6.5)\n",
    "    # exp.plot_specific_peth(event_type='Lick', directory_path=directory_path1, brain_region='NAc', y_min=-1.5, y_max=6)\n",
    "else:\n",
    "    exp.plot_specific_peth(event_type='Tone', directory_path=directory_path, brain_region='mPFC', y_min=-1.5, y_max=2.2)\n",
    "    # exp.plot_specific_peth(event_type='Lick', directory_path=directory_path1, brain_region='mPFC', y_min=-1.3, y_max=1.5)"
   ]
  },
  {
   "cell_type": "markdown",
   "metadata": {},
   "source": [
    "## Plotting Heatmaps"
   ]
  },
  {
   "cell_type": "code",
   "execution_count": null,
   "metadata": {},
   "outputs": [],
   "source": [
    "if brain_region == 'mPFC':\n",
    "    exp.plot_trial_heatmaps(trial_numbers=15, event_type='Tone', directory_path=directory_path3, brain_region='mPFC')\n",
    "else:\n",
    "    exp.plot_trial_heatmaps(trial_numbers=15, event_type='Tone', directory_path=directory_path3, brain_region='NAc')"
   ]
  },
  {
   "cell_type": "markdown",
   "metadata": {},
   "source": [
    "## Plotting Linear with Global DA"
   ]
  },
  {
   "cell_type": "code",
   "execution_count": null,
   "metadata": {},
   "outputs": [],
   "source": []
  },
  {
   "cell_type": "markdown",
   "metadata": {},
   "source": [
    "## Plotting Linear with Event-Induced DA"
   ]
  },
  {
   "cell_type": "code",
   "execution_count": null,
   "metadata": {},
   "outputs": [],
   "source": []
  },
  {
   "cell_type": "code",
   "execution_count": null,
   "metadata": {},
   "outputs": [],
   "source": [
    "\"\"\"# Compute PETH around the first 5 sound cues\n",
    "exp.rt_compute_peth_per_event(behavior_name='sound cues', n_events=14, pre_time=100, post_time=10, bin_size=0.1)\n",
    "\n",
    "# Plot the PETH\n",
    "exp.rt_plot_peth_per_event(signal_type='zscore', error_type='sem', title='PETH for First n Sound Cues',\n",
    "                          color=brain_region, display_pre_time=4, display_post_time=10, yticks_interval=2)\"\"\"\n"
   ]
  },
  {
   "cell_type": "code",
   "execution_count": null,
   "metadata": {},
   "outputs": [],
   "source": [
    "# # common_time_axis, peri_event_signals = exp.compute_peth_for_selected_events([14])\n",
    "# # exp.plot_peth_for_all_sounds(common_time_axis, peri_event_signals)\n",
    "# common_time_axis, peri_event_signals = exp.compute_peth_for_all_sounds()\n",
    "# exp.plot_peth_for_all_sounds(common_time_axis, peri_event_signals)"
   ]
  },
  {
   "cell_type": "code",
   "execution_count": null,
   "metadata": {},
   "outputs": [],
   "source": [
    "exp.plot_linear_fit_with_error_bars(df, color=brain_region, y_limits=[-1,3])"
   ]
  },
  {
   "cell_type": "markdown",
   "metadata": {},
   "source": []
  }
 ],
 "metadata": {
  "kernelspec": {
   "display_name": "albertenv",
   "language": "python",
   "name": "python3"
  },
  "language_info": {
   "codemirror_mode": {
    "name": "ipython",
    "version": 3
   },
   "file_extension": ".py",
   "mimetype": "text/x-python",
   "name": "python",
   "nbconvert_exporter": "python",
   "pygments_lexer": "ipython3",
   "version": "3.12.9"
  }
 },
 "nbformat": 4,
 "nbformat_minor": 2
}
