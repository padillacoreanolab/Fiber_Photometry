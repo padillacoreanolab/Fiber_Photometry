{
 "cells": [
  {
   "cell_type": "code",
   "execution_count": 1,
   "metadata": {},
   "outputs": [],
   "source": [
    "from rc_extension import Reward_Competition\n",
    "from rt_extension import Reward_Training\n",
    "from pathlib import Path"
   ]
  },
  {
   "cell_type": "code",
   "execution_count": 2,
   "metadata": {},
   "outputs": [],
   "source": [
    "cohort = \"combined\"\n",
    "# cohort = \"cohort_1_2\" \n",
    "# cohort = \"cohort_3\"\n",
    "csv_path = r\"C:\\Users\\yezon\\Padilla-Coreano_Lab\\Albert_Cohort_3\\Reward_Comp\\Cohort_1_2\\P2C1_Reward_Comp_Manual_Scoring.xlsx\"\n",
    "csv_path1 = r\"C:\\Users\\yezon\\Padilla-Coreano_Lab\\Albert_Cohort_3\\Reward_Comp\\Cohort_3\\P2C3_Reward_Comp_Manual_Scoring.xlsx\"\n",
    "\n",
    "\"\"\"Day 1 Experiment Path\"\"\"\n",
    "# experiment_path = r\"C:\\Users\\yezon\\Padilla-Coreano_Lab\\Albert_Cohort_3\\Reward_Comp\\day1_data\\rig_data_Cohort_1_2\"\n",
    "# experiment_path1 = r\"C:\\Users\\yezon\\Padilla-Coreano_Lab\\Albert_Cohort_3\\Reward_Comp\\day1_data\\rig_data_Cohort3\"\n",
    "\"\"\"Day 4 Experiment Path\"\"\"\n",
    "# experiment_path = r\"C:\\Users\\yezon\\Padilla-Coreano_Lab\\Albert_Cohort_3\\Reward_Comp\\day4_data\\rig_data_Cohort_1_2\"\n",
    "# experiment_path1 = r\"C:\\Users\\yezon\\Padilla-Coreano_Lab\\Albert_Cohort_3\\Reward_Comp\\day4_data\\rig_data_Cohort3\"\n",
    "\"\"\"Testing\"\"\"\n",
    "experiment_path = r\"C:\\Users\\yezon\\Padilla-Coreano_Lab\\Albert_Cohort_3\\Reward_Comp\\Cohort_1_2\\testing\"\n",
    "experiment_path1 = r\"C:\\Users\\yezon\\Padilla-Coreano_Lab\\Albert_Cohort_3\\Reward_Comp\\Data\\Cohort_3\\testing\"\n",
    "\"\"\"Combined Data\"\"\"\n",
    "# experiment_path = r\"C:\\Users\\yezon\\Padilla-Coreano_Lab\\Albert_Cohort_3\\Reward_Comp\\Cohort_1_2\\Rig Data\"\n",
    "# experiment_path1 = r\"C:\\Users\\yezon\\Padilla-Coreano_Lab\\Albert_Cohort_3\\Reward_Comp\\Cohort_3\\Rig Data\"\n",
    "\n",
    "\"\"\"Reward Training Data\"\"\"\n",
    "\"\"\"Cohort 1/2 Day 10 Experiment Path\"\"\"\n",
    "# experiment_path2 = r\"C:\\Users\\yezon\\Padilla-Coreano_Lab\\Albert_Cohort_3\\Reward_Training\\Day10\\Cohort_1_2\\mPFC\"\n",
    "experiment_path2 = r\"C:\\Users\\yezon\\Padilla-Coreano_Lab\\Albert_Cohort_3\\Reward_Training\\Day10\\Cohort_1_2\\NAc\"\n",
    "\"\"\"Cohort 3 Day 10 Experiment Path\"\"\"\n",
    "# experiment_path3 = r\"C:\\Users\\yezon\\Padilla-Coreano_Lab\\Albert_Cohort_3\\Reward_Training\\Day10\\Cohort_3\\mPFC\"\n",
    "experiment_path3 = r\"C:\\Users\\yezon\\Padilla-Coreano_Lab\\Albert_Cohort_3\\Reward_Training\\Day10\\Cohort_3\\NAc\"\n",
    "\n",
    "\n",
    "day = 'testing'\n",
    "# day = '1'\n",
    "# day = '4'\n",
    "# day = 'all'\n",
    "directory_path = Path(f'C:\\\\Users\\\\yezon\\\\Padilla-Coreano_Lab\\\\Albert_Cohort_3\\\\Reward_Comp\\\\plots\\\\{cohort}\\\\{day}\\\\first_last')\n",
    "directory_path1 = Path(f'C:\\\\Users\\\\yezon\\\\Padilla-Coreano_Lab\\\\Albert_Cohort_3\\\\Reward_Comp\\\\plots\\\\{cohort}\\\\{day}\\\\scatter')\n",
    "directory_path2 = Path(f'C:\\\\Users\\\\yezon\\\\Padilla-Coreano_Lab\\\\Albert_Cohort_3\\\\Reward_Comp\\\\plots\\\\{cohort}\\\\{day}\\\\win_lose\\\\EI')\n",
    "directory_path3 = Path(f'C:\\\\Users\\\\yezon\\\\Padilla-Coreano_Lab\\\\Albert_Cohort_3\\\\Reward_Comp\\\\plots\\\\{cohort}\\\\{day}\\\\win_lose')\n",
    "directory_path4 = Path(f'C:\\\\Users\\\\yezon\\\\Padilla-Coreano_Lab\\\\Albert_Cohort_3\\\\Reward_Comp\\\\plots\\\\{cohort}\\\\{day}\\\\peth_tone')\n",
    "directory_path5 = Path(f'C:\\\\Users\\\\yezon\\\\Padilla-Coreano_Lab\\\\Albert_Cohort_3\\\\Reward_Comp\\\\plots\\\\{cohort}\\\\{day}\\\\heatmaps_tone')\n",
    "directory_path6 = Path(f'C:\\\\Users\\\\yezon\\\\Padilla-Coreano_Lab\\\\Albert_Cohort_3\\\\Reward_Comp\\\\plots\\\\{cohort}\\\\{day}\\\\peth_lick')\n",
    "directory_path7 = Path(f'C:\\\\Users\\\\yezon\\\\Padilla-Coreano_Lab\\\\Albert_Cohort_3\\\\Reward_Comp\\\\plots\\\\{cohort}\\\\{day}\\\\heatmaps_lick')\n",
    "directory_path8 = Path(f'C:\\\\Users\\\\yezon\\\\Padilla-Coreano_Lab\\\\Albert_Cohort_3\\\\Reward_Comp\\\\plots\\\\{cohort}\\\\{day}\\\\first_tone')\n",
    "directory_path9 = Path(f'C:\\\\Users\\\\yezon\\\\Padilla-Coreano_Lab\\\\Albert_Cohort_3\\\\Reward_Comp\\\\plots\\\\{cohort}\\\\{day}\\\\first_tone\\\\EI')\n",
    "directory_path10 = Path(f'C:\\\\Users\\\\yezon\\\\Padilla-Coreano_Lab\\\\Albert_Cohort_3\\\\Reward_Comp\\\\plots\\\\{cohort}\\\\{day}\\\\win\\\\trace')\n",
    "directory_path11 = Path(f'C:\\\\Users\\\\yezon\\\\Padilla-Coreano_Lab\\\\Albert_Cohort_3\\\\Reward_Comp\\\\plots\\\\{cohort}\\\\{day}\\\\lose\\\\trace')                   \n",
    "\n",
    "# Create the directory (with parents=True to create nested directories)\n",
    "directory_path.mkdir(parents=True, exist_ok=True)\n",
    "directory_path1.mkdir(parents=True, exist_ok=True)\n",
    "directory_path2.mkdir(parents=True, exist_ok=True)\n",
    "directory_path3.mkdir(parents=True, exist_ok=True)\n",
    "directory_path4.mkdir(parents=True, exist_ok=True)\n",
    "directory_path5.mkdir(parents=True, exist_ok=True)\n",
    "directory_path6.mkdir(parents=True, exist_ok=True)\n",
    "directory_path7.mkdir(parents=True, exist_ok=True)\n",
    "directory_path8.mkdir(parents=True, exist_ok=True)\n",
    "directory_path9.mkdir(parents=True, exist_ok=True)\n",
    "directory_path10.mkdir(parents=True, exist_ok=True)\n",
    "directory_path11.mkdir(parents=True, exist_ok=True)"
   ]
  },
  {
   "cell_type": "code",
   "execution_count": null,
   "metadata": {},
   "outputs": [
    {
     "name": "stdout",
     "output_type": "stream",
     "text": [
      "read from t=0s to t=2055.26s\n",
      "read from t=0s to t=2061.76s\n",
      "read from t=0s to t=2052.17s\n",
      "read from t=0s to t=2387.77s\n",
      "read from t=0s to t=2055.26s\n",
      "read from t=0s to t=2055.26s\n",
      "read from t=0s to t=2061.76s\n",
      "read from t=0s to t=2061.76s\n",
      "read from t=0s to t=2052.17s\n",
      "read from t=0s to t=2052.17s\n",
      "read from t=0s to t=2387.77s\n",
      "read from t=0s to t=2387.77s\n"
     ]
    },
    {
     "data": {
      "text/plain": [
       "\"exp2 = Reward_Training(experiment_folder_path=experiment_path2, behavior_folder_path=None)\\nif cohort == 'combined':\\n    exp3 = Reward_Training(experiment_folder_path=experiment_path3, behavior_folder_path=None)\""
      ]
     },
     "execution_count": 3,
     "metadata": {},
     "output_type": "execute_result"
    }
   ],
   "source": [
    "exp = Reward_Competition(experiment_path1, behavior_folder_path=None)\n",
    "if cohort == \"combined\":\n",
    "    exp1 = Reward_Competition(experiment_path, behavior_folder_path=None)\n",
    "\n",
    "exp2 = Reward_Training(experiment_folder_path=experiment_path2, behavior_folder_path=None)\n",
    "if cohort == 'combined':\n",
    "    exp3 = Reward_Training(experiment_folder_path=experiment_path3, behavior_folder_path=None)"
   ]
  },
  {
   "cell_type": "code",
   "execution_count": 4,
   "metadata": {},
   "outputs": [
    {
     "data": {
      "text/plain": [
       "{'nn1-250203-085508': 3,\n",
       " 'nn3-250203-085508': 2,\n",
       " 'nn1-250205-090150': 3,\n",
       " 'pp1-250205-090150': 2,\n",
       " 'nn2-250204-085225': 3,\n",
       " 'nn1-250204-085225': 2,\n",
       " 'nn2-250205-113735': 3,\n",
       " 'nn4-250205-113735': 2}"
      ]
     },
     "execution_count": 4,
     "metadata": {},
     "output_type": "execute_result"
    }
   ],
   "source": [
    "exp.port_bnc"
   ]
  },
  {
   "cell_type": "code",
   "execution_count": null,
   "metadata": {},
   "outputs": [
    {
     "name": "stdout",
     "output_type": "stream",
     "text": [
      "dict_items([('nn1-250203-085508', <trial_class.Trial object at 0x00000228CFCE5AC0>), ('nn3-250203-085508', <trial_class.Trial object at 0x00000228D0B03E00>), ('nn1-250205-090150', <trial_class.Trial object at 0x00000228D0B49580>), ('pp1-250205-090150', <trial_class.Trial object at 0x000002288F3513A0>), ('nn2-250204-085225', <trial_class.Trial object at 0x00000228D0503E00>), ('nn1-250204-085225', <trial_class.Trial object at 0x00000228D0639AF0>), ('nn2-250205-113735', <trial_class.Trial object at 0x00000228D0B03EF0>), ('nn4-250205-113735', <trial_class.Trial object at 0x00000228D0B01FD0>)])\n",
      "Reward Training Processing nn1-250203-085508...\n",
      "Available behaviors in trial: dict_keys(['PC0_', 'PC2_', 'PC3_'])\n",
      "Reward Training Processing nn3-250203-085508...\n",
      "Available behaviors in trial: dict_keys(['PC0_', 'PC2_', 'PC3_'])\n",
      "Reward Training Processing nn1-250205-090150...\n",
      "Available behaviors in trial: dict_keys(['PC0_', 'PC2_', 'PC3_'])\n",
      "Reward Training Processing pp1-250205-090150...\n",
      "Available behaviors in trial: dict_keys(['PC0_', 'PC2_', 'PC3_'])\n",
      "Reward Training Processing nn2-250204-085225...\n",
      "Available behaviors in trial: dict_keys(['PC0_', 'PC2_', 'PC3_'])\n",
      "Reward Training Processing nn1-250204-085225...\n",
      "Available behaviors in trial: dict_keys(['PC0_', 'PC2_', 'PC3_'])\n",
      "Reward Training Processing nn2-250205-113735...\n",
      "Available behaviors in trial: dict_keys(['PC0_', 'PC2_', 'PC3_'])\n",
      "Reward Training Processing nn4-250205-113735...\n",
      "Available behaviors in trial: dict_keys(['PC0_', 'PC2_', 'PC3_'])\n"
     ]
    },
    {
     "data": {
      "text/plain": [
       "'if cohort == \"combined\":\\n    exp1.rc_processing1()'"
      ]
     },
     "execution_count": 5,
     "metadata": {},
     "output_type": "execute_result"
    }
   ],
   "source": [
    "exp.rc_processing2()\n",
    "if cohort == \"combined\":\n",
    "    exp1.rc_processing1()"
   ]
  },
  {
   "cell_type": "markdown",
   "metadata": {},
   "source": [
    "## Processing Reward Training Data"
   ]
  },
  {
   "cell_type": "code",
   "execution_count": null,
   "metadata": {},
   "outputs": [
    {
     "data": {
      "text/plain": [
       "'exp2.rt_processing()\\nexp2.create_df(experiment_path2)\\nif cohort == \"combined\":\\n    exp3.rt_processing()\\n    exp3.create_df(experiment_path3)\\n    exp2.combining_cohorts(exp3.df)'"
      ]
     },
     "execution_count": 6,
     "metadata": {},
     "output_type": "execute_result"
    }
   ],
   "source": [
    "exp2.rt_processing()\n",
    "exp2.create_df(experiment_path2)\n",
    "if cohort == \"combined\":\n",
    "    exp3.rt_processing()\n",
    "    exp3.create_df(experiment_path3)\n",
    "    exp2.combining_cohorts(exp3.df)"
   ]
  },
  {
   "cell_type": "code",
   "execution_count": null,
   "metadata": {},
   "outputs": [
    {
     "data": {
      "text/plain": [
       "'exp2.find_first_lick_after_sound_cue()\\nexp2.compute_closest_port_offset(lick_column=\\'first_lick_after_sound_cue\\', offset_column=\\'port entries offset\\')\\nexp2.compute_event_induced_DA()\\nexp2.compute_lick_ei_DA()\\n# exp2.compute_tone_da_metrics()\\n# exp2.compute_lick_da_metrics()\\nexp2.compute_tone_da_metrics(mode=\"EI\")\\nexp2.compute_lick_da_metrics(mode=\"EI\")'"
      ]
     },
     "execution_count": 7,
     "metadata": {},
     "output_type": "execute_result"
    }
   ],
   "source": [
    "exp2.find_first_lick_after_sound_cue()\n",
    "exp2.compute_closest_port_offset(lick_column='first_lick_after_sound_cue', offset_column='port entries offset')\n",
    "exp2.compute_event_induced_DA()\n",
    "# exp2.compute_tone_da_metrics()\n",
    "# exp2.compute_lick_da_metrics()\n",
    "exp2.compute_tone_da_metrics(mode=\"EI\")\n",
    "exp2.compute_lick_da_metrics(mode=\"EI\")"
   ]
  },
  {
   "cell_type": "code",
   "execution_count": 8,
   "metadata": {},
   "outputs": [],
   "source": [
    "# exp2.plot_single_heatmaps(alone_df, 'training', 'Lick', directory_path7, 'mPFC')\n",
    "# exp2.plot_single_heatmaps(exp2.df, 'training', 'Lick', directory_path7, 'NAc')"
   ]
  },
  {
   "cell_type": "code",
   "execution_count": null,
   "metadata": {},
   "outputs": [],
   "source": [
    "exp2.find_means()\n",
    "alone_df = exp2.find_overall_mean()"
   ]
  },
  {
   "cell_type": "markdown",
   "metadata": {},
   "source": [
    "## Merging Competition Data with CSV"
   ]
  },
  {
   "cell_type": "code",
   "execution_count": 10,
   "metadata": {},
   "outputs": [
    {
     "name": "stdout",
     "output_type": "stream",
     "text": [
      "Total rows: 48\n",
      "Rows with missing trials: 40\n"
     ]
    },
    {
     "data": {
      "text/html": [
       "<div>\n",
       "<style scoped>\n",
       "    .dataframe tbody tr th:only-of-type {\n",
       "        vertical-align: middle;\n",
       "    }\n",
       "\n",
       "    .dataframe tbody tr th {\n",
       "        vertical-align: top;\n",
       "    }\n",
       "\n",
       "    .dataframe thead th {\n",
       "        text-align: right;\n",
       "    }\n",
       "</style>\n",
       "<table border=\"1\" class=\"dataframe\">\n",
       "  <thead>\n",
       "    <tr style=\"text-align: right;\">\n",
       "      <th></th>\n",
       "      <th>file name</th>\n",
       "      <th>subject</th>\n",
       "      <th>tangles</th>\n",
       "      <th>trial</th>\n",
       "      <th>sound cues</th>\n",
       "      <th>port entries</th>\n",
       "      <th>sound cues onset</th>\n",
       "      <th>port entries onset</th>\n",
       "      <th>port entries offset</th>\n",
       "      <th>subject_name</th>\n",
       "      <th>winner_array</th>\n",
       "    </tr>\n",
       "  </thead>\n",
       "  <tbody>\n",
       "    <tr>\n",
       "      <th>0</th>\n",
       "      <td>nn1-250203-085508</td>\n",
       "      <td>nn1</td>\n",
       "      <td>NaN</td>\n",
       "      <td>&lt;trial_class.Trial object at 0x00000228CFCE5AC0&gt;</td>\n",
       "      <td>{'name': 'PC0/', 'onset': [0.0, 250.00820736, ...</td>\n",
       "      <td>{'name': 'PC3/', 'onset': [0.0, 219.1179776, 2...</td>\n",
       "      <td>[250.00820736, 330.00865792, 420.00941056, 500...</td>\n",
       "      <td>[251.00828672, 269.8985472, 276.65842176, 277....</td>\n",
       "      <td>[260.59849728, 276.2784768, 277.7382912, 328.2...</td>\n",
       "      <td>nn1</td>\n",
       "      <td>[nn2, nn1, nn1, nn1, nn1, nn1, nn2, nn2, nn1, ...</td>\n",
       "    </tr>\n",
       "    <tr>\n",
       "      <th>1</th>\n",
       "      <td>nn3-250203-085508</td>\n",
       "      <td>nn3</td>\n",
       "      <td>NaN</td>\n",
       "      <td>&lt;trial_class.Trial object at 0x00000228D0B03E00&gt;</td>\n",
       "      <td>{'name': 'PC0/', 'onset': [0.0, 250.00820736, ...</td>\n",
       "      <td>{'name': 'PC2/', 'onset': [0.0, 194.11779584, ...</td>\n",
       "      <td>[250.00820736, 330.00865792, 420.00941056, 500...</td>\n",
       "      <td>[252.50824192, 270.27832832, 271.88854784, 275...</td>\n",
       "      <td>[263.4981376, 271.13832448, 272.79835136, 286....</td>\n",
       "      <td>nn3</td>\n",
       "      <td>[nn3, nn4, nn3, nn4, nn4, nn4, nn4, nn4, nn4, ...</td>\n",
       "    </tr>\n",
       "    <tr>\n",
       "      <th>2</th>\n",
       "      <td>nn1-250205-090150</td>\n",
       "      <td>nn1</td>\n",
       "      <td>4,14,15</td>\n",
       "      <td>&lt;trial_class.Trial object at 0x00000228D0B49580&gt;</td>\n",
       "      <td>{'name': 'PC0/', 'onset': [0.0, 241.1626496, 3...</td>\n",
       "      <td>{'name': 'PC3/', 'onset': [0.0, 183.99248384, ...</td>\n",
       "      <td>[241.1626496, 321.163264, 411.16401664, 491.16...</td>\n",
       "      <td>[246.34261504, 261.84269824, 269.98325248, 275...</td>\n",
       "      <td>[260.83278848, 268.853248, 270.2327808, 292.74...</td>\n",
       "      <td>nn1</td>\n",
       "      <td>[nn4, nn4, nn4, tie, nn4, nn4, nn4, nn4, nn4, ...</td>\n",
       "    </tr>\n",
       "    <tr>\n",
       "      <th>3</th>\n",
       "      <td>pp1-250205-090150</td>\n",
       "      <td>pp1</td>\n",
       "      <td>1,7,11,18,19</td>\n",
       "      <td>&lt;trial_class.Trial object at 0x000002288F3513A0&gt;</td>\n",
       "      <td>{'name': 'PC0/', 'onset': [0.0, 241.1626496, 3...</td>\n",
       "      <td>{'name': 'PC2/', 'onset': [0.0, 183.80242944, ...</td>\n",
       "      <td>[241.1626496, 321.163264, 411.16401664, 491.16...</td>\n",
       "      <td>[270.70283776, 273.34295552, 277.62327552, 279...</td>\n",
       "      <td>[272.7927808, 275.4428928, 278.30304768, 289.8...</td>\n",
       "      <td>pp1</td>\n",
       "      <td>[pp4, pp4, pp1, pp4, pp4, pp4, pp1, pp4, pp1, ...</td>\n",
       "    </tr>\n",
       "    <tr>\n",
       "      <th>4</th>\n",
       "      <td>nn2-250204-085225</td>\n",
       "      <td>nn2</td>\n",
       "      <td>1, 2, 5, 10, 18</td>\n",
       "      <td>&lt;trial_class.Trial object at 0x00000228D0503E00&gt;</td>\n",
       "      <td>{'name': 'PC0/', 'onset': [0.0, 242.6912768, 3...</td>\n",
       "      <td>{'name': 'PC3/', 'onset': [0.0, 195.00122112, ...</td>\n",
       "      <td>[242.6912768, 322.69172736, 412.69231616, 492....</td>\n",
       "      <td>[263.02185472, 273.8814976, 295.10172672, 300....</td>\n",
       "      <td>[273.06180608, 293.37157632, 297.85194496, 300...</td>\n",
       "      <td>nn2</td>\n",
       "      <td>[nn2, nn2, nn4, nn4, nn2, nn4, nn4, nn4, nn4, ...</td>\n",
       "    </tr>\n",
       "    <tr>\n",
       "      <th>5</th>\n",
       "      <td>nn1-250204-085225</td>\n",
       "      <td>nn1</td>\n",
       "      <td>2, 3, 8, 9, 10, 11, 12, 13, 14, 15, 16, 17, 18...</td>\n",
       "      <td>&lt;trial_class.Trial object at 0x00000228D0639AF0&gt;</td>\n",
       "      <td>{'name': 'PC0/', 'onset': [0.0, 242.6912768, 3...</td>\n",
       "      <td>{'name': 'PC2/', 'onset': [0.0, 242.71126528, ...</td>\n",
       "      <td>[242.6912768, 322.69172736, 412.69231616, 492....</td>\n",
       "      <td>[242.71126528, 272.5117952, 279.04147456, 295....</td>\n",
       "      <td>[250.02164224, 277.1615744, 283.51168512, 297....</td>\n",
       "      <td>nn1</td>\n",
       "      <td>[nn3, none, none, nn3, nn3, nn3, nn3, none, no...</td>\n",
       "    </tr>\n",
       "    <tr>\n",
       "      <th>6</th>\n",
       "      <td>nn2-250205-113735</td>\n",
       "      <td>nn2</td>\n",
       "      <td>4, 13, 14, 15,16,17,18,19</td>\n",
       "      <td>&lt;trial_class.Trial object at 0x00000228D0B03EF0&gt;</td>\n",
       "      <td>{'name': 'PC0/', 'onset': [0.0, 241.35155712, ...</td>\n",
       "      <td>{'name': 'PC3/', 'onset': [0.0, 191.81125632, ...</td>\n",
       "      <td>[241.35155712, 321.35217152, 411.35243264, 491...</td>\n",
       "      <td>[246.2416896, 255.86139136, 261.75176704, 293....</td>\n",
       "      <td>[254.91144704, 258.44137984, 293.09157376, 308...</td>\n",
       "      <td>nn2</td>\n",
       "      <td>[nn2, nn2, nn2, nn2, nn2, nn2, nn2, nn2, nn2, ...</td>\n",
       "    </tr>\n",
       "    <tr>\n",
       "      <th>7</th>\n",
       "      <td>nn4-250205-113735</td>\n",
       "      <td>nn4</td>\n",
       "      <td>4</td>\n",
       "      <td>&lt;trial_class.Trial object at 0x00000228D0B01FD0&gt;</td>\n",
       "      <td>{'name': 'PC0/', 'onset': [0.0, 241.35155712, ...</td>\n",
       "      <td>{'name': 'PC2/', 'onset': [0.0, 215.92113152, ...</td>\n",
       "      <td>[241.35155712, 321.35217152, 411.35243264, 491...</td>\n",
       "      <td>[242.16141824, 244.62147584, 274.61173248, 281...</td>\n",
       "      <td>[242.94162432, 273.17157888, 280.09152512, 290...</td>\n",
       "      <td>nn4</td>\n",
       "      <td>[nn4, nn4, nn4, nn3, nn4, nn3, nn3, nn4, nn3, ...</td>\n",
       "    </tr>\n",
       "  </tbody>\n",
       "</table>\n",
       "</div>"
      ],
      "text/plain": [
       "           file name subject  \\\n",
       "0  nn1-250203-085508     nn1   \n",
       "1  nn3-250203-085508     nn3   \n",
       "2  nn1-250205-090150     nn1   \n",
       "3  pp1-250205-090150     pp1   \n",
       "4  nn2-250204-085225     nn2   \n",
       "5  nn1-250204-085225     nn1   \n",
       "6  nn2-250205-113735     nn2   \n",
       "7  nn4-250205-113735     nn4   \n",
       "\n",
       "                                             tangles  \\\n",
       "0                                                NaN   \n",
       "1                                                NaN   \n",
       "2                                            4,14,15   \n",
       "3                                       1,7,11,18,19   \n",
       "4                                    1, 2, 5, 10, 18   \n",
       "5  2, 3, 8, 9, 10, 11, 12, 13, 14, 15, 16, 17, 18...   \n",
       "6                          4, 13, 14, 15,16,17,18,19   \n",
       "7                                                  4   \n",
       "\n",
       "                                              trial  \\\n",
       "0  <trial_class.Trial object at 0x00000228CFCE5AC0>   \n",
       "1  <trial_class.Trial object at 0x00000228D0B03E00>   \n",
       "2  <trial_class.Trial object at 0x00000228D0B49580>   \n",
       "3  <trial_class.Trial object at 0x000002288F3513A0>   \n",
       "4  <trial_class.Trial object at 0x00000228D0503E00>   \n",
       "5  <trial_class.Trial object at 0x00000228D0639AF0>   \n",
       "6  <trial_class.Trial object at 0x00000228D0B03EF0>   \n",
       "7  <trial_class.Trial object at 0x00000228D0B01FD0>   \n",
       "\n",
       "                                          sound cues  \\\n",
       "0  {'name': 'PC0/', 'onset': [0.0, 250.00820736, ...   \n",
       "1  {'name': 'PC0/', 'onset': [0.0, 250.00820736, ...   \n",
       "2  {'name': 'PC0/', 'onset': [0.0, 241.1626496, 3...   \n",
       "3  {'name': 'PC0/', 'onset': [0.0, 241.1626496, 3...   \n",
       "4  {'name': 'PC0/', 'onset': [0.0, 242.6912768, 3...   \n",
       "5  {'name': 'PC0/', 'onset': [0.0, 242.6912768, 3...   \n",
       "6  {'name': 'PC0/', 'onset': [0.0, 241.35155712, ...   \n",
       "7  {'name': 'PC0/', 'onset': [0.0, 241.35155712, ...   \n",
       "\n",
       "                                        port entries  \\\n",
       "0  {'name': 'PC3/', 'onset': [0.0, 219.1179776, 2...   \n",
       "1  {'name': 'PC2/', 'onset': [0.0, 194.11779584, ...   \n",
       "2  {'name': 'PC3/', 'onset': [0.0, 183.99248384, ...   \n",
       "3  {'name': 'PC2/', 'onset': [0.0, 183.80242944, ...   \n",
       "4  {'name': 'PC3/', 'onset': [0.0, 195.00122112, ...   \n",
       "5  {'name': 'PC2/', 'onset': [0.0, 242.71126528, ...   \n",
       "6  {'name': 'PC3/', 'onset': [0.0, 191.81125632, ...   \n",
       "7  {'name': 'PC2/', 'onset': [0.0, 215.92113152, ...   \n",
       "\n",
       "                                    sound cues onset  \\\n",
       "0  [250.00820736, 330.00865792, 420.00941056, 500...   \n",
       "1  [250.00820736, 330.00865792, 420.00941056, 500...   \n",
       "2  [241.1626496, 321.163264, 411.16401664, 491.16...   \n",
       "3  [241.1626496, 321.163264, 411.16401664, 491.16...   \n",
       "4  [242.6912768, 322.69172736, 412.69231616, 492....   \n",
       "5  [242.6912768, 322.69172736, 412.69231616, 492....   \n",
       "6  [241.35155712, 321.35217152, 411.35243264, 491...   \n",
       "7  [241.35155712, 321.35217152, 411.35243264, 491...   \n",
       "\n",
       "                                  port entries onset  \\\n",
       "0  [251.00828672, 269.8985472, 276.65842176, 277....   \n",
       "1  [252.50824192, 270.27832832, 271.88854784, 275...   \n",
       "2  [246.34261504, 261.84269824, 269.98325248, 275...   \n",
       "3  [270.70283776, 273.34295552, 277.62327552, 279...   \n",
       "4  [263.02185472, 273.8814976, 295.10172672, 300....   \n",
       "5  [242.71126528, 272.5117952, 279.04147456, 295....   \n",
       "6  [246.2416896, 255.86139136, 261.75176704, 293....   \n",
       "7  [242.16141824, 244.62147584, 274.61173248, 281...   \n",
       "\n",
       "                                 port entries offset subject_name  \\\n",
       "0  [260.59849728, 276.2784768, 277.7382912, 328.2...          nn1   \n",
       "1  [263.4981376, 271.13832448, 272.79835136, 286....          nn3   \n",
       "2  [260.83278848, 268.853248, 270.2327808, 292.74...          nn1   \n",
       "3  [272.7927808, 275.4428928, 278.30304768, 289.8...          pp1   \n",
       "4  [273.06180608, 293.37157632, 297.85194496, 300...          nn2   \n",
       "5  [250.02164224, 277.1615744, 283.51168512, 297....          nn1   \n",
       "6  [254.91144704, 258.44137984, 293.09157376, 308...          nn2   \n",
       "7  [242.94162432, 273.17157888, 280.09152512, 290...          nn4   \n",
       "\n",
       "                                        winner_array  \n",
       "0  [nn2, nn1, nn1, nn1, nn1, nn1, nn2, nn2, nn1, ...  \n",
       "1  [nn3, nn4, nn3, nn4, nn4, nn4, nn4, nn4, nn4, ...  \n",
       "2  [nn4, nn4, nn4, tie, nn4, nn4, nn4, nn4, nn4, ...  \n",
       "3  [pp4, pp4, pp1, pp4, pp4, pp4, pp1, pp4, pp1, ...  \n",
       "4  [nn2, nn2, nn4, nn4, nn2, nn4, nn4, nn4, nn4, ...  \n",
       "5  [nn3, none, none, nn3, nn3, nn3, nn3, none, no...  \n",
       "6  [nn2, nn2, nn2, nn2, nn2, nn2, nn2, nn2, nn2, ...  \n",
       "7  [nn4, nn4, nn4, nn3, nn4, nn3, nn3, nn4, nn3, ...  "
      ]
     },
     "execution_count": 10,
     "metadata": {},
     "output_type": "execute_result"
    }
   ],
   "source": [
    "\"\"\"if cohort == \"combined\":\n",
    "    exp1.read_manual_scoring1(csv_path)\n",
    "    exp1.merge_data1()\"\"\"\n",
    "exp.read_manual_scoring2(csv_path1)\n",
    "exp.merge_data2()\n",
    "exp.df"
   ]
  },
  {
   "cell_type": "code",
   "execution_count": 11,
   "metadata": {},
   "outputs": [
    {
     "ename": "NameError",
     "evalue": "name 'exp1' is not defined",
     "output_type": "error",
     "traceback": [
      "\u001b[1;31m---------------------------------------------------------------------------\u001b[0m",
      "\u001b[1;31mNameError\u001b[0m                                 Traceback (most recent call last)",
      "Cell \u001b[1;32mIn[11], line 5\u001b[0m\n\u001b[0;32m      3\u001b[0m exp\u001b[38;5;241m.\u001b[39mremove_tangles()\n\u001b[0;32m      4\u001b[0m \u001b[38;5;28;01mif\u001b[39;00m cohort \u001b[38;5;241m==\u001b[39m \u001b[38;5;124m\"\u001b[39m\u001b[38;5;124mcombined\u001b[39m\u001b[38;5;124m\"\u001b[39m:\n\u001b[1;32m----> 5\u001b[0m     \u001b[43mexp1\u001b[49m\u001b[38;5;241m.\u001b[39mkeep_first_tone()\n\u001b[0;32m      6\u001b[0m     exp1\u001b[38;5;241m.\u001b[39mremove_tangles()\n\u001b[0;32m      7\u001b[0m     exp\u001b[38;5;241m.\u001b[39mcombining_cohorts(exp1\u001b[38;5;241m.\u001b[39mdf)\n",
      "\u001b[1;31mNameError\u001b[0m: name 'exp1' is not defined"
     ]
    }
   ],
   "source": [
    "exp.keep_first_tone()\n",
    "\"\"\"exp.keep_last_tone()\"\"\"\n",
    "exp.remove_tangles()\n",
    "if cohort == \"combined\":\n",
    "    exp1.keep_first_tone()\n",
    "    exp1.remove_tangles()\n",
    "    exp.combining_cohorts(exp1.df)\n",
    "df_winning = exp.winning()\n",
    "df_losing = exp.losing()\n",
    "# dataframes for first tone\n",
    "\"\"\"df_first_win = exp.first_winning()\n",
    "df_first_lose = exp.first_losing()\"\"\"\n",
    "\"\"\"df_last_win = exp.last_winning()\n",
    "df_last_lose = exp.last_losing()\"\"\""
   ]
  },
  {
   "cell_type": "code",
   "execution_count": null,
   "metadata": {},
   "outputs": [],
   "source": [
    "print(df_winning.columns)\n",
    "# compute first lick after tone\n",
    "exp.find_first_lick_after_sound_cue(df_losing)\n",
    "exp.find_first_lick_after_sound_cue(df_winning)\n",
    "\"\"\"exp.find_first_lick_after_sound_cue(df_first_lose)\n",
    "exp.find_first_lick_after_sound_cue(df_first_win)\"\"\"\n",
    "\"\"\"exp.find_first_lick_after_sound_cue(df_last_lose)\n",
    "exp.find_first_lick_after_sound_cue(df_last_win)\"\"\"\n",
    "# compute offset to first lick after sound cue\n",
    "exp.compute_closest_port_offset(lick_column='first_lick_after_sound_cue', offset_column='filtered_port_entry_offset', df=df_winning)\n",
    "exp.compute_closest_port_offset(lick_column='first_lick_after_sound_cue', offset_column='filtered_port_entry_offset', df=df_losing)\n",
    "\"\"\"exp.compute_closest_port_offset(lick_column='first_lick_after_sound_cue', offset_column='filtered_port_entry_offset', df=df_first_win)\n",
    "exp.compute_closest_port_offset(lick_column='first_lick_after_sound_cue', offset_column='filtered_port_entry_offset', df=df_first_lose)\"\"\"\n",
    "\"\"\"exp.compute_closest_port_offset(lick_column='first_lick_after_sound_cue', offset_column='filtered_port_entry_offset', df=df_last_lose)\n",
    "exp.compute_closest_port_offset(lick_column='first_lick_after_sound_cue', offset_column='filtered_port_entry_offset', df=df_last_win)\"\"\"\n"
   ]
  },
  {
   "cell_type": "code",
   "execution_count": null,
   "metadata": {},
   "outputs": [],
   "source": [
    "if cohort == \"cohort_1_2\":    \n",
    "    rank_path = r\"C:\\Users\\yezon\\Padilla-Coreano_Lab\\Albert_Cohort_3\\Reward_Comp\\Cohort_1_2\\P2C1_Reward_Comp_Manual_Scoring.xlsx\"\n",
    "elif cohort == \"cohort_3\":\n",
    "    rank_path = r\"C:\\Users\\yezon\\Padilla-Coreano_Lab\\Albert_Cohort_3\\Reward_Comp\\Cohort_3\\P2C3_Reward_Comp_Manual_Scoring.xlsx\"\n",
    "else:\n",
    "    rank_path = r\"C:\\Users\\yezon\\Padilla-Coreano_Lab\\Albert_Cohort_3\\Reward_Comp\\manual_scoring_combined.xlsx\"\n",
    "\n",
    "ranks = exp.find_ranks_using_ds(rank_path)\n",
    "df_winning = exp.merging_ranks(ranks, df=df_winning)\n",
    "df_losing = exp.merging_ranks(ranks, df=df_losing)\n",
    "\"\"\"df_first_win = exp.merging_ranks(ranks, df=df_first_win)\n",
    "df_first_lose = exp.merging_ranks(ranks, df=df_first_lose)\"\"\""
   ]
  },
  {
   "cell_type": "markdown",
   "metadata": {},
   "source": [
    "## Computing all DA metrics"
   ]
  },
  {
   "cell_type": "code",
   "execution_count": null,
   "metadata": {},
   "outputs": [],
   "source": [
    "exp.compute_event_induced_DA(df_winning)\n",
    "exp.compute_event_induced_DA(df_losing)\n",
    "\n",
    "# computing standard DA\n",
    "exp.compute_tone_da(df_winning)\n",
    "exp.compute_lick_da(df_winning)\n",
    "exp.compute_tone_da(df_losing)\n",
    "exp.compute_lick_da(df_losing)\n",
    "\n",
    "# Computing Event Induced DA\n",
    "exp.compute_tone_da(df_winning, mode='EI')\n",
    "exp.compute_tone_da(df_losing, mode='EI')\n",
    "exp.compute_lick_da(df_winning, mode='EI')\n",
    "exp.compute_lick_da(df_losing, mode='EI')\n",
    "\n",
    "# Creating column for first and last bouts for winning and losing.\n",
    "exp.first_last(df_winning)\n",
    "exp.first_last(df_losing)\n",
    "# df for all no matter if winning or losing.\n",
    "\"\"\"exp.compute_event_induced_DA()\n",
    "exp.compute_tone_da()\n",
    "exp.compute_lick_da()\n",
    "exp.compute_tone_da(mode='EI')\n",
    "exp.compute_lick_da(mode='EI')\n",
    "exp.first_last()\"\"\""
   ]
  },
  {
   "cell_type": "code",
   "execution_count": null,
   "metadata": {},
   "outputs": [],
   "source": [
    "\"\"\"# Compute First Tone's\n",
    "exp.compute_event_induced_DA(df_first_win, cue_type='first_tone')\n",
    "exp.compute_event_induced_DA(df_first_lose, cue_type='first_tone')\n",
    "exp.compute_lick_ei_DA(df_first_win)\n",
    "exp.compute_lick_ei_DA(df_first_lose)\n",
    "print(df_first_win)\n",
    "# computing standard DA\n",
    "exp.compute_lick_da(df_first_win)\n",
    "exp.compute_lick_da(df_first_lose)\n",
    "exp.compute_tone_da(df_first_win)\n",
    "exp.compute_tone_da(df_first_lose)\n",
    "# Computing Event Induced DA\n",
    "exp.compute_lick_da(df_first_win, mode='EI')\n",
    "exp.compute_lick_da(df_first_lose, mode='EI')\n",
    "print(df_first_win)\n",
    "exp.compute_tone_da(df_first_win, mode='EI')\n",
    "exp.compute_tone_da(df_first_lose, mode='EI')\"\"\"\n",
    "\n",
    "\"\"\"exp.compute_event_induced_DA(df_last_win, cue_type='last_tone')\n",
    "exp.compute_event_induced_DA(df_last_lose, cue_type='last_tone')\n",
    "exp.compute_lick_ei_DA(df_last_win)\n",
    "exp.compute_lick_ei_DA(df_last_lose)\n",
    "# computing standard DA\n",
    "exp.compute_lick_da(df_last_win)\n",
    "exp.compute_lick_da(df_last_lose)\n",
    "exp.compute_tone_da(df_last_win)\n",
    "exp.compute_tone_da(df_last_lose)\n",
    "# Computing Event Induced DA\n",
    "exp.compute_lick_da(df_last_win, mode='EI')\n",
    "exp.compute_lick_da(df_last_lose, mode='EI')\n",
    "exp.compute_tone_da(df_last_win, mode='EI')\n",
    "exp.compute_tone_da(df_last_lose, mode='EI')\"\"\""
   ]
  },
  {
   "cell_type": "markdown",
   "metadata": {},
   "source": [
    "## PSTH Graphs"
   ]
  },
  {
   "cell_type": "code",
   "execution_count": null,
   "metadata": {},
   "outputs": [],
   "source": [
    "\"\"\"exp.apply_rc_plot_peth(df_winning, directory_path=directory_path10)\n",
    "exp.apply_rc_plot_peth(df_losing, directory_path=directory_path11)\"\"\""
   ]
  },
  {
   "cell_type": "code",
   "execution_count": null,
   "metadata": {},
   "outputs": [],
   "source": [
    "# exp.apply_rc_plot_peth(exp.df, directory_path4, title = 'PETH graph for n trials', signal_type = 'zscore')\n",
    "exp.plot_specific_peth(df_winning, condition='win', event_type='Tone', directory_path=directory_path4, brain_region='mPFC', y_min=1.5, y_max=-1.3)\n",
    "exp.plot_specific_peth(df_winning, condition='win', event_type='Tone', directory_path=directory_path4, brain_region='NAc', y_min=6, y_max=-1.5)\n",
    "exp.plot_specific_peth(df_losing, condition='lose', event_type='Tone', directory_path=directory_path4, brain_region='mPFC', y_min=1.5, y_max=-1.3)\n",
    "exp.plot_specific_peth(df_losing, condition='lose', event_type='Tone', directory_path=directory_path4, brain_region='NAc', y_min=6, y_max=-1.5)\n",
    "exp.plot_specific_peth(df_winning, condition='win', event_type='Lick', directory_path=directory_path6, brain_region='mPFC', y_min=1.5, y_max=-1.3)\n",
    "exp.plot_specific_peth(df_losing, condition='lose', event_type='Lick', directory_path=directory_path6, brain_region='mPFC', y_min=1.5, y_max=-1.3)\n",
    "exp.plot_specific_peth(df_winning, condition='win', event_type='Lick', directory_path=directory_path6, brain_region='NAc', y_min=6, y_max=-1.5)\n",
    "exp.plot_specific_peth(df_losing, condition='lose', event_type='Lick', directory_path=directory_path6, brain_region='NAc', y_min=6, y_max=-1.5)"
   ]
  },
  {
   "cell_type": "markdown",
   "metadata": {},
   "source": [
    "## PSTH graphs of win trials"
   ]
  },
  {
   "cell_type": "code",
   "execution_count": null,
   "metadata": {},
   "outputs": [],
   "source": [
    "exp.plot_mean_psth(df_winning, condition='Winning', event_type='Tone', directory_path=directory_path4, brain_region='mPFC', y_min=0.8, y_max=-0.4)\n",
    "exp.plot_mean_psth(df_winning, condition='Winning', event_type='Tone', directory_path=directory_path4, brain_region='NAc', y_min=3, y_max=-0.5)\n",
    "exp.plot_mean_psth(df_losing, condition='Losing', event_type='Tone', directory_path=directory_path4, brain_region='mPFC', y_min=0.8, y_max=-0.4)\n",
    "exp.plot_mean_psth(df_losing, condition='Losing', event_type='Tone', directory_path=directory_path4, brain_region='NAc', y_min=3, y_max=-0.5)"
   ]
  },
  {
   "cell_type": "markdown",
   "metadata": {},
   "source": [
    "## PSTH of Losing Trials"
   ]
  },
  {
   "cell_type": "code",
   "execution_count": null,
   "metadata": {},
   "outputs": [],
   "source": [
    "\"\"\"exp.plot_single_psth(df_losing, condition='losing', event_type='Tone', directory_path=directory_path4, brain_region='mPFC', y_min=1, y_max=-0.5, plot_win=True)\n",
    "exp.plot_single_psth(df_losing, condition='losing', event_type='Tone', directory_path=directory_path4, brain_region='NAc', y_min=3.5, y_max=-0.5, plot_win=True)\"\"\""
   ]
  },
  {
   "cell_type": "markdown",
   "metadata": {},
   "source": [
    "## Heat Maps Tones"
   ]
  },
  {
   "cell_type": "code",
   "execution_count": null,
   "metadata": {},
   "outputs": [],
   "source": [
    "exp.plot_single_trial_heatmaps(df_winning, 'win', 'Tone', directory_path5, 'mPFC')\n",
    "exp.plot_single_trial_heatmaps(df_losing, 'lose', 'Tone', directory_path5, 'mPFC')\n",
    "exp.plot_single_trial_heatmaps(df_winning, 'win', 'Tone', directory_path5, 'NAc')\n",
    "exp.plot_single_trial_heatmaps(df_losing, 'lose', 'Tone', directory_path5, 'NAc')"
   ]
  },
  {
   "cell_type": "markdown",
   "metadata": {},
   "source": [
    "## Heat Maps Licks"
   ]
  },
  {
   "cell_type": "code",
   "execution_count": null,
   "metadata": {},
   "outputs": [],
   "source": [
    "exp.plot_single_trial_heatmaps(df_winning, 'win', 'Lick', directory_path7, 'mPFC')\n",
    "exp.plot_single_trial_heatmaps(df_losing, 'lose', 'Lick', directory_path7, 'mPFC')\n",
    "exp.plot_single_trial_heatmaps(df_winning, 'win', 'Lick', directory_path7, 'NAc')\n",
    "exp.plot_single_trial_heatmaps(df_losing, 'lose', 'Lick', directory_path7, 'NAc')"
   ]
  },
  {
   "cell_type": "markdown",
   "metadata": {},
   "source": [
    "## First Tone PSTHs"
   ]
  },
  {
   "cell_type": "code",
   "execution_count": null,
   "metadata": {},
   "outputs": [],
   "source": [
    "\"\"\"exp.plot_single_psth(df_first_win, condition='win', event_type='Tone', directory_path=directory_path8, brain_region='mPFC', y_min=2.5, y_max=-2.5)\n",
    "exp.plot_single_psth(df_first_lose, condition='lose', event_type='Tone', directory_path=directory_path8, brain_region='mPFC', y_min=2.5, y_max=-2.5)\n",
    "exp.plot_single_psth(df_first_win, condition='win', event_type='Tone', directory_path=directory_path8, brain_region='NAc', y_min=6, y_max=-2)\n",
    "exp.plot_single_psth(df_first_lose, condition='lose', event_type='Tone', directory_path=directory_path8, brain_region='NAc', y_min=6, y_max=-2)\n",
    "exp.plot_single_psth(df_first_win, condition='win', event_type='Lick', directory_path=directory_path6, brain_region='mPFC', y_min=2.5, y_max=-2.5)\n",
    "exp.plot_single_psth(df_first_lose, condition='lose', event_type='Lick', directory_path=directory_path6, brain_region='mPFC', y_min=2.5, y_max=-2.5)\n",
    "exp.plot_single_psth(df_first_win, condition='win', event_type='Lick', directory_path=directory_path6, brain_region='NAc', y_min=6, y_max=-2)\n",
    "exp.plot_single_psth(df_first_lose, condition='lose', event_type='Lick', directory_path=directory_path6, brain_region='NAc', y_min=6, y_max=-2)\"\"\""
   ]
  },
  {
   "cell_type": "markdown",
   "metadata": {},
   "source": [
    "## First Tone Heat Maps"
   ]
  },
  {
   "cell_type": "code",
   "execution_count": null,
   "metadata": {},
   "outputs": [],
   "source": [
    "\"\"\"exp.plot_first_tone_heatmaps(df_first_win, 'win', 'Tone', directory_path8, 'mPFC')\n",
    "exp.plot_first_tone_heatmaps(df_first_lose, 'lose', 'Tone', directory_path8, 'mPFC')\n",
    "exp.plot_first_tone_heatmaps(df_first_win, 'win', 'Tone', directory_path8, 'NAc')\n",
    "exp.plot_first_tone_heatmaps(df_first_lose, 'lose', 'Tone', directory_path8, 'NAc')\"\"\"\n",
    "\"\"\"exp.plot_single_trial_heatmaps(df_first_win, 'win', 'Lick', directory_path7, 'mPFC')\n",
    "exp.plot_single_trial_heatmaps(df_first_lose, 'lose', 'Lick', directory_path7, 'mPFC')\n",
    "exp.plot_single_trial_heatmaps(df_first_win, 'win', 'Lick', directory_path7, 'NAc')\n",
    "exp.plot_single_trial_heatmaps(df_first_lose, 'lose', 'Lick', directory_path7, 'NAc')\"\"\""
   ]
  },
  {
   "cell_type": "markdown",
   "metadata": {},
   "source": [
    "## Finding Means"
   ]
  },
  {
   "cell_type": "code",
   "execution_count": null,
   "metadata": {},
   "outputs": [],
   "source": [
    "exp.drop_unnecessary(df_winning)\n",
    "exp.drop_unnecessary(df_losing)\n",
    "exp.find_means(df_winning)\n",
    "exp.find_means(df_losing)\n",
    "df_win1 = exp.find_overall_mean(df_winning)\n",
    "df_lose1 = exp.find_overall_mean(df_losing)\n",
    "\n",
    "# finding means for first tone\n",
    "\"\"\"exp.find_means(df_first_win)\n",
    "exp.find_means(df_first_lose)\"\"\"\n",
    "\n",
    "\"\"\"exp.find_means(df_last_lose)\n",
    "exp.find_means(df_last_win)\n",
    "\n",
    "df_last_win1 = exp.finding_first_tone_means(df_last_lose)\n",
    "df_last_lose1 = exp.finding_first_tone_means(df_last_win)\"\"\""
   ]
  },
  {
   "cell_type": "markdown",
   "metadata": {},
   "source": [
    "## Plotting 'AUC' difference between alone and competition win DA Responses"
   ]
  },
  {
   "cell_type": "code",
   "execution_count": null,
   "metadata": {},
   "outputs": [],
   "source": [
    "print(alone_df)\n",
    "exp.reward_comp_vs_alone(alone_df, df_win1, 'AUC', 'Tone', directory_path3)\n",
    "exp.reward_comp_vs_alone(alone_df, df_win1, 'AUC', 'Lick', directory_path3)"
   ]
  },
  {
   "cell_type": "markdown",
   "metadata": {},
   "source": [
    "## Heat maps of winning and losing for all subjects"
   ]
  },
  {
   "cell_type": "code",
   "execution_count": null,
   "metadata": {},
   "outputs": [],
   "source": [
    "exp.plot_mean_per_row_heatmaps(df_win1, 'win', 'Tone', directory_path8, 'mPFC')\n",
    "exp.plot_mean_per_row_heatmaps(df_lose1, 'lose', 'Tone', directory_path8, 'mPFC')\n",
    "exp.plot_mean_per_row_heatmaps(df_win1, 'win', 'Tone', directory_path8, 'NAc')\n",
    "exp.plot_mean_per_row_heatmaps(df_lose1, 'lose', 'Tone', directory_path8, 'NAc')"
   ]
  },
  {
   "cell_type": "code",
   "execution_count": null,
   "metadata": {},
   "outputs": [],
   "source": [
    "exp.plot_conditional(df_win1, df_lose1, method='', metric_name='AUC Mean', directory_path=directory_path3)\n",
    "exp.plot_conditional(df_win1, df_lose1, method=' EI', metric_name='AUC Mean', directory_path=directory_path2)\n",
    "\"\"\"exp.plot_conditional(df_win1, df_lose1, method='', metric_name='Max Peak Mean', directory_path=directory_path3)\n",
    "exp.plot_conditional(df_win1, df_lose1, method='', metric_name='Mean Z-score Mean', directory_path=directory_path3)\n",
    "exp.plot_conditional(df_win1, df_lose1, method=' EI', metric_name='Max Peak Mean', directory_path=directory_path2)\n",
    "exp.plot_conditional(df_win1, df_lose1, method=' EI', metric_name='Mean Z-score Mean', directory_path=directory_path2)\"\"\""
   ]
  },
  {
   "cell_type": "markdown",
   "metadata": {},
   "source": [
    "## Plots first and last win/lass bouts for Global DA"
   ]
  },
  {
   "cell_type": "code",
   "execution_count": null,
   "metadata": {},
   "outputs": [],
   "source": [
    "\"\"\"df_win = df_win1\n",
    "df_lose = df_lose1\n",
    "exp.plot_da_first_last(df_win, metric_name='AUC', method='', directory_path=directory_path, condition=\"Winning\", brain_region=\"mPFC\")\n",
    "exp.plot_da_first_last(df_lose, metric_name='AUC', method='', directory_path=directory_path, condition=\"Losing\", brain_region=\"mPFC\")\n",
    "exp.plot_da_first_last(df_win, metric_name='AUC', method='', directory_path=directory_path, condition=\"Winning\", brain_region=\"NAc\")\n",
    "exp.plot_da_first_last(df_lose, metric_name='AUC', method='', directory_path=directory_path, condition=\"Losing\", brain_region=\"NAc\")\"\"\""
   ]
  },
  {
   "cell_type": "code",
   "execution_count": null,
   "metadata": {},
   "outputs": [],
   "source": [
    "\"\"\"exp.plot_da_first_last(df_win, metric_name='Max Peak', method='', directory_path=directory_path, condition=\"Winning\", brain_region=\"mPFC\")\n",
    "exp.plot_da_first_last(df_lose, metric_name='Max Peak', method='', directory_path=directory_path, condition=\"Losing\", brain_region=\"mPFC\")\n",
    "exp.plot_da_first_last(df_win, metric_name='Max Peak', method='', directory_path=directory_path, condition=\"Winning\", brain_region=\"NAc\")\n",
    "exp.plot_da_first_last(df_lose, metric_name='Max Peak', method='', directory_path=directory_path, condition=\"Losing\", brain_region=\"NAc\")\"\"\""
   ]
  },
  {
   "cell_type": "code",
   "execution_count": null,
   "metadata": {},
   "outputs": [],
   "source": [
    "\"\"\"exp.plot_da_first_last(df_win, metric_name='Mean Z-score', method='', directory_path=directory_path, condition=\"Winning\", brain_region=\"mPFC\")\n",
    "exp.plot_da_first_last(df_lose, metric_name='Mean Z-score', method='', directory_path=directory_path, condition=\"Losing\", brain_region=\"mPFC\")\n",
    "exp.plot_da_first_last(df_win, metric_name='Mean Z-score', method='', directory_path=directory_path, condition=\"Winning\", brain_region=\"NAc\")\n",
    "exp.plot_da_first_last(df_lose, metric_name='Mean Z-score', method='', directory_path=directory_path, condition=\"Losing\", brain_region=\"NAc\")\"\"\""
   ]
  },
  {
   "cell_type": "markdown",
   "metadata": {},
   "source": [
    "## Plot first and last win/loss bouts for Event Induced DA"
   ]
  },
  {
   "cell_type": "code",
   "execution_count": null,
   "metadata": {},
   "outputs": [],
   "source": [
    "\"\"\"exp.plot_da_first_last(df_win, metric_name='AUC', method=' EI', directory_path=directory_path2, condition=\"Winning\", brain_region=\"mPFC\")\n",
    "exp.plot_da_first_last(df_lose, metric_name='AUC', method=' EI', directory_path=directory_path2, condition=\"Losing\", brain_region=\"mPFC\")\n",
    "exp.plot_da_first_last(df_win, metric_name='AUC', method=' EI', directory_path=directory_path2, condition=\"Winning\", brain_region=\"NAc\")\n",
    "exp.plot_da_first_last(df_lose, metric_name='AUC', method=' EI', directory_path=directory_path2, condition=\"Losing\", brain_region=\"NAc\")\"\"\""
   ]
  },
  {
   "cell_type": "code",
   "execution_count": null,
   "metadata": {},
   "outputs": [],
   "source": [
    "\"\"\"exp.plot_da_first_last(df_win, metric_name='Max Peak', method=' EI', directory_path=directory_path2, condition=\"Winning\", brain_region=\"mPFC\")\n",
    "exp.plot_da_first_last(df_lose, metric_name='Max Peak', method=' EI', directory_path=directory_path2, condition=\"Losing\", brain_region=\"mPFC\")\n",
    "exp.plot_da_first_last(df_win, metric_name='Max Peak', method=' EI', directory_path=directory_path2, condition=\"Winning\", brain_region=\"NAc\")\n",
    "exp.plot_da_first_last(df_lose, metric_name='Max Peak', method=' EI', directory_path=directory_path2, condition=\"Losing\", brain_region=\"NAc\")\"\"\""
   ]
  },
  {
   "cell_type": "code",
   "execution_count": null,
   "metadata": {},
   "outputs": [],
   "source": [
    "\"\"\"exp.plot_da_first_last(df_win, metric_name='Mean Z-score', method=' EI', directory_path=directory_path2, condition=\"Winning\", brain_region=\"mPFC\")\n",
    "exp.plot_da_first_last(df_lose, metric_name='Mean Z-score', method=' EI', directory_path=directory_path2, condition=\"Losing\", brain_region=\"mPFC\")\n",
    "exp.plot_da_first_last(df_win, metric_name='Mean Z-score', method=' EI', directory_path=directory_path2, condition=\"Winning\", brain_region=\"NAc\")\n",
    "exp.plot_da_first_last(df_lose, metric_name='Mean Z-score', method=' EI', directory_path=directory_path2, condition=\"Losing\", brain_region=\"NAc\")\"\"\""
   ]
  },
  {
   "cell_type": "markdown",
   "metadata": {},
   "source": [
    "## Scatter plots for standard (global)"
   ]
  },
  {
   "cell_type": "code",
   "execution_count": null,
   "metadata": {},
   "outputs": [],
   "source": [
    "\"\"\"exp.scatter_dominance(directory_path1, df_win, metric_name='AUC', method='', condition=\"Winning\")\n",
    "exp.scatter_dominance(directory_path1, df_lose, metric_name='AUC', method='', condition=\"Losing\")\"\"\""
   ]
  },
  {
   "cell_type": "code",
   "execution_count": null,
   "metadata": {},
   "outputs": [],
   "source": [
    "\"\"\"exp.scatter_dominance(directory_path1, df_win, 'Max Peak', method='', condition=\"Winning\")\n",
    "exp.scatter_dominance(directory_path1, df_lose, 'Max Peak', method='', condition=\"Losing\")\"\"\""
   ]
  },
  {
   "cell_type": "code",
   "execution_count": null,
   "metadata": {},
   "outputs": [],
   "source": [
    "\"\"\"exp.scatter_dominance(directory_path1, df_win, 'Mean Z-score', method='', condition='Winning')\n",
    "exp.scatter_dominance(directory_path1, df_lose, 'Mean Z-score', method='', condition='Losing')\"\"\""
   ]
  },
  {
   "cell_type": "markdown",
   "metadata": {},
   "source": [
    "## Scatter plots for Event Induced"
   ]
  },
  {
   "cell_type": "code",
   "execution_count": null,
   "metadata": {},
   "outputs": [],
   "source": [
    "\"\"\"exp.scatter_dominance(directory_path1, df_win, metric_name='AUC', method=' EI', condition=\"Winning\")\n",
    "exp.scatter_dominance(directory_path1, df_lose, metric_name='AUC', method=' EI', condition=\"Losing\")\"\"\""
   ]
  },
  {
   "cell_type": "code",
   "execution_count": null,
   "metadata": {},
   "outputs": [],
   "source": [
    "\"\"\"exp.scatter_dominance(directory_path1, df_win, metric_name='Max Peak', method=' EI', condition=\"Winning\")\n",
    "exp.scatter_dominance(directory_path1, df_lose, metric_name='Max Peak', method=' EI', condition=\"Losing\")\"\"\""
   ]
  },
  {
   "cell_type": "code",
   "execution_count": null,
   "metadata": {},
   "outputs": [],
   "source": [
    "\"\"\"exp.scatter_dominance(directory_path1, df_win, 'Mean Z-score', method=' EI', condition='Winning')\n",
    "exp.scatter_dominance(directory_path1, df_lose, 'Mean Z-score', method=' EI', condition='Losing')\"\"\""
   ]
  },
  {
   "cell_type": "markdown",
   "metadata": {},
   "source": [
    "## First Tone DA"
   ]
  },
  {
   "cell_type": "code",
   "execution_count": null,
   "metadata": {},
   "outputs": [],
   "source": [
    "\"\"\"exp.plot_conditional(df_first_win1, df_first_lose1, method='', metric_name='AUC Mean', directory_path=directory_path8)\n",
    "exp.plot_conditional(df_first_win1, df_first_lose1, method='', metric_name='Max Peak Mean', directory_path=directory_path8)\n",
    "exp.plot_conditional(df_first_win1, df_first_lose1, method='', metric_name='Mean Z-score Mean', directory_path=directory_path8)\n",
    "exp.plot_conditional(df_first_win1, df_first_lose1, method=' EI', metric_name='AUC Mean', directory_path=directory_path9)\n",
    "exp.plot_conditional(df_first_win1, df_first_lose1, method=' EI', metric_name='Max Peak Mean', directory_path=directory_path9)\n",
    "exp.plot_conditional(df_first_win1, df_first_lose1, method=' EI', metric_name='Mean Z-score Mean', directory_path=directory_path9)\"\"\"\n",
    "# exp.plot_conditional(df_last_win1, df_last_lose1, method=' EI', metric_name='AUC Mean', directory_path=directory_path9)"
   ]
  },
  {
   "cell_type": "code",
   "execution_count": null,
   "metadata": {},
   "outputs": [],
   "source": [
    "\"\"\"exp.scatter_dominance(directory_path1, df_first_win1, metric_name='AUC', method=' EI', condition=\"Winning\")\n",
    "exp.scatter_dominance(directory_path1, df_first_lose1, metric_name='AUC', method=' EI', condition=\"Losing\")\n",
    "exp.scatter_dominance(directory_path1, df_first_win1, metric_name='Max Peak', method=' EI', condition=\"Winning\")\n",
    "exp.scatter_dominance(directory_path1, df_first_lose1, metric_name='Max Peak', method=' EI', condition=\"Losing\")\n",
    "exp.scatter_dominance(directory_path1, df_first_win1, 'Mean Z-score', method=' EI', condition='Winning')\n",
    "exp.scatter_dominance(directory_path1, df_first_lose1, 'Mean Z-score', method=' EI', condition='Losing')\"\"\""
   ]
  }
 ],
 "metadata": {
  "kernelspec": {
   "display_name": "albertenv",
   "language": "python",
   "name": "python3"
  },
  "language_info": {
   "codemirror_mode": {
    "name": "ipython",
    "version": 3
   },
   "file_extension": ".py",
   "mimetype": "text/x-python",
   "name": "python",
   "nbconvert_exporter": "python",
   "pygments_lexer": "ipython3",
   "version": "3.12.9"
  }
 },
 "nbformat": 4,
 "nbformat_minor": 2
}
